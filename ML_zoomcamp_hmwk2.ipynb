{
  "nbformat": 4,
  "nbformat_minor": 0,
  "metadata": {
    "colab": {
      "name": "ML_zoomcamp_hmwk2.ipynb",
      "provenance": [],
      "authorship_tag": "ABX9TyO0PI+/jANbPvfk1I0ajCG3",
      "include_colab_link": true
    },
    "kernelspec": {
      "name": "python3",
      "display_name": "Python 3"
    },
    "language_info": {
      "name": "python"
    }
  },
  "cells": [
    {
      "cell_type": "markdown",
      "metadata": {
        "id": "view-in-github",
        "colab_type": "text"
      },
      "source": [
        "<a href=\"https://colab.research.google.com/github/godwinrockson/ML_zoomcamp_godwin/blob/main/ML_zoomcamp_hmwk2.ipynb\" target=\"_parent\"><img src=\"https://colab.research.google.com/assets/colab-badge.svg\" alt=\"Open In Colab\"/></a>"
      ]
    },
    {
      "cell_type": "markdown",
      "metadata": {
        "id": "YVgoTr4u8CWB"
      },
      "source": [
        "#Home-price prediction project \n",
        "\n",
        "In this project the aim is to use machine learning techniques to build home-price prediction model that can be deployed on a dealer's website such that when potential buyers get to the price and key in various features of the home they want, they are able to see the estimated price of the home.\n",
        "\n",
        "I use data from [here](https://raw.githubusercontent.com/alexeygrigorev/datasets/master/AB_NYC_2019.csv)."
      ]
    },
    {
      "cell_type": "code",
      "metadata": {
        "id": "tLj0jqso8aoT"
      },
      "source": [
        "import pandas as pd\n",
        "import numpy as np\n",
        "\n",
        "import seaborn as sns\n",
        "from matplotlib import pyplot as plt\n",
        "%matplotlib inline"
      ],
      "execution_count": 300,
      "outputs": []
    },
    {
      "cell_type": "code",
      "metadata": {
        "colab": {
          "base_uri": "https://localhost:8080/"
        },
        "id": "4BUv2i-M87Ld",
        "outputId": "eb1535cd-20ae-4369-852f-dc294dd6eb0b"
      },
      "source": [
        "#Load the data\n",
        "\n",
        "!wget https://raw.githubusercontent.com/alexeygrigorev/datasets/master/AB_NYC_2019.csv"
      ],
      "execution_count": 301,
      "outputs": [
        {
          "output_type": "stream",
          "name": "stdout",
          "text": [
            "--2021-09-20 00:54:52--  https://raw.githubusercontent.com/alexeygrigorev/datasets/master/AB_NYC_2019.csv\n",
            "Resolving raw.githubusercontent.com (raw.githubusercontent.com)... 185.199.108.133, 185.199.109.133, 185.199.110.133, ...\n",
            "Connecting to raw.githubusercontent.com (raw.githubusercontent.com)|185.199.108.133|:443... connected.\n",
            "HTTP request sent, awaiting response... 200 OK\n",
            "Length: 7077973 (6.8M) [text/plain]\n",
            "Saving to: ‘AB_NYC_2019.csv.3’\n",
            "\n",
            "AB_NYC_2019.csv.3   100%[===================>]   6.75M  --.-KB/s    in 0.09s   \n",
            "\n",
            "2021-09-20 00:54:52 (78.8 MB/s) - ‘AB_NYC_2019.csv.3’ saved [7077973/7077973]\n",
            "\n"
          ]
        }
      ]
    },
    {
      "cell_type": "code",
      "metadata": {
        "colab": {
          "base_uri": "https://localhost:8080/"
        },
        "id": "rNWRJCwj9FFo",
        "outputId": "565cc3e8-10fb-4273-905f-c451de530ab7"
      },
      "source": [
        "df = pd.read_csv('AB_NYC_2019.csv')\n",
        "len(df)"
      ],
      "execution_count": 302,
      "outputs": [
        {
          "output_type": "execute_result",
          "data": {
            "text/plain": [
              "48895"
            ]
          },
          "metadata": {},
          "execution_count": 302
        }
      ]
    },
    {
      "cell_type": "markdown",
      "metadata": {
        "id": "-3h8jwcp9Xpj"
      },
      "source": [
        "We see there are 48,895 rows of data. "
      ]
    },
    {
      "cell_type": "markdown",
      "metadata": {
        "id": "TqpiqDSj9qL2"
      },
      "source": [
        "##Exploratory Data Analysis: Understanding the Data"
      ]
    },
    {
      "cell_type": "markdown",
      "metadata": {
        "id": "CGtYNk6I9z78"
      },
      "source": [
        "###1. Cleaning the data\n",
        "Let's display the first five rows of our data. "
      ]
    },
    {
      "cell_type": "code",
      "metadata": {
        "colab": {
          "base_uri": "https://localhost:8080/",
          "height": 408
        },
        "id": "HMFnUIGF93F6",
        "outputId": "3d7d54a4-0d7a-4e83-bcd2-6e5f4d0391ca"
      },
      "source": [
        "df.head()"
      ],
      "execution_count": 303,
      "outputs": [
        {
          "output_type": "execute_result",
          "data": {
            "text/html": [
              "<div>\n",
              "<style scoped>\n",
              "    .dataframe tbody tr th:only-of-type {\n",
              "        vertical-align: middle;\n",
              "    }\n",
              "\n",
              "    .dataframe tbody tr th {\n",
              "        vertical-align: top;\n",
              "    }\n",
              "\n",
              "    .dataframe thead th {\n",
              "        text-align: right;\n",
              "    }\n",
              "</style>\n",
              "<table border=\"1\" class=\"dataframe\">\n",
              "  <thead>\n",
              "    <tr style=\"text-align: right;\">\n",
              "      <th></th>\n",
              "      <th>id</th>\n",
              "      <th>name</th>\n",
              "      <th>host_id</th>\n",
              "      <th>host_name</th>\n",
              "      <th>neighbourhood_group</th>\n",
              "      <th>neighbourhood</th>\n",
              "      <th>latitude</th>\n",
              "      <th>longitude</th>\n",
              "      <th>room_type</th>\n",
              "      <th>price</th>\n",
              "      <th>minimum_nights</th>\n",
              "      <th>number_of_reviews</th>\n",
              "      <th>last_review</th>\n",
              "      <th>reviews_per_month</th>\n",
              "      <th>calculated_host_listings_count</th>\n",
              "      <th>availability_365</th>\n",
              "    </tr>\n",
              "  </thead>\n",
              "  <tbody>\n",
              "    <tr>\n",
              "      <th>0</th>\n",
              "      <td>2539</td>\n",
              "      <td>Clean &amp; quiet apt home by the park</td>\n",
              "      <td>2787</td>\n",
              "      <td>John</td>\n",
              "      <td>Brooklyn</td>\n",
              "      <td>Kensington</td>\n",
              "      <td>40.64749</td>\n",
              "      <td>-73.97237</td>\n",
              "      <td>Private room</td>\n",
              "      <td>149</td>\n",
              "      <td>1</td>\n",
              "      <td>9</td>\n",
              "      <td>2018-10-19</td>\n",
              "      <td>0.21</td>\n",
              "      <td>6</td>\n",
              "      <td>365</td>\n",
              "    </tr>\n",
              "    <tr>\n",
              "      <th>1</th>\n",
              "      <td>2595</td>\n",
              "      <td>Skylit Midtown Castle</td>\n",
              "      <td>2845</td>\n",
              "      <td>Jennifer</td>\n",
              "      <td>Manhattan</td>\n",
              "      <td>Midtown</td>\n",
              "      <td>40.75362</td>\n",
              "      <td>-73.98377</td>\n",
              "      <td>Entire home/apt</td>\n",
              "      <td>225</td>\n",
              "      <td>1</td>\n",
              "      <td>45</td>\n",
              "      <td>2019-05-21</td>\n",
              "      <td>0.38</td>\n",
              "      <td>2</td>\n",
              "      <td>355</td>\n",
              "    </tr>\n",
              "    <tr>\n",
              "      <th>2</th>\n",
              "      <td>3647</td>\n",
              "      <td>THE VILLAGE OF HARLEM....NEW YORK !</td>\n",
              "      <td>4632</td>\n",
              "      <td>Elisabeth</td>\n",
              "      <td>Manhattan</td>\n",
              "      <td>Harlem</td>\n",
              "      <td>40.80902</td>\n",
              "      <td>-73.94190</td>\n",
              "      <td>Private room</td>\n",
              "      <td>150</td>\n",
              "      <td>3</td>\n",
              "      <td>0</td>\n",
              "      <td>NaN</td>\n",
              "      <td>NaN</td>\n",
              "      <td>1</td>\n",
              "      <td>365</td>\n",
              "    </tr>\n",
              "    <tr>\n",
              "      <th>3</th>\n",
              "      <td>3831</td>\n",
              "      <td>Cozy Entire Floor of Brownstone</td>\n",
              "      <td>4869</td>\n",
              "      <td>LisaRoxanne</td>\n",
              "      <td>Brooklyn</td>\n",
              "      <td>Clinton Hill</td>\n",
              "      <td>40.68514</td>\n",
              "      <td>-73.95976</td>\n",
              "      <td>Entire home/apt</td>\n",
              "      <td>89</td>\n",
              "      <td>1</td>\n",
              "      <td>270</td>\n",
              "      <td>2019-07-05</td>\n",
              "      <td>4.64</td>\n",
              "      <td>1</td>\n",
              "      <td>194</td>\n",
              "    </tr>\n",
              "    <tr>\n",
              "      <th>4</th>\n",
              "      <td>5022</td>\n",
              "      <td>Entire Apt: Spacious Studio/Loft by central park</td>\n",
              "      <td>7192</td>\n",
              "      <td>Laura</td>\n",
              "      <td>Manhattan</td>\n",
              "      <td>East Harlem</td>\n",
              "      <td>40.79851</td>\n",
              "      <td>-73.94399</td>\n",
              "      <td>Entire home/apt</td>\n",
              "      <td>80</td>\n",
              "      <td>10</td>\n",
              "      <td>9</td>\n",
              "      <td>2018-11-19</td>\n",
              "      <td>0.10</td>\n",
              "      <td>1</td>\n",
              "      <td>0</td>\n",
              "    </tr>\n",
              "  </tbody>\n",
              "</table>\n",
              "</div>"
            ],
            "text/plain": [
              "     id  ... availability_365\n",
              "0  2539  ...              365\n",
              "1  2595  ...              355\n",
              "2  3647  ...              365\n",
              "3  3831  ...              194\n",
              "4  5022  ...                0\n",
              "\n",
              "[5 rows x 16 columns]"
            ]
          },
          "metadata": {},
          "execution_count": 303
        }
      ]
    },
    {
      "cell_type": "markdown",
      "metadata": {
        "id": "ArQhbIyO-Ybw"
      },
      "source": [
        "We see that the column names have a uniform partten. Those names that are multi-worded are hyphenated. Still all are lowercase.\n",
        "\n",
        "However, this is not the case with respect to values of string-valued columns/variables. Let's normalize the values of these non-numerical variables."
      ]
    },
    {
      "cell_type": "code",
      "metadata": {
        "id": "b_0_J3hz_5Mx"
      },
      "source": [
        "string_columns = list(df.dtypes[df.dtypes == 'object'].index) #Select only columns with string values. \n",
        "\n",
        "for col in string_columns:\n",
        "    df[col] = df[col].str.lower().str.replace(' ', '_') #Lowercase and replace spaces with underscores for values in all string columns of the dataframe"
      ],
      "execution_count": 304,
      "outputs": []
    },
    {
      "cell_type": "markdown",
      "metadata": {
        "id": "X6QYEwH7AGTH"
      },
      "source": [
        "Now take a look at the first five rows again. We have normalized the string column names and values to avoid any confusions."
      ]
    },
    {
      "cell_type": "code",
      "metadata": {
        "colab": {
          "base_uri": "https://localhost:8080/",
          "height": 223
        },
        "id": "0HiGHIOUAKw9",
        "outputId": "1ee66c8b-c980-47ae-9cf3-2bf133fedc58"
      },
      "source": [
        "df.head()"
      ],
      "execution_count": 305,
      "outputs": [
        {
          "output_type": "execute_result",
          "data": {
            "text/html": [
              "<div>\n",
              "<style scoped>\n",
              "    .dataframe tbody tr th:only-of-type {\n",
              "        vertical-align: middle;\n",
              "    }\n",
              "\n",
              "    .dataframe tbody tr th {\n",
              "        vertical-align: top;\n",
              "    }\n",
              "\n",
              "    .dataframe thead th {\n",
              "        text-align: right;\n",
              "    }\n",
              "</style>\n",
              "<table border=\"1\" class=\"dataframe\">\n",
              "  <thead>\n",
              "    <tr style=\"text-align: right;\">\n",
              "      <th></th>\n",
              "      <th>id</th>\n",
              "      <th>name</th>\n",
              "      <th>host_id</th>\n",
              "      <th>host_name</th>\n",
              "      <th>neighbourhood_group</th>\n",
              "      <th>neighbourhood</th>\n",
              "      <th>latitude</th>\n",
              "      <th>longitude</th>\n",
              "      <th>room_type</th>\n",
              "      <th>price</th>\n",
              "      <th>minimum_nights</th>\n",
              "      <th>number_of_reviews</th>\n",
              "      <th>last_review</th>\n",
              "      <th>reviews_per_month</th>\n",
              "      <th>calculated_host_listings_count</th>\n",
              "      <th>availability_365</th>\n",
              "    </tr>\n",
              "  </thead>\n",
              "  <tbody>\n",
              "    <tr>\n",
              "      <th>0</th>\n",
              "      <td>2539</td>\n",
              "      <td>clean_&amp;_quiet_apt_home_by_the_park</td>\n",
              "      <td>2787</td>\n",
              "      <td>john</td>\n",
              "      <td>brooklyn</td>\n",
              "      <td>kensington</td>\n",
              "      <td>40.64749</td>\n",
              "      <td>-73.97237</td>\n",
              "      <td>private_room</td>\n",
              "      <td>149</td>\n",
              "      <td>1</td>\n",
              "      <td>9</td>\n",
              "      <td>2018-10-19</td>\n",
              "      <td>0.21</td>\n",
              "      <td>6</td>\n",
              "      <td>365</td>\n",
              "    </tr>\n",
              "    <tr>\n",
              "      <th>1</th>\n",
              "      <td>2595</td>\n",
              "      <td>skylit_midtown_castle</td>\n",
              "      <td>2845</td>\n",
              "      <td>jennifer</td>\n",
              "      <td>manhattan</td>\n",
              "      <td>midtown</td>\n",
              "      <td>40.75362</td>\n",
              "      <td>-73.98377</td>\n",
              "      <td>entire_home/apt</td>\n",
              "      <td>225</td>\n",
              "      <td>1</td>\n",
              "      <td>45</td>\n",
              "      <td>2019-05-21</td>\n",
              "      <td>0.38</td>\n",
              "      <td>2</td>\n",
              "      <td>355</td>\n",
              "    </tr>\n",
              "    <tr>\n",
              "      <th>2</th>\n",
              "      <td>3647</td>\n",
              "      <td>the_village_of_harlem....new_york_!</td>\n",
              "      <td>4632</td>\n",
              "      <td>elisabeth</td>\n",
              "      <td>manhattan</td>\n",
              "      <td>harlem</td>\n",
              "      <td>40.80902</td>\n",
              "      <td>-73.94190</td>\n",
              "      <td>private_room</td>\n",
              "      <td>150</td>\n",
              "      <td>3</td>\n",
              "      <td>0</td>\n",
              "      <td>NaN</td>\n",
              "      <td>NaN</td>\n",
              "      <td>1</td>\n",
              "      <td>365</td>\n",
              "    </tr>\n",
              "    <tr>\n",
              "      <th>3</th>\n",
              "      <td>3831</td>\n",
              "      <td>cozy_entire_floor_of_brownstone</td>\n",
              "      <td>4869</td>\n",
              "      <td>lisaroxanne</td>\n",
              "      <td>brooklyn</td>\n",
              "      <td>clinton_hill</td>\n",
              "      <td>40.68514</td>\n",
              "      <td>-73.95976</td>\n",
              "      <td>entire_home/apt</td>\n",
              "      <td>89</td>\n",
              "      <td>1</td>\n",
              "      <td>270</td>\n",
              "      <td>2019-07-05</td>\n",
              "      <td>4.64</td>\n",
              "      <td>1</td>\n",
              "      <td>194</td>\n",
              "    </tr>\n",
              "    <tr>\n",
              "      <th>4</th>\n",
              "      <td>5022</td>\n",
              "      <td>entire_apt:_spacious_studio/loft_by_central_park</td>\n",
              "      <td>7192</td>\n",
              "      <td>laura</td>\n",
              "      <td>manhattan</td>\n",
              "      <td>east_harlem</td>\n",
              "      <td>40.79851</td>\n",
              "      <td>-73.94399</td>\n",
              "      <td>entire_home/apt</td>\n",
              "      <td>80</td>\n",
              "      <td>10</td>\n",
              "      <td>9</td>\n",
              "      <td>2018-11-19</td>\n",
              "      <td>0.10</td>\n",
              "      <td>1</td>\n",
              "      <td>0</td>\n",
              "    </tr>\n",
              "  </tbody>\n",
              "</table>\n",
              "</div>"
            ],
            "text/plain": [
              "     id  ... availability_365\n",
              "0  2539  ...              365\n",
              "1  2595  ...              355\n",
              "2  3647  ...              365\n",
              "3  3831  ...              194\n",
              "4  5022  ...                0\n",
              "\n",
              "[5 rows x 16 columns]"
            ]
          },
          "metadata": {},
          "execution_count": 305
        }
      ]
    },
    {
      "cell_type": "markdown",
      "metadata": {
        "id": "lUz2YXaRAuqb"
      },
      "source": [
        "###2 Target (dependent) variable  analysis\n",
        "\n",
        "The first main step in conducting an exploratory data analysis (EDA) is to consider the type snd distribution of the outcome variable to be predicted (being modeled). In this project the target variable is the price, ```price```.\n",
        "\n",
        "I use histogram to observe the distribution since the values are numerical (integers)."
      ]
    },
    {
      "cell_type": "code",
      "metadata": {
        "colab": {
          "base_uri": "https://localhost:8080/",
          "height": 295
        },
        "id": "0ITurU_0A1Vd",
        "outputId": "4b63440e-560c-4a9a-cbc7-b51a328d5308"
      },
      "source": [
        "plt.figure(figsize=(6, 4))\n",
        "\n",
        "sns.histplot(df.price, bins=80, color='blue', alpha=1) #uses histplot function from seaborn\n",
        "plt.ylabel('Frequency')\n",
        "plt.xlabel('Price')\n",
        "plt.ticklabel_format(axis='x', style='plain')\n",
        "plt.title('Distribution of prices')\n",
        "\n",
        "plt.show()"
      ],
      "execution_count": 306,
      "outputs": [
        {
          "output_type": "display_data",
          "data": {
            "image/png": "[encoded data removed]",
            "text/plain": [
              "<Figure size 432x288 with 1 Axes>"
            ]
          },
          "metadata": {
            "needs_background": "light"
          }
        }
      ]
    },
    {
      "cell_type": "markdown",
      "metadata": {
        "id": "TiFG0BIeCIgG"
      },
      "source": [
        "Clearly we see the distribution of prices is right-skewed - a long tail a the right. There are numerous cars with very low prices while there are very few cars with extreme prices."
      ]
    },
    {
      "cell_type": "markdown",
      "metadata": {
        "id": "wsCI8C_uCNXR"
      },
      "source": [
        "We can plot only prices below $5,000 to see clearly the distribution without the valuesin the tail."
      ]
    },
    {
      "cell_type": "code",
      "metadata": {
        "colab": {
          "base_uri": "https://localhost:8080/",
          "height": 295
        },
        "id": "fWGBSPCMCb6C",
        "outputId": "86908598-859b-40fd-bc7a-2fe7f5d6870d"
      },
      "source": [
        "plt.figure(figsize=(6, 4))\n",
        "\n",
        "sns.histplot(df.price[df.price < 2000], bins=80, color='blue', alpha=1)\n",
        "plt.ylabel('Frequency')\n",
        "plt.xlabel('Price')\n",
        "plt.title('Distribution of prices')\n",
        "\n",
        "plt.show()"
      ],
      "execution_count": 307,
      "outputs": [
        {
          "output_type": "display_data",
          "data": {
            "image/png": "[encoded data removed]",
            "text/plain": [
              "<Figure size 432x288 with 1 Axes>"
            ]
          },
          "metadata": {
            "needs_background": "light"
          }
        }
      ]
    },
    {
      "cell_type": "markdown",
      "metadata": {
        "id": "1wGYZ-YQC-RA"
      },
      "source": [
        "####Target variable transformation\n",
        "\n",
        "To ensure our model learns the patterns in the data properly, we need to transform the values of the target variable. Applying a log transformation is a popular way to attempt to make the distribution less skewed or even normal/symmetric."
      ]
    },
    {
      "cell_type": "code",
      "metadata": {
        "colab": {
          "base_uri": "https://localhost:8080/",
          "height": 295
        },
        "id": "HT97Gix_DC8N",
        "outputId": "a7ded377-4a33-42a5-a2fc-db32e93bb645"
      },
      "source": [
        "log_price = np.log1p(df.price)\n",
        "\n",
        "plt.figure(figsize=(6, 4))\n",
        "\n",
        "sns.histplot(log_price, bins=80, color='blue', alpha=1)\n",
        "plt.ylabel('Frequency')\n",
        "plt.xlabel('Log(Price + 1)')\n",
        "plt.title('Distribution of prices after log tranformation')\n",
        "\n",
        "plt.show()"
      ],
      "execution_count": 308,
      "outputs": [
        {
          "output_type": "display_data",
          "data": {
            "image/png": "[encoded data removed]",
            "text/plain": [
              "<Figure size 432x288 with 1 Axes>"
            ]
          },
          "metadata": {
            "needs_background": "light"
          }
        }
      ]
    },
    {
      "cell_type": "markdown",
      "metadata": {
        "id": "2VKO4XVZJG7d"
      },
      "source": [
        "Though the shape is not completely bell-shape, the long tail has been reduced and now our model can learn the patterns much better."
      ]
    },
    {
      "cell_type": "markdown",
      "metadata": {
        "id": "aM0IkAZCPB8V"
      },
      "source": [
        "###3. Chcking for missing values\n",
        "\n",
        "Another important task in EDA is to know whether there are missing values and how to handle them."
      ]
    },
    {
      "cell_type": "code",
      "metadata": {
        "colab": {
          "base_uri": "https://localhost:8080/"
        },
        "id": "Gpe_QecRPpMr",
        "outputId": "c7d4d32a-0978-412d-b1b4-2a3916efd379"
      },
      "source": [
        "df.isnull().sum()"
      ],
      "execution_count": 309,
      "outputs": [
        {
          "output_type": "execute_result",
          "data": {
            "text/plain": [
              "id                                    0\n",
              "name                                 16\n",
              "host_id                               0\n",
              "host_name                            21\n",
              "neighbourhood_group                   0\n",
              "neighbourhood                         0\n",
              "latitude                              0\n",
              "longitude                             0\n",
              "room_type                             0\n",
              "price                                 0\n",
              "minimum_nights                        0\n",
              "number_of_reviews                     0\n",
              "last_review                       10052\n",
              "reviews_per_month                 10052\n",
              "calculated_host_listings_count        0\n",
              "availability_365                      0\n",
              "dtype: int64"
            ]
          },
          "metadata": {},
          "execution_count": 309
        }
      ]
    },
    {
      "cell_type": "markdown",
      "metadata": {
        "id": "a_hxEF4LQN69"
      },
      "source": [
        "We see that ```name```, ```host_name```, ```last_review``` and ```reviews_per_month``` all have some missing values. However, our target variable, ```price`` has no missing values - a good situation as we do not have to think of handling missing prices."
      ]
    },
    {
      "cell_type": "markdown",
      "metadata": {
        "id": "lJ8uDeQ5Ri5M"
      },
      "source": [
        "For this specific project, I will be using the following variables:\n",
        "* ```latitude```\n",
        "* ```longitude```\n",
        "* ```price```\n",
        "* ```minimum_nights```\n",
        "* ```number_of_reviews```\n",
        "* ```reviews_per_month```\n",
        "* ```calculated_host_listings_count```\n",
        "* ```availability_365```\n",
        "\n",
        "So I can select them to a different named dataset."
      ]
    },
    {
      "cell_type": "code",
      "metadata": {
        "colab": {
          "base_uri": "https://localhost:8080/",
          "height": 203
        },
        "id": "5ObZU9fxSmgU",
        "outputId": "8c4981fa-614d-4287-89d3-5baaa6d7d151"
      },
      "source": [
        "df1 = df[['latitude',\n",
        "'longitude',\n",
        "'price',\n",
        "'minimum_nights',\n",
        "'number_of_reviews',\n",
        "'reviews_per_month',\n",
        "'calculated_host_listings_count',\n",
        "'availability_365']]\n",
        "\n",
        "df1.head()"
      ],
      "execution_count": 310,
      "outputs": [
        {
          "output_type": "execute_result",
          "data": {
            "text/html": [
              "<div>\n",
              "<style scoped>\n",
              "    .dataframe tbody tr th:only-of-type {\n",
              "        vertical-align: middle;\n",
              "    }\n",
              "\n",
              "    .dataframe tbody tr th {\n",
              "        vertical-align: top;\n",
              "    }\n",
              "\n",
              "    .dataframe thead th {\n",
              "        text-align: right;\n",
              "    }\n",
              "</style>\n",
              "<table border=\"1\" class=\"dataframe\">\n",
              "  <thead>\n",
              "    <tr style=\"text-align: right;\">\n",
              "      <th></th>\n",
              "      <th>latitude</th>\n",
              "      <th>longitude</th>\n",
              "      <th>price</th>\n",
              "      <th>minimum_nights</th>\n",
              "      <th>number_of_reviews</th>\n",
              "      <th>reviews_per_month</th>\n",
              "      <th>calculated_host_listings_count</th>\n",
              "      <th>availability_365</th>\n",
              "    </tr>\n",
              "  </thead>\n",
              "  <tbody>\n",
              "    <tr>\n",
              "      <th>0</th>\n",
              "      <td>40.64749</td>\n",
              "      <td>-73.97237</td>\n",
              "      <td>149</td>\n",
              "      <td>1</td>\n",
              "      <td>9</td>\n",
              "      <td>0.21</td>\n",
              "      <td>6</td>\n",
              "      <td>365</td>\n",
              "    </tr>\n",
              "    <tr>\n",
              "      <th>1</th>\n",
              "      <td>40.75362</td>\n",
              "      <td>-73.98377</td>\n",
              "      <td>225</td>\n",
              "      <td>1</td>\n",
              "      <td>45</td>\n",
              "      <td>0.38</td>\n",
              "      <td>2</td>\n",
              "      <td>355</td>\n",
              "    </tr>\n",
              "    <tr>\n",
              "      <th>2</th>\n",
              "      <td>40.80902</td>\n",
              "      <td>-73.94190</td>\n",
              "      <td>150</td>\n",
              "      <td>3</td>\n",
              "      <td>0</td>\n",
              "      <td>NaN</td>\n",
              "      <td>1</td>\n",
              "      <td>365</td>\n",
              "    </tr>\n",
              "    <tr>\n",
              "      <th>3</th>\n",
              "      <td>40.68514</td>\n",
              "      <td>-73.95976</td>\n",
              "      <td>89</td>\n",
              "      <td>1</td>\n",
              "      <td>270</td>\n",
              "      <td>4.64</td>\n",
              "      <td>1</td>\n",
              "      <td>194</td>\n",
              "    </tr>\n",
              "    <tr>\n",
              "      <th>4</th>\n",
              "      <td>40.79851</td>\n",
              "      <td>-73.94399</td>\n",
              "      <td>80</td>\n",
              "      <td>10</td>\n",
              "      <td>9</td>\n",
              "      <td>0.10</td>\n",
              "      <td>1</td>\n",
              "      <td>0</td>\n",
              "    </tr>\n",
              "  </tbody>\n",
              "</table>\n",
              "</div>"
            ],
            "text/plain": [
              "   latitude  longitude  ...  calculated_host_listings_count  availability_365\n",
              "0  40.64749  -73.97237  ...                               6               365\n",
              "1  40.75362  -73.98377  ...                               2               355\n",
              "2  40.80902  -73.94190  ...                               1               365\n",
              "3  40.68514  -73.95976  ...                               1               194\n",
              "4  40.79851  -73.94399  ...                               1                 0\n",
              "\n",
              "[5 rows x 8 columns]"
            ]
          },
          "metadata": {},
          "execution_count": 310
        }
      ]
    },
    {
      "cell_type": "code",
      "metadata": {
        "colab": {
          "base_uri": "https://localhost:8080/"
        },
        "id": "CMlGQ0KyThN8",
        "outputId": "2b422681-aeaf-45b4-d00e-8a5a090a7e35"
      },
      "source": [
        "df1.isnull().sum()"
      ],
      "execution_count": 311,
      "outputs": [
        {
          "output_type": "execute_result",
          "data": {
            "text/plain": [
              "latitude                              0\n",
              "longitude                             0\n",
              "price                                 0\n",
              "minimum_nights                        0\n",
              "number_of_reviews                     0\n",
              "reviews_per_month                 10052\n",
              "calculated_host_listings_count        0\n",
              "availability_365                      0\n",
              "dtype: int64"
            ]
          },
          "metadata": {},
          "execution_count": 311
        }
      ]
    },
    {
      "cell_type": "markdown",
      "metadata": {
        "id": "ly3YCK_WTnK0"
      },
      "source": [
        "So in this case, only ```reviews_per_month``` has missing values, totalling 10,052."
      ]
    },
    {
      "cell_type": "markdown",
      "metadata": {
        "id": "5jEiv8wsYk7h"
      },
      "source": [
        "Let's take a look at the unique values of each variable and get their sum"
      ]
    },
    {
      "cell_type": "code",
      "metadata": {
        "colab": {
          "base_uri": "https://localhost:8080/"
        },
        "id": "oyayu4m_ZUjC",
        "outputId": "3a32575c-6661-4e3e-eea7-c6f2c5655df3"
      },
      "source": [
        "for col in df1.columns:\n",
        "  print(col)\n",
        "  print(df1[col].unique()[:5]) #first five unique values\n",
        "  print(df1[col].nunique())\n",
        "  print()"
      ],
      "execution_count": 312,
      "outputs": [
        {
          "output_type": "stream",
          "name": "stdout",
          "text": [
            "latitude\n",
            "[40.64749 40.75362 40.80902 40.68514 40.79851]\n",
            "19048\n",
            "\n",
            "longitude\n",
            "[-73.97237 -73.98377 -73.9419  -73.95976 -73.94399]\n",
            "14718\n",
            "\n",
            "price\n",
            "[149 225 150  89  80]\n",
            "674\n",
            "\n",
            "minimum_nights\n",
            "[ 1  3 10 45  2]\n",
            "109\n",
            "\n",
            "number_of_reviews\n",
            "[  9  45   0 270  74]\n",
            "394\n",
            "\n",
            "reviews_per_month\n",
            "[0.21 0.38  nan 4.64 0.1 ]\n",
            "937\n",
            "\n",
            "calculated_host_listings_count\n",
            "[6 2 1 4 3]\n",
            "47\n",
            "\n",
            "availability_365\n",
            "[365 355 194   0 129]\n",
            "366\n",
            "\n"
          ]
        }
      ]
    },
    {
      "cell_type": "markdown",
      "metadata": {
        "id": "xkRWWbtWfjD_"
      },
      "source": [
        "Let's take a look at some summary statistics"
      ]
    },
    {
      "cell_type": "code",
      "metadata": {
        "colab": {
          "base_uri": "https://localhost:8080/",
          "height": 295
        },
        "id": "0ABHtO1if12Z",
        "outputId": "162fdca3-c3a3-4963-f557-31fdbea1d470"
      },
      "source": [
        "df1.describe()"
      ],
      "execution_count": 313,
      "outputs": [
        {
          "output_type": "execute_result",
          "data": {
            "text/html": [
              "<div>\n",
              "<style scoped>\n",
              "    .dataframe tbody tr th:only-of-type {\n",
              "        vertical-align: middle;\n",
              "    }\n",
              "\n",
              "    .dataframe tbody tr th {\n",
              "        vertical-align: top;\n",
              "    }\n",
              "\n",
              "    .dataframe thead th {\n",
              "        text-align: right;\n",
              "    }\n",
              "</style>\n",
              "<table border=\"1\" class=\"dataframe\">\n",
              "  <thead>\n",
              "    <tr style=\"text-align: right;\">\n",
              "      <th></th>\n",
              "      <th>latitude</th>\n",
              "      <th>longitude</th>\n",
              "      <th>price</th>\n",
              "      <th>minimum_nights</th>\n",
              "      <th>number_of_reviews</th>\n",
              "      <th>reviews_per_month</th>\n",
              "      <th>calculated_host_listings_count</th>\n",
              "      <th>availability_365</th>\n",
              "    </tr>\n",
              "  </thead>\n",
              "  <tbody>\n",
              "    <tr>\n",
              "      <th>count</th>\n",
              "      <td>48895.000000</td>\n",
              "      <td>48895.000000</td>\n",
              "      <td>48895.000000</td>\n",
              "      <td>48895.000000</td>\n",
              "      <td>48895.000000</td>\n",
              "      <td>38843.000000</td>\n",
              "      <td>48895.000000</td>\n",
              "      <td>48895.000000</td>\n",
              "    </tr>\n",
              "    <tr>\n",
              "      <th>mean</th>\n",
              "      <td>40.728949</td>\n",
              "      <td>-73.952170</td>\n",
              "      <td>152.720687</td>\n",
              "      <td>7.029962</td>\n",
              "      <td>23.274466</td>\n",
              "      <td>1.373221</td>\n",
              "      <td>7.143982</td>\n",
              "      <td>112.781327</td>\n",
              "    </tr>\n",
              "    <tr>\n",
              "      <th>std</th>\n",
              "      <td>0.054530</td>\n",
              "      <td>0.046157</td>\n",
              "      <td>240.154170</td>\n",
              "      <td>20.510550</td>\n",
              "      <td>44.550582</td>\n",
              "      <td>1.680442</td>\n",
              "      <td>32.952519</td>\n",
              "      <td>131.622289</td>\n",
              "    </tr>\n",
              "    <tr>\n",
              "      <th>min</th>\n",
              "      <td>40.499790</td>\n",
              "      <td>-74.244420</td>\n",
              "      <td>0.000000</td>\n",
              "      <td>1.000000</td>\n",
              "      <td>0.000000</td>\n",
              "      <td>0.010000</td>\n",
              "      <td>1.000000</td>\n",
              "      <td>0.000000</td>\n",
              "    </tr>\n",
              "    <tr>\n",
              "      <th>25%</th>\n",
              "      <td>40.690100</td>\n",
              "      <td>-73.983070</td>\n",
              "      <td>69.000000</td>\n",
              "      <td>1.000000</td>\n",
              "      <td>1.000000</td>\n",
              "      <td>0.190000</td>\n",
              "      <td>1.000000</td>\n",
              "      <td>0.000000</td>\n",
              "    </tr>\n",
              "    <tr>\n",
              "      <th>50%</th>\n",
              "      <td>40.723070</td>\n",
              "      <td>-73.955680</td>\n",
              "      <td>106.000000</td>\n",
              "      <td>3.000000</td>\n",
              "      <td>5.000000</td>\n",
              "      <td>0.720000</td>\n",
              "      <td>1.000000</td>\n",
              "      <td>45.000000</td>\n",
              "    </tr>\n",
              "    <tr>\n",
              "      <th>75%</th>\n",
              "      <td>40.763115</td>\n",
              "      <td>-73.936275</td>\n",
              "      <td>175.000000</td>\n",
              "      <td>5.000000</td>\n",
              "      <td>24.000000</td>\n",
              "      <td>2.020000</td>\n",
              "      <td>2.000000</td>\n",
              "      <td>227.000000</td>\n",
              "    </tr>\n",
              "    <tr>\n",
              "      <th>max</th>\n",
              "      <td>40.913060</td>\n",
              "      <td>-73.712990</td>\n",
              "      <td>10000.000000</td>\n",
              "      <td>1250.000000</td>\n",
              "      <td>629.000000</td>\n",
              "      <td>58.500000</td>\n",
              "      <td>327.000000</td>\n",
              "      <td>365.000000</td>\n",
              "    </tr>\n",
              "  </tbody>\n",
              "</table>\n",
              "</div>"
            ],
            "text/plain": [
              "           latitude  ...  availability_365\n",
              "count  48895.000000  ...      48895.000000\n",
              "mean      40.728949  ...        112.781327\n",
              "std        0.054530  ...        131.622289\n",
              "min       40.499790  ...          0.000000\n",
              "25%       40.690100  ...          0.000000\n",
              "50%       40.723070  ...         45.000000\n",
              "75%       40.763115  ...        227.000000\n",
              "max       40.913060  ...        365.000000\n",
              "\n",
              "[8 rows x 8 columns]"
            ]
          },
          "metadata": {},
          "execution_count": 313
        }
      ]
    },
    {
      "cell_type": "markdown",
      "metadata": {
        "id": "1qsnIoXkgaAa"
      },
      "source": [
        "We can compute these statistics individually for each variable. For example, the median for ```minimum_nights``` is the following:"
      ]
    },
    {
      "cell_type": "code",
      "metadata": {
        "colab": {
          "base_uri": "https://localhost:8080/"
        },
        "id": "JUR3qKuWf6X-",
        "outputId": "f587ec70-4822-48b2-873c-3c43e790b3b9"
      },
      "source": [
        "df1['minimum_nights'].median()"
      ],
      "execution_count": 314,
      "outputs": [
        {
          "output_type": "execute_result",
          "data": {
            "text/plain": [
              "3.0"
            ]
          },
          "metadata": {},
          "execution_count": 314
        }
      ]
    },
    {
      "cell_type": "markdown",
      "metadata": {
        "id": "vr2YG_77nUyS"
      },
      "source": [
        "##Setting up validation Framework\n",
        "\n",
        "Next we Split the data into validation, training and test sets."
      ]
    },
    {
      "cell_type": "markdown",
      "metadata": {
        "id": "tFZ9KIFTn4jL"
      },
      "source": [
        "###1. Splitting data into two - 80 : 20 - proportions\n",
        "\n",
        "The 20% data will be used for validating the model. We will then split the remaining 80 % also into 80 : 20 proportions for training and test sets respectively."
      ]
    },
    {
      "cell_type": "markdown",
      "metadata": {
        "id": "JSkJKFoYq0PN"
      },
      "source": [
        "In otherwords, we will split the dataframe such that: \n",
        "* 20% of data goes to validation, \n",
        "* 20% goes to test, and \n",
        "* the remaining 60% goes to train. "
      ]
    },
    {
      "cell_type": "code",
      "metadata": {
        "id": "7XQcBPkOo9LC"
      },
      "source": [
        "np.random.seed(42)  #Fix the random seed to make sure that the results are reproducible\n",
        "\n",
        "n = len(df1) #Get the number of rows in the dataframe\n",
        "\n",
        "n_val = int(0.2 * n) # Calculate how many rows should go to validation. \n",
        "n_test = int(0.2 * n) # Calculate how many rows should go to test. \n",
        "n_train = n - (n_val + n_test) #Calculate how many rows should go to train. \n",
        "\n",
        "idx = np.arange(n) #Create a NumPy array with indices from 0 to (n-1) \n",
        "np.random.shuffle(idx) #this randomly shuffles the array created above\n",
        "\n",
        "df_shuffled = df1.iloc[idx] #Use the array with indices to get a shuffled dataframe\n",
        "\n",
        "# Below split the shuffled dataframe into train, validation, and test. We make a copy\n",
        "df_train = df_shuffled.iloc[:n_train].copy()\n",
        "df_val = df_shuffled.iloc[n_train:n_train+n_val].copy()\n",
        "df_test = df_shuffled.iloc[n_train+n_val:].copy()"
      ],
      "execution_count": 315,
      "outputs": []
    },
    {
      "cell_type": "markdown",
      "metadata": {
        "id": "tOtEhVF4tKdg"
      },
      "source": [
        "Now we can log-transform our target variable ```price``` for each set."
      ]
    },
    {
      "cell_type": "code",
      "metadata": {
        "id": "aXx08_frtjRh"
      },
      "source": [
        "y_train = np.log1p(df_train.price.values) \n",
        "y_val = np.log1p(df_val.price.values) \n",
        "y_test = np.log1p(df_test.price.values) "
      ],
      "execution_count": 316,
      "outputs": []
    },
    {
      "cell_type": "markdown",
      "metadata": {
        "id": "XUD2KGBSty6a"
      },
      "source": [
        "To be sure we avoid accidentally using the target variable in its original form later in the model building, let’s remove it from the dataframes"
      ]
    },
    {
      "cell_type": "code",
      "metadata": {
        "id": "1fk8Rwskt_GR"
      },
      "source": [
        "del df_train['price'] \n",
        "del df_val['price'] \n",
        "del df_test['price'] "
      ],
      "execution_count": 317,
      "outputs": []
    },
    {
      "cell_type": "markdown",
      "metadata": {
        "id": "SKXmq9esuvmv"
      },
      "source": [
        "## Linear Regression\n",
        "\n",
        "Next, we start to build a linear regression model to predict the price - using the transformed price.\n",
        "\n",
        "But before we do that we must deal with the missing values in the ```reviews_per_month``` variable earlier identified."
      ]
    },
    {
      "cell_type": "markdown",
      "metadata": {
        "id": "IBdkpsJPvr0N"
      },
      "source": [
        "For this project we will choose from two options: fill it with 0 or with the mean of this variable since we do not want to delete the rows all together.\n",
        "We will build a model using the two options and later compare the models' RMSE to determine the better option for the dataset."
      ]
    },
    {
      "cell_type": "code",
      "metadata": {
        "id": "2xvFmAroxlRc"
      },
      "source": [
        "# Linear Regression using NumPy\n",
        "\n",
        "def train_linear_regression(X, y):\n",
        "    ones = np.ones(X.shape[0])        #Create an array that contains only 1s. \n",
        "    X = np.column_stack([ones, X])    #Add the array of 1s as the first column of X\n",
        "\n",
        "# normal equation formula\n",
        "    XTX = X.T.dot(X)                 #XTX is the product of X_Transpose and X\n",
        "    XTX_inv = np.linalg.inv(XTX)     #Compute the inverse of XTX\n",
        "    w = XTX_inv.dot(X.T).dot(y)      #The full normal equation\n",
        "    \n",
        "    return w[0], w[1:]               # w[0] is the intercept or bias weight and w[1:] is the vector of estimated co-efficients"
      ],
      "execution_count": 318,
      "outputs": []
    },
    {
      "cell_type": "markdown",
      "metadata": {
        "id": "gMRUJ1qg1DFP"
      },
      "source": [
        "###Defining our feature (predictor) matrix (X) - Our Independent variables\n",
        "\n",
        "####1. Using the option of filling missing values with 0\n",
        "\n",
        "As stated earlier we will use only variables as contained in **```df1```**\n",
        "\n",
        "As such our X will not contain the log_price variable as y is the log_price variable.\n",
        "\n",
        "Let's define a selector to help us fast track the creation of X for all three datasets. We will do this by creating a function and will also implement filling missing values with zeroes (0).\n"
      ]
    },
    {
      "cell_type": "code",
      "metadata": {
        "id": "23KKlx_32TYU"
      },
      "source": [
        "base_x = ['latitude',\n",
        "'longitude',\n",
        "'minimum_nights',\n",
        "'number_of_reviews',\n",
        "'reviews_per_month',\n",
        "'calculated_host_listings_count',\n",
        "'availability_365']"
      ],
      "execution_count": 319,
      "outputs": []
    },
    {
      "cell_type": "code",
      "metadata": {
        "id": "51orC8zo43D4"
      },
      "source": [
        "def prepare_X(df):\n",
        "    df_num = df[base_x]           #creates dataframe of selected variables\n",
        "    df_num = df_num.fillna(0)     #Fills the nans with 0\n",
        "    X = df_num.values             #convert this dataframe to a NumPy array\n",
        "    return X"
      ],
      "execution_count": 320,
      "outputs": []
    },
    {
      "cell_type": "markdown",
      "metadata": {
        "id": "swmQc9CK6f5u"
      },
      "source": [
        "Now let's train the model."
      ]
    },
    {
      "cell_type": "code",
      "metadata": {
        "id": "ZVpW4W7v6k2A"
      },
      "source": [
        "X_train = prepare_X(df_train)\n",
        "w_0, w = train_linear_regression(X_train, y_train)\n"
      ],
      "execution_count": 321,
      "outputs": []
    },
    {
      "cell_type": "markdown",
      "metadata": {
        "id": "ItH1vc4C9X5U"
      },
      "source": [
        "Let's display our estimated coefficients (weights)\n"
      ]
    },
    {
      "cell_type": "code",
      "metadata": {
        "colab": {
          "base_uri": "https://localhost:8080/"
        },
        "id": "7Bjq3vXs9odg",
        "outputId": "b7dbf854-c9f9-4389-acef-2652ee11702e"
      },
      "source": [
        "print('Bias (intercept):', '\\n', w_0.round(2))\n",
        "print('\\n')\n",
        "print('Slope coefficients (weights):', '\\n', w.round(2))"
      ],
      "execution_count": 322,
      "outputs": [
        {
          "output_type": "stream",
          "name": "stdout",
          "text": [
            "Bias (intercept): \n",
            " -419.91\n",
            "\n",
            "\n",
            "Slope coefficients (weights): \n",
            " [ 1.31 -5.02 -0.   -0.   -0.01  0.    0.  ]\n"
          ]
        }
      ]
    },
    {
      "cell_type": "markdown",
      "metadata": {
        "id": "b5rkuDCHDcE0"
      },
      "source": [
        "Let's predict the price and plot prediction vs actuals"
      ]
    },
    {
      "cell_type": "code",
      "metadata": {
        "id": "u9KfikTiDmXN"
      },
      "source": [
        "y_pred = w_0 + X_train.dot(w)"
      ],
      "execution_count": 323,
      "outputs": []
    },
    {
      "cell_type": "code",
      "metadata": {
        "colab": {
          "base_uri": "https://localhost:8080/",
          "height": 295
        },
        "id": "eQBLMMeSDxnD",
        "outputId": "6b6a6d6f-9b41-418a-dcd4-663c478c87d1"
      },
      "source": [
        "plt.figure(figsize=(6, 4))\n",
        "\n",
        "sns.histplot(y_train, label='target', color='#222222', alpha=0.6, bins=40)\n",
        "sns.histplot(y_pred, label='prediction', color='#aaaaaa', alpha=0.8, bins=40)\n",
        "\n",
        "plt.legend()\n",
        "\n",
        "plt.ylabel('Frequency')\n",
        "plt.xlabel('Log(Price + 1)')\n",
        "plt.title('Predictions vs actual distribution')\n",
        "\n",
        "plt.show()"
      ],
      "execution_count": 324,
      "outputs": [
        {
          "output_type": "display_data",
          "data": {
            "image/png": "[encoded data removed]",
            "text/plain": [
              "<Figure size 432x288 with 1 Axes>"
            ]
          },
          "metadata": {
            "needs_background": "light"
          }
        }
      ]
    },
    {
      "cell_type": "markdown",
      "metadata": {
        "id": "YuOJ6Vfkis-I"
      },
      "source": [
        "The above plot comparing the distributions of predicted values to the actual shows the predictions are quite off the actuals. \n",
        "\n",
        "A common metric used to quantify the quality of models is the Root Mean Square Error (RMSE). The RMSE is a measure of predictive performance of the model. \n",
        "\n",
        "Let's define a function to compute this for us. "
      ]
    },
    {
      "cell_type": "code",
      "metadata": {
        "id": "66mWkJV1iDI4"
      },
      "source": [
        "def rmse(y, y_pred):\n",
        "    error = y_pred - y\n",
        "    mse = (error ** 2).mean()\n",
        "    return np.sqrt(mse)"
      ],
      "execution_count": 325,
      "outputs": []
    },
    {
      "cell_type": "code",
      "metadata": {
        "colab": {
          "base_uri": "https://localhost:8080/"
        },
        "id": "WvqGAdx4ibkq",
        "outputId": "ccc1f11d-625a-4d23-8a49-0f6206e7616e"
      },
      "source": [
        "rmse(y_train, y_pred).round(2)      #computes the RMSE"
      ],
      "execution_count": 326,
      "outputs": [
        {
          "output_type": "execute_result",
          "data": {
            "text/plain": [
              "0.64"
            ]
          },
          "metadata": {},
          "execution_count": 326
        }
      ]
    },
    {
      "cell_type": "markdown",
      "metadata": {
        "id": "BMW2Y8NllfSa"
      },
      "source": [
        "###Validation\n",
        "\n",
        "Let's use the validation set to validate out model and compute the RMSE so as to compare with the trained mode. Note that a smaller RMSE means a better model.\n",
        "\n",
        "Validation is simply applying our model parameters to the validation data (X_val) and then computing the metric."
      ]
    },
    {
      "cell_type": "code",
      "metadata": {
        "id": "2c6wP10Dnhcz"
      },
      "source": [
        "X_val = prepare_X(df_val)        #remember this prepare_X() fuction was defined earlier to select the features and fill in any missing values with 0.\n",
        "y_pred = w_0 + X_val.dot(w)      #this the prediction based on the validation data"
      ],
      "execution_count": 327,
      "outputs": []
    },
    {
      "cell_type": "markdown",
      "metadata": {
        "id": "s9FwT2InpgoC"
      },
      "source": [
        "Apply the rmse function."
      ]
    },
    {
      "cell_type": "code",
      "metadata": {
        "colab": {
          "base_uri": "https://localhost:8080/"
        },
        "id": "UqK4J4uCpzHp",
        "outputId": "1ad23994-4949-4396-a363-8a46df72fcc2"
      },
      "source": [
        "rmse(y_val, y_pred).round(2)"
      ],
      "execution_count": 328,
      "outputs": [
        {
          "output_type": "execute_result",
          "data": {
            "text/plain": [
              "0.64"
            ]
          },
          "metadata": {},
          "execution_count": 328
        }
      ]
    },
    {
      "cell_type": "markdown",
      "metadata": {
        "id": "wdA-6ZnLs1RJ"
      },
      "source": [
        "The validation and training data RMSE are quite close."
      ]
    },
    {
      "cell_type": "markdown",
      "metadata": {
        "id": "aLx_RYWptMUf"
      },
      "source": [
        "####2. Using the option of filling missing values with the mean of the column values without the missing values\n",
        "\n"
      ]
    },
    {
      "cell_type": "code",
      "metadata": {
        "id": "FBm5obZqu3D5"
      },
      "source": [
        "def prepare_X1(df):\n",
        "    df_num1 = df[base_x]           #creates dataframe of selected variables\n",
        "    df_num1 = df_num1.fillna(df_num1.mean())     #Fills the nans with mean\n",
        "    X1 = df_num1.values             #convert this dataframe to a NumPy array\n",
        "    return X1"
      ],
      "execution_count": 329,
      "outputs": []
    },
    {
      "cell_type": "markdown",
      "metadata": {
        "id": "qinj_4a9vnaO"
      },
      "source": [
        "Now let's train the model."
      ]
    },
    {
      "cell_type": "code",
      "metadata": {
        "id": "aZSEB3MSvsS1"
      },
      "source": [
        "X_train1 = prepare_X1(df_train)\n",
        "w_01, w1 = train_linear_regression(X_train1, y_train)\n"
      ],
      "execution_count": 330,
      "outputs": []
    },
    {
      "cell_type": "markdown",
      "metadata": {
        "id": "WvwWDO9rwZlN"
      },
      "source": [
        "Let's display our estimated coefficients (weights)"
      ]
    },
    {
      "cell_type": "code",
      "metadata": {
        "colab": {
          "base_uri": "https://localhost:8080/"
        },
        "id": "fZUDZTa_wgyX",
        "outputId": "a2ddf011-dd9e-42de-a920-03064f5a3531"
      },
      "source": [
        "print('Bias (intercept):', '\\n', w_01.round(2))\n",
        "print('\\n')\n",
        "print('Slope coefficients (weights):', '\\n', w1.round(2))"
      ],
      "execution_count": 331,
      "outputs": [
        {
          "output_type": "stream",
          "name": "stdout",
          "text": [
            "Bias (intercept): \n",
            " -423.54\n",
            "\n",
            "\n",
            "Slope coefficients (weights): \n",
            " [ 1.31 -5.07 -0.   -0.    0.01  0.    0.  ]\n"
          ]
        }
      ]
    },
    {
      "cell_type": "markdown",
      "metadata": {
        "id": "QJ3QXH9Sw9Y0"
      },
      "source": [
        "Let's predict the price and plot prediction vs actuals"
      ]
    },
    {
      "cell_type": "code",
      "metadata": {
        "id": "PX9_d6uBw0nx"
      },
      "source": [
        "y_pred1 = w_01 + X_train1.dot(w1)"
      ],
      "execution_count": 332,
      "outputs": []
    },
    {
      "cell_type": "code",
      "metadata": {
        "colab": {
          "base_uri": "https://localhost:8080/",
          "height": 295
        },
        "id": "EH8YYWe3xIiF",
        "outputId": "340cf3c6-e071-4ca7-8ff0-27f0d5fdfee5"
      },
      "source": [
        "plt.figure(figsize=(6, 4))\n",
        "\n",
        "sns.histplot(y_train, label='target', color='#222222', alpha=0.6, bins=40)\n",
        "sns.histplot(y_pred1, label='prediction', color='#aaaaaa', alpha=0.8, bins=40)\n",
        "\n",
        "plt.legend()\n",
        "\n",
        "plt.ylabel('Frequency')\n",
        "plt.xlabel('Log(Price + 1)')\n",
        "plt.title('Predictions vs actual distribution')\n",
        "\n",
        "plt.show()"
      ],
      "execution_count": 333,
      "outputs": [
        {
          "output_type": "display_data",
          "data": {
            "image/png": "[encoded data removed]",
            "text/plain": [
              "<Figure size 432x288 with 1 Axes>"
            ]
          },
          "metadata": {
            "needs_background": "light"
          }
        }
      ]
    },
    {
      "cell_type": "markdown",
      "metadata": {
        "id": "FisRk3pcxfSW"
      },
      "source": [
        "Compute the RMSE"
      ]
    },
    {
      "cell_type": "code",
      "metadata": {
        "colab": {
          "base_uri": "https://localhost:8080/"
        },
        "id": "Tsu6Znzgxixc",
        "outputId": "56e44eda-3421-4812-978a-545da7f70d19"
      },
      "source": [
        "rmse(y_train, y_pred1).round(2)    #computes the RMSE"
      ],
      "execution_count": 334,
      "outputs": [
        {
          "output_type": "execute_result",
          "data": {
            "text/plain": [
              "0.64"
            ]
          },
          "metadata": {},
          "execution_count": 334
        }
      ]
    },
    {
      "cell_type": "code",
      "metadata": {
        "id": "e_xvDIw0ygYr"
      },
      "source": [
        "#Validation\n",
        "X_val1 = prepare_X1(df_val)        #remember this prepare_X1() fuction was defined earlier to select the features and fill in any missing values with the mean.\n",
        "y_pred1 = w_01 + X_val1.dot(w1)    #this the prediction based on the validation data"
      ],
      "execution_count": 335,
      "outputs": []
    },
    {
      "cell_type": "markdown",
      "metadata": {
        "id": "KU8rSyKOz33M"
      },
      "source": [
        "Apply the rmse function."
      ]
    },
    {
      "cell_type": "code",
      "metadata": {
        "colab": {
          "base_uri": "https://localhost:8080/"
        },
        "id": "QwrsWo1Zz6JU",
        "outputId": "78552450-3579-4a7b-af86-cf356c0187ec"
      },
      "source": [
        "rmse(y_val, y_pred1).round(2) "
      ],
      "execution_count": 336,
      "outputs": [
        {
          "output_type": "execute_result",
          "data": {
            "text/plain": [
              "0.64"
            ]
          },
          "metadata": {},
          "execution_count": 336
        }
      ]
    },
    {
      "cell_type": "markdown",
      "metadata": {
        "id": "8OzERqD11MDa"
      },
      "source": [
        "Comparing the RMSE of the models using the data with 0 replacing missing values to the data with missing values replaced by the mean, we can see that both are equally good as the RMSE are quite the same."
      ]
    },
    {
      "cell_type": "markdown",
      "metadata": {
        "id": "HJVTCRHy-RNM"
      },
      "source": [
        "##Linear regression with regularization (Ridge regression)\n",
        "\n",
        "Sometimes, adding more features to our model can help improve the model -- ie., smaller. But some of the added variables may end been linear combination of other columns. This leads to the situation where our XTX matrix becomes singular and cannot be inverted - *numerical instability*. Even where technically invertible, we may have the weights (w) behave abnormally - for example being extremely large.\n",
        "\n",
        "To avoid this, one option is to use regularized regression. This essentially involves adding a small scaler (number) to the main diagonal of the XTX matrix.\n",
        "\n",
        "Let's define a new regression function (ridge function) that will incorporate the regularization.\n"
      ]
    },
    {
      "cell_type": "code",
      "metadata": {
        "id": "-E5n7ph1BcP-"
      },
      "source": [
        "def train_linear_regression_reg(X, y, r=0.0):      #regularization constant r set to 0 as control\n",
        "    ones = np.ones(X.shape[0])                     #creates a matrix of of ones of shape/length of X\n",
        "    X = np.column_stack([ones, X])                 #prepares the feature matrix\n",
        "\n",
        "    XTX = X.T.dot(X)\n",
        "    reg = r * np.eye(XTX.shape[0])                #creates an Identity matrix of shape/length of X and multiply by the regularization constant r\n",
        "    XTX = XTX + reg                               #regularized XTX\n",
        "\n",
        "    XTX_inv = np.linalg.inv(XTX)\n",
        "    w = XTX_inv.dot(X.T).dot(y)\n",
        "    \n",
        "    return w[0], w[1:]"
      ],
      "execution_count": 337,
      "outputs": []
    },
    {
      "cell_type": "markdown",
      "metadata": {
        "id": "2nY30BNHMZg9"
      },
      "source": [
        "Let's train the model, running a grid search for the r paramter"
      ]
    },
    {
      "cell_type": "code",
      "metadata": {
        "colab": {
          "base_uri": "https://localhost:8080/"
        },
        "id": "-Ipo-VtwMbad",
        "outputId": "0cd4d3a2-d8b4-470b-e18a-6e53a5a3b229"
      },
      "source": [
        "X_train = prepare_X(df_train)  # remember prepare_X() fills the nans with 0\n",
        "\n",
        "for r in [0, 0.000001, 0.0001, 0.001, 0.01, 0.1, 1, 5, 10]:\n",
        "    w_0, w = train_linear_regression_reg(X_train, y_train, r=r)\n",
        "    print('%9s, %.2f, %.2f, %.2f' % (r, w_0, w[1], w[4]))  #%.2f asks for the values to be printed to two decimal places and %9s says the r should be 8 spaces from the left"
      ],
      "execution_count": 338,
      "outputs": [
        {
          "output_type": "stream",
          "name": "stdout",
          "text": [
            "        0, -419.91, -5.02, -0.01\n",
            "    1e-06, -419.86, -5.02, -0.01\n",
            "   0.0001, -414.98, -4.97, -0.01\n",
            "    0.001, -375.27, -4.54, -0.01\n",
            "     0.01, -191.78, -2.54, -0.02\n",
            "      0.1, -32.56, -0.81, -0.03\n",
            "        1, -3.50, -0.49, -0.03\n",
            "        5, -0.70, -0.44, -0.03\n",
            "       10, -0.35, -0.42, -0.03\n"
          ]
        }
      ]
    },
    {
      "cell_type": "markdown",
      "metadata": {
        "id": "2vLYVHXaQVZ6"
      },
      "source": [
        "The regularization parameter, r = 0.001 seems to be the best. But let's validate the model and compare the RMSEs.\n",
        "\n",
        "We will start with r = 0, which is the unregularized model."
      ]
    },
    {
      "cell_type": "code",
      "metadata": {
        "colab": {
          "base_uri": "https://localhost:8080/"
        },
        "id": "iaW8SQyoRLlg",
        "outputId": "74a70ce7-ca71-40cf-add1-e22dd937c4e0"
      },
      "source": [
        "X_train = prepare_X(df_train)\n",
        "w_0, w = train_linear_regression_reg(X_train, y_train, r=0)   #run the model\n",
        "\n",
        "y_pred = w_0 + X_train.dot(w)                                 #predict the training model\n",
        "print('train', rmse(y_train, y_pred))                         #Compute RMSE for the traning model and print result\n",
        "\n",
        "X_val = prepare_X(df_val)                                  \n",
        "y_pred = w_0 + X_val.dot(w)                                   #Validate using validation set X to predict\n",
        "print('val', rmse(y_val, y_pred))                             #Compute RMSE for the validation set and print result\n"
      ],
      "execution_count": 339,
      "outputs": [
        {
          "output_type": "stream",
          "name": "stdout",
          "text": [
            "train 0.6428860484860432\n",
            "val 0.6430337788584176\n"
          ]
        }
      ]
    },
    {
      "cell_type": "markdown",
      "metadata": {
        "id": "4iAQbG-HUpOC"
      },
      "source": [
        "Now let's run the grid search and compare the rmses"
      ]
    },
    {
      "cell_type": "code",
      "metadata": {
        "colab": {
          "base_uri": "https://localhost:8080/"
        },
        "id": "X00CHbOJU5jj",
        "outputId": "aa971046-d427-498e-99b0-4945dfc023b8"
      },
      "source": [
        "X_train = prepare_X(df_train)\n",
        "X_val = prepare_X(df_val)\n",
        "\n",
        "for r in [0, 0.000001, 0.0001, 0.001, 0.01, 0.1, 1, 5, 10]:\n",
        "    w_0, w = train_linear_regression_reg(X_train, y_train, r=r)\n",
        "    y_pred = w_0 + X_val.dot(w)\n",
        "    print('%6s' %r, rmse(y_val, y_pred).round(2))"
      ],
      "execution_count": 340,
      "outputs": [
        {
          "output_type": "stream",
          "name": "stdout",
          "text": [
            "     0 0.64\n",
            " 1e-06 0.64\n",
            "0.0001 0.64\n",
            " 0.001 0.64\n",
            "  0.01 0.66\n",
            "   0.1 0.68\n",
            "     1 0.68\n",
            "     5 0.68\n",
            "    10 0.68\n"
          ]
        }
      ]
    },
    {
      "cell_type": "markdown",
      "metadata": {
        "id": "jrwedXpEWqV7"
      },
      "source": [
        "Clearly, the model does not improve with r = 0.000001 and r = 0.0001, r = 0.001 compared to r = 0. The model quality even degenerates with r > 0.001"
      ]
    },
    {
      "cell_type": "markdown",
      "metadata": {
        "id": "aHYDnF8FbrLt"
      },
      "source": [
        "###A Test for model Stability\n",
        "\n",
        "The data split was done with random seed set at 42. We want to test what happens if we set a different seed value. \n",
        "\n",
        "Let's try these values: ```[0, 1, 2, 3, 4, 5, 6, 7, 8, 9]```."
      ]
    },
    {
      "cell_type": "code",
      "metadata": {
        "colab": {
          "base_uri": "https://localhost:8080/"
        },
        "id": "5iG8uTiJ1Igs",
        "outputId": "ac2e0668-f5cf-4ea4-ba12-48a3b5357156"
      },
      "source": [
        "\n",
        "#empty_array = np.array([])\n",
        "for s in [0, 1, 2, 3, 4, 5, 6, 7, 8, 9]:\n",
        "  np.random.seed(s)                                     #Fix the random seed to make sure that the results are reproducible\n",
        "  n = len(df1)                                             #Get the number of rows in the dataframe \n",
        "  n_val2 = int(0.2 * n)                                     # Calculate how many rows should go to validation.\n",
        "  n_test2 = int(0.2 * n)                                    # Calculate how many rows should go to test.\n",
        "  n_train2 = n - (n_val2 + n_test2)                           #Calculate how many rows should go to train.\n",
        "  idx2 = np.arange(n)                                       #Create a NumPy array with indices from 0 to (n-1)\n",
        "  np.random.shuffle(idx2)                                   #this randomly shuffles the array created above\n",
        "  df_shuffled2 = df1.iloc[idx2]                              #Use the array with indices to get a shuffled dataframe\n",
        "  \n",
        "  # Below split the shuffled dataframe into train, validation, and test. We make a copy\n",
        "  df_train2 = df_shuffled2.iloc[:n_train2].copy()\n",
        "  df_val2 = df_shuffled2.iloc[n_train2:n_train2+n_val2].copy()\n",
        "  df_test2 = df_shuffled2.iloc[n_train2+n_val2:].copy()\n",
        "  y_train2 = np.log1p(df_train2.price.values)\n",
        "  y_val2 = np.log1p(df_val2.price.values)\n",
        "  y_test2 = np.log1p(df_test2.price.values)\n",
        "\n",
        "  #delete the original price variable\n",
        "  del df_train2['price'] \n",
        "  del df_val2['price'] \n",
        "  del df_test2['price']  \n",
        "  \n",
        "  #define a function to prepare X\n",
        "  def prepare_X2(df_2):\n",
        "    df_num2 = df_2[base_x]           #creates dataframe of selected variables\n",
        "    df_num2 = df_num2.fillna(0)     #Fills the nans with 0\n",
        "    X2 = df_num2.values             #convert this dataframe to a NumPy array\n",
        "    return X2\n",
        "  #Use the function to prepare X for the three sub dataaets\n",
        "  X_train2 = prepare_X2(df_train2)\n",
        "  X_val2 = prepare_X2(df_val2)\n",
        "  X_test2 = prepare_X2(df_test2)\n",
        "\n",
        "  #Linear Regression using NumPy\n",
        "  def train_linear_regression2(X, y):\n",
        "    ones = np.ones(X.shape[0])        #Create an array that contains only 1s. \n",
        "    X = np.column_stack([ones, X])    #Add the array of 1s as the first column of X\n",
        "\n",
        "  #normal equation formula\n",
        "    XTX = X.T.dot(X)                 #XTX is the product of X_Transpose and X\n",
        "    XTX_inv = np.linalg.inv(XTX)     #Compute the inverse of XTX\n",
        "    w = XTX_inv.dot(X.T).dot(y)      #The full normal equation\n",
        "    \n",
        "    return w[0], w[1:]               # w[0] is the intercept or bias weight and w[1:] is the vector of estimated co-efficients\n",
        "\n",
        "  #Define function to compute RMSE\n",
        "  def rmse2(y2, y_pred2):\n",
        "    error = y_pred2 - y2\n",
        "    mse2 = (error ** 2).mean()\n",
        "    return np.sqrt(mse2)\n",
        "\n",
        "  #Train the model, validate and compute the RMSE of the validation\n",
        "  w_02, w2 = train_linear_regression2(X_train2, y_train2)\n",
        "  y_pred2 = w_02 + X_val2.dot(w2)\n",
        "  print('%6s' %s, rmse2(y_val2, y_pred2))\n",
        "  \n",
        "\n"
      ],
      "execution_count": 341,
      "outputs": [
        {
          "output_type": "stream",
          "name": "stdout",
          "text": [
            "     0 0.6549779961157263\n",
            "     1 0.646252368578719\n",
            "     2 0.6476558177163445\n",
            "     3 0.6375145071233626\n",
            "     4 0.6445809083551755\n",
            "     5 0.6305809996077186\n",
            "     6 0.6297851917617103\n",
            "     7 0.6506184267164312\n",
            "     8 0.6489780353432693\n",
            "     9 0.6437565168302604\n"
          ]
        }
      ]
    },
    {
      "cell_type": "code",
      "metadata": {
        "id": "hl1uT0mr6dWW"
      },
      "source": [
        "df_rmse = (0.6549779961157263,0.646252368578719,0.6476558177163445,0.6375145071233626,0.6445809083551755,0.6305809996077186,0.6297851917617103,0.6506184267164312,0.6489780353432693,0.6437565168302604)"
      ],
      "execution_count": 342,
      "outputs": []
    },
    {
      "cell_type": "markdown",
      "metadata": {
        "id": "g0f0vc6fDAOq"
      },
      "source": [
        "Calculate standard deviation"
      ]
    },
    {
      "cell_type": "code",
      "metadata": {
        "colab": {
          "base_uri": "https://localhost:8080/"
        },
        "id": "olW_DhVl8BWR",
        "outputId": "f3d0c09b-8384-4462-8fd4-8d3c5e37bcd5"
      },
      "source": [
        "round(np.std(df_rmse),3)\n",
        "\n"
      ],
      "execution_count": 343,
      "outputs": [
        {
          "output_type": "execute_result",
          "data": {
            "text/plain": [
              "0.008"
            ]
          },
          "metadata": {},
          "execution_count": 343
        }
      ]
    },
    {
      "cell_type": "markdown",
      "metadata": {
        "id": "Etu1zR7tE0e3"
      },
      "source": [
        "This is a low standard deviation. This indicates that our model is quite stable."
      ]
    },
    {
      "cell_type": "markdown",
      "metadata": {
        "id": "1UBhgInCFWdR"
      },
      "source": [
        "###Combining the previous train and validation, using regularization parameter of 0.001 and seed = 9\n",
        "\n",
        "We want to use this combined set as the train data and compute the RMSE for the test data for regularized model."
      ]
    },
    {
      "cell_type": "code",
      "metadata": {
        "colab": {
          "base_uri": "https://localhost:8080/"
        },
        "id": "ihyv1DfbODep",
        "outputId": "656e406a-e8b0-4591-c19b-18ae2fb2d637"
      },
      "source": [
        "np.random.seed(9)                                     \n",
        "n = len(df1)                                             \n",
        "n_val2 = int(0.2 * n)                                     \n",
        "n_test2 = int(0.2 * n)                                    \n",
        "n_train2 = n - (n_val2 + n_test2)                          \n",
        "idx2 = np.arange(n)                                       \n",
        "np.random.shuffle(idx2)                                   \n",
        "df_shuffled2 = df1.iloc[idx2]                              \n",
        "  \n",
        "# Below split the shuffled dataframe into train, validation, and test. We make a copy\n",
        "df_train2 = df_shuffled2.iloc[:n_train2].copy()\n",
        "df_val2 = df_shuffled2.iloc[n_train2:n_train2+n_val2].copy()\n",
        "#Define new train data by combining initial train and val\n",
        "df_train3 = df_train2.append(df_val2)\n",
        "df_test2 = df_shuffled2.iloc[n_train2+n_val2:].copy()\n",
        "y_train3 = np.log1p(df_train3.price.values)\n",
        "#y_val2 = np.log1p(df_val2.price.values)\n",
        "y_test2 = np.log1p(df_test2.price.values)\n",
        "\n",
        "#Another way to define new train data\n",
        "#y_train3 = np.hstack((y_train2, y_val2))\n",
        "\n",
        "#delete the original price variable\n",
        "del df_train3['price'] \n",
        "del df_test2['price']  \n",
        "  \n",
        "#define a function to prepare X\n",
        "def prepare_X3(df_3):\n",
        "  df_num3 = df_3[base_x]           #creates dataframe of selected variables\n",
        "  df_num3 = df_num3.fillna(0)     #Fills the nans with 0\n",
        "  X3 = df_num3.values             #convert this dataframe to a NumPy array\n",
        "  return X3\n",
        "  #Use the function to prepare X for the three sub dataaets\n",
        "  #We use the \n",
        "X_train3 = prepare_X3(df_train3)\n",
        "X_test2 = prepare_X3(df_test2)\n",
        "\n",
        "  #Regularized Linear Regression using NumPy\n",
        "def train_linear_regression_reg3(X, y, r=0.0):      #regularization constant r set to 0 as control\n",
        "    ones = np.ones(X.shape[0])                     #creates a matrix of of ones of shape/length of X\n",
        "    X = np.column_stack([ones, X])                 #prepares the feature matrix\n",
        "\n",
        "    XTX = X.T.dot(X)\n",
        "    reg = r * np.eye(XTX.shape[0])                #creates an Identity matrix of shape/length of X and multiply by the regularization constant r\n",
        "    XTX = XTX + reg                               #regularized XTX\n",
        "\n",
        "    XTX_inv = np.linalg.inv(XTX)\n",
        "    w = XTX_inv.dot(X.T).dot(y)\n",
        "    \n",
        "    return w[0], w[1:]\n",
        "\n",
        "  #Define function to compute RMSE\n",
        "def rmse3(y3, y_pred3):\n",
        "  error = y_pred3 - y3\n",
        "  mse3 = (error ** 2).mean()\n",
        "  return np.sqrt(mse3)\n",
        "\n",
        "  #Train the model, validate and compute the RMSE of the validation\n",
        "w_03, w3 = train_linear_regression_reg3(X_train3, y_train3, r = 0.001)\n",
        "y_pred3 = w_03 + X_test2.dot(w3)  #Tests model on test data\n",
        "rmse3(y_test2, y_pred3).round(2)"
      ],
      "execution_count": 344,
      "outputs": [
        {
          "output_type": "execute_result",
          "data": {
            "text/plain": [
              "0.65"
            ]
          },
          "metadata": {},
          "execution_count": 344
        }
      ]
    },
    {
      "cell_type": "markdown",
      "metadata": {
        "id": "sbTrfJF7sBuy"
      },
      "source": [
        "We note that the RMSE is almost about the same as earlier validations."
      ]
    }
  ]
}