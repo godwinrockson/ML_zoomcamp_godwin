{
  "nbformat": 4,
  "nbformat_minor": 0,
  "metadata": {
    "kernelspec": {
      "display_name": "Python 3",
      "language": "python",
      "name": "python3"
    },
    "language_info": {
      "codemirror_mode": {
        "name": "ipython",
        "version": 3
      },
      "file_extension": ".py",
      "mimetype": "text/x-python",
      "name": "python",
      "nbconvert_exporter": "python",
      "pygments_lexer": "ipython3",
      "version": "3.7.3"
    },
    "colab": {
      "name": "ml_zoomcamp_hmwk_6.ipynb",
      "provenance": [],
      "collapsed_sections": []
    }
  },
  "cells": [
    {
      "cell_type": "markdown",
      "metadata": {
        "id": "YsMWnlSXILgn"
      },
      "source": [
        "#Homework 6: Predicticting the price of houses using Regression Trees\n",
        "\n",
        "The goal of this homework is to create tree-based regression models for prediction of apartment prices (column `'price'`).\n",
        "\n",
        "We use the New York City Airbnb Open Data dataset from [Kaggle](https://www.kaggle.com/dgomonov/new-york-city-airbnb-open-data?select=AB_NYC_2019.csv)\n",
        "\n",
        "\n",
        "##Let's load the data:"
      ]
    },
    {
      "cell_type": "code",
      "metadata": {
        "id": "DRpgwSK4ILgt"
      },
      "source": [
        "import pandas as pd\n",
        "import numpy as np\n",
        "\n",
        "import matplotlib.pyplot as plt\n",
        "import seaborn as sns\n",
        "\n",
        "%matplotlib inline"
      ],
      "execution_count": 21,
      "outputs": []
    },
    {
      "cell_type": "markdown",
      "metadata": {
        "id": "qwbaIx9FJikf"
      },
      "source": [
        "Setting up google colab to upload, unzip and read the data from Kaggle."
      ]
    },
    {
      "cell_type": "code",
      "metadata": {
        "colab": {
          "resources": {
            "http://localhost:8080/nbextensions/google.colab/files.js": {
              "data": "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",
              "ok": true,
              "headers": [
                [
                  "content-type",
                  "application/javascript"
                ]
              ],
              "status": 200,
              "status_text": ""
            }
          },
          "base_uri": "https://localhost:8080/",
          "height": 73
        },
        "id": "AVTXQDXmJpTi",
        "outputId": "ca27e4f1-4655-4ca4-9e3d-74c7c29bb444"
      },
      "source": [
        "from google.colab import files\n",
        "uploaded = files.upload()"
      ],
      "execution_count": 2,
      "outputs": [
        {
          "output_type": "display_data",
          "data": {
            "text/html": [
              "\n",
              "     <input type=\"file\" id=\"files-8ee30065-ab68-4dba-a017-c1fe43ff024f\" name=\"files[]\" multiple disabled\n",
              "        style=\"border:none\" />\n",
              "     <output id=\"result-8ee30065-ab68-4dba-a017-c1fe43ff024f\">\n",
              "      Upload widget is only available when the cell has been executed in the\n",
              "      current browser session. Please rerun this cell to enable.\n",
              "      </output>\n",
              "      <script src=\"/nbextensions/google.colab/files.js\"></script> "
            ],
            "text/plain": [
              "<IPython.core.display.HTML object>"
            ]
          },
          "metadata": {}
        },
        {
          "output_type": "stream",
          "name": "stdout",
          "text": [
            "Saving kaggle.json to kaggle.json\n"
          ]
        }
      ]
    },
    {
      "cell_type": "code",
      "metadata": {
        "id": "Uc9-p1qpJ9TD"
      },
      "source": [
        "#Update Kaggle path to pwd\n",
        "import os\n",
        "os.environ['KAGGLE_CONFIG_DIR'] = \"/content\""
      ],
      "execution_count": 22,
      "outputs": []
    },
    {
      "cell_type": "code",
      "metadata": {
        "colab": {
          "base_uri": "https://localhost:8080/"
        },
        "id": "DIlxG_3NJ1e_",
        "outputId": "853a88d0-818f-44ee-f0b3-320472b0b047"
      },
      "source": [
        "!kaggle datasets download -d dgomonov/new-york-city-airbnb-open-data"
      ],
      "execution_count": 23,
      "outputs": [
        {
          "output_type": "stream",
          "name": "stdout",
          "text": [
            "Warning: Your Kaggle API key is readable by other users on this system! To fix this, you can run 'chmod 600 /content/kaggle.json'\n",
            "new-york-city-airbnb-open-data.zip: Skipping, found more recently modified local copy (use --force to force download)\n"
          ]
        }
      ]
    },
    {
      "cell_type": "code",
      "metadata": {
        "colab": {
          "base_uri": "https://localhost:8080/"
        },
        "id": "u07BkbbbKSMG",
        "outputId": "3fd8346c-cdae-4d7b-e94a-e726a8e0120b"
      },
      "source": [
        "!unzip new-york-city-airbnb-open-data.zip"
      ],
      "execution_count": 24,
      "outputs": [
        {
          "output_type": "stream",
          "name": "stdout",
          "text": [
            "Archive:  new-york-city-airbnb-open-data.zip\n",
            "replace AB_NYC_2019.csv? [y]es, [n]o, [A]ll, [N]one, [r]ename: y\n",
            "  inflating: AB_NYC_2019.csv         \n",
            "replace New_York_City_.png? [y]es, [n]o, [A]ll, [N]one, [r]ename: y\n",
            "  inflating: New_York_City_.png      \n"
          ]
        }
      ]
    },
    {
      "cell_type": "code",
      "metadata": {
        "id": "G7BQPV7AKdkr"
      },
      "source": [
        "df_all = pd.read_csv('AB_NYC_2019.csv')"
      ],
      "execution_count": 25,
      "outputs": []
    },
    {
      "cell_type": "markdown",
      "metadata": {
        "id": "7C5B2TuMKmRw"
      },
      "source": [
        "####In this project we will use the following columns"
      ]
    },
    {
      "cell_type": "code",
      "metadata": {
        "id": "kjGwwxXAILgv"
      },
      "source": [
        "columns = [\n",
        "    'neighbourhood_group', 'room_type', 'latitude', 'longitude',\n",
        "    'minimum_nights', 'number_of_reviews','reviews_per_month',\n",
        "    'calculated_host_listings_count', 'availability_365',\n",
        "    'price'\n",
        "]\n"
      ],
      "execution_count": 26,
      "outputs": []
    },
    {
      "cell_type": "code",
      "metadata": {
        "id": "3KA11nh6K7uj"
      },
      "source": [
        "df = pd.read_csv('AB_NYC_2019.csv', usecols=columns)\n"
      ],
      "execution_count": 27,
      "outputs": []
    },
    {
      "cell_type": "code",
      "metadata": {
        "colab": {
          "base_uri": "https://localhost:8080/"
        },
        "id": "E5wv-jLcnatB",
        "outputId": "250e5a00-7c3c-4f2d-9b29-710825f75fa9"
      },
      "source": [
        "df.info()"
      ],
      "execution_count": 28,
      "outputs": [
        {
          "output_type": "stream",
          "name": "stdout",
          "text": [
            "<class 'pandas.core.frame.DataFrame'>\n",
            "RangeIndex: 48895 entries, 0 to 48894\n",
            "Data columns (total 10 columns):\n",
            " #   Column                          Non-Null Count  Dtype  \n",
            "---  ------                          --------------  -----  \n",
            " 0   neighbourhood_group             48895 non-null  object \n",
            " 1   latitude                        48895 non-null  float64\n",
            " 2   longitude                       48895 non-null  float64\n",
            " 3   room_type                       48895 non-null  object \n",
            " 4   price                           48895 non-null  int64  \n",
            " 5   minimum_nights                  48895 non-null  int64  \n",
            " 6   number_of_reviews               48895 non-null  int64  \n",
            " 7   reviews_per_month               38843 non-null  float64\n",
            " 8   calculated_host_listings_count  48895 non-null  int64  \n",
            " 9   availability_365                48895 non-null  int64  \n",
            "dtypes: float64(3), int64(5), object(2)\n",
            "memory usage: 3.7+ MB\n"
          ]
        }
      ]
    },
    {
      "cell_type": "markdown",
      "metadata": {
        "id": "-pCPpFd5LbOq"
      },
      "source": [
        "####Check for missing values and fill it with 0s"
      ]
    },
    {
      "cell_type": "code",
      "metadata": {
        "colab": {
          "base_uri": "https://localhost:8080/"
        },
        "id": "p7z1hJUeLDfV",
        "outputId": "8dec3b5d-a086-442c-977e-1f7bd6d37dde"
      },
      "source": [
        "df.isna().sum()"
      ],
      "execution_count": 29,
      "outputs": [
        {
          "output_type": "execute_result",
          "data": {
            "text/plain": [
              "neighbourhood_group                   0\n",
              "latitude                              0\n",
              "longitude                             0\n",
              "room_type                             0\n",
              "price                                 0\n",
              "minimum_nights                        0\n",
              "number_of_reviews                     0\n",
              "reviews_per_month                 10052\n",
              "calculated_host_listings_count        0\n",
              "availability_365                      0\n",
              "dtype: int64"
            ]
          },
          "metadata": {},
          "execution_count": 29
        }
      ]
    },
    {
      "cell_type": "code",
      "metadata": {
        "id": "Gl-3G0WPLmbF"
      },
      "source": [
        "df.reviews_per_month = df.reviews_per_month.fillna(0)"
      ],
      "execution_count": 30,
      "outputs": []
    },
    {
      "cell_type": "code",
      "metadata": {
        "colab": {
          "base_uri": "https://localhost:8080/",
          "height": 295
        },
        "id": "59flK8Zonvo8",
        "outputId": "ccfbd060-b402-4b55-8ef4-74a70bad7eab"
      },
      "source": [
        "df.describe()"
      ],
      "execution_count": 31,
      "outputs": [
        {
          "output_type": "execute_result",
          "data": {
            "text/html": [
              "<div>\n",
              "<style scoped>\n",
              "    .dataframe tbody tr th:only-of-type {\n",
              "        vertical-align: middle;\n",
              "    }\n",
              "\n",
              "    .dataframe tbody tr th {\n",
              "        vertical-align: top;\n",
              "    }\n",
              "\n",
              "    .dataframe thead th {\n",
              "        text-align: right;\n",
              "    }\n",
              "</style>\n",
              "<table border=\"1\" class=\"dataframe\">\n",
              "  <thead>\n",
              "    <tr style=\"text-align: right;\">\n",
              "      <th></th>\n",
              "      <th>latitude</th>\n",
              "      <th>longitude</th>\n",
              "      <th>price</th>\n",
              "      <th>minimum_nights</th>\n",
              "      <th>number_of_reviews</th>\n",
              "      <th>reviews_per_month</th>\n",
              "      <th>calculated_host_listings_count</th>\n",
              "      <th>availability_365</th>\n",
              "    </tr>\n",
              "  </thead>\n",
              "  <tbody>\n",
              "    <tr>\n",
              "      <th>count</th>\n",
              "      <td>48895.000000</td>\n",
              "      <td>48895.000000</td>\n",
              "      <td>48895.000000</td>\n",
              "      <td>48895.000000</td>\n",
              "      <td>48895.000000</td>\n",
              "      <td>48895.000000</td>\n",
              "      <td>48895.000000</td>\n",
              "      <td>48895.000000</td>\n",
              "    </tr>\n",
              "    <tr>\n",
              "      <th>mean</th>\n",
              "      <td>40.728949</td>\n",
              "      <td>-73.952170</td>\n",
              "      <td>152.720687</td>\n",
              "      <td>7.029962</td>\n",
              "      <td>23.274466</td>\n",
              "      <td>1.090910</td>\n",
              "      <td>7.143982</td>\n",
              "      <td>112.781327</td>\n",
              "    </tr>\n",
              "    <tr>\n",
              "      <th>std</th>\n",
              "      <td>0.054530</td>\n",
              "      <td>0.046157</td>\n",
              "      <td>240.154170</td>\n",
              "      <td>20.510550</td>\n",
              "      <td>44.550582</td>\n",
              "      <td>1.597283</td>\n",
              "      <td>32.952519</td>\n",
              "      <td>131.622289</td>\n",
              "    </tr>\n",
              "    <tr>\n",
              "      <th>min</th>\n",
              "      <td>40.499790</td>\n",
              "      <td>-74.244420</td>\n",
              "      <td>0.000000</td>\n",
              "      <td>1.000000</td>\n",
              "      <td>0.000000</td>\n",
              "      <td>0.000000</td>\n",
              "      <td>1.000000</td>\n",
              "      <td>0.000000</td>\n",
              "    </tr>\n",
              "    <tr>\n",
              "      <th>25%</th>\n",
              "      <td>40.690100</td>\n",
              "      <td>-73.983070</td>\n",
              "      <td>69.000000</td>\n",
              "      <td>1.000000</td>\n",
              "      <td>1.000000</td>\n",
              "      <td>0.040000</td>\n",
              "      <td>1.000000</td>\n",
              "      <td>0.000000</td>\n",
              "    </tr>\n",
              "    <tr>\n",
              "      <th>50%</th>\n",
              "      <td>40.723070</td>\n",
              "      <td>-73.955680</td>\n",
              "      <td>106.000000</td>\n",
              "      <td>3.000000</td>\n",
              "      <td>5.000000</td>\n",
              "      <td>0.370000</td>\n",
              "      <td>1.000000</td>\n",
              "      <td>45.000000</td>\n",
              "    </tr>\n",
              "    <tr>\n",
              "      <th>75%</th>\n",
              "      <td>40.763115</td>\n",
              "      <td>-73.936275</td>\n",
              "      <td>175.000000</td>\n",
              "      <td>5.000000</td>\n",
              "      <td>24.000000</td>\n",
              "      <td>1.580000</td>\n",
              "      <td>2.000000</td>\n",
              "      <td>227.000000</td>\n",
              "    </tr>\n",
              "    <tr>\n",
              "      <th>max</th>\n",
              "      <td>40.913060</td>\n",
              "      <td>-73.712990</td>\n",
              "      <td>10000.000000</td>\n",
              "      <td>1250.000000</td>\n",
              "      <td>629.000000</td>\n",
              "      <td>58.500000</td>\n",
              "      <td>327.000000</td>\n",
              "      <td>365.000000</td>\n",
              "    </tr>\n",
              "  </tbody>\n",
              "</table>\n",
              "</div>"
            ],
            "text/plain": [
              "           latitude  ...  availability_365\n",
              "count  48895.000000  ...      48895.000000\n",
              "mean      40.728949  ...        112.781327\n",
              "std        0.054530  ...        131.622289\n",
              "min       40.499790  ...          0.000000\n",
              "25%       40.690100  ...          0.000000\n",
              "50%       40.723070  ...         45.000000\n",
              "75%       40.763115  ...        227.000000\n",
              "max       40.913060  ...        365.000000\n",
              "\n",
              "[8 rows x 8 columns]"
            ]
          },
          "metadata": {},
          "execution_count": 31
        }
      ]
    },
    {
      "cell_type": "markdown",
      "metadata": {
        "id": "r9zMqOzuILgw"
      },
      "source": [
        "####Apply the log tranform to `price`\n",
        "#### Do train/validation/test split with 60%/20%/20% distribution. \n",
        "#### Use the `train_test_split` function and set the `random_state` parameter to 1"
      ]
    },
    {
      "cell_type": "code",
      "metadata": {
        "colab": {
          "base_uri": "https://localhost:8080/",
          "height": 295
        },
        "id": "XtIFuWypILgx",
        "outputId": "38594639-229d-4623-b655-669655af87e3"
      },
      "source": [
        "log_price = np.log1p(df.price)\n",
        "\n",
        "plt.figure(figsize=(6, 4))\n",
        "\n",
        "sns.histplot(log_price, bins=80, color='blue', alpha=1)\n",
        "plt.ylabel('Frequency')\n",
        "plt.xlabel('Log(Price + 1)')\n",
        "plt.title('Distribution of prices after log tranformation')\n",
        "\n",
        "plt.show()"
      ],
      "execution_count": 33,
      "outputs": [
        {
          "output_type": "display_data",
          "data": {
            "image/png": "[encoded data removed]",
            "text/plain": [
              "<Figure size 432x288 with 1 Axes>"
            ]
          },
          "metadata": {
            "needs_background": "light"
          }
        }
      ]
    },
    {
      "cell_type": "code",
      "metadata": {
        "id": "5Cz-BVGjpIkA"
      },
      "source": [
        "df['log_price'] = np.log1p(df.price)"
      ],
      "execution_count": 34,
      "outputs": []
    },
    {
      "cell_type": "markdown",
      "metadata": {
        "id": "VTHd0Thep82Y"
      },
      "source": [
        "###Setting Up Validation Framework"
      ]
    },
    {
      "cell_type": "code",
      "metadata": {
        "id": "cdTku3vLPWEH"
      },
      "source": [
        "from sklearn.model_selection import train_test_split\n",
        "\n",
        "df_train_full, df_test = train_test_split(df, test_size=0.2, random_state=1)\n",
        "df_train, df_val = train_test_split(df_train_full, test_size=0.25, random_state=1)"
      ],
      "execution_count": 37,
      "outputs": []
    },
    {
      "cell_type": "code",
      "metadata": {
        "id": "hAfa0heejsTA"
      },
      "source": [
        "df_train = df_train.reset_index(drop=True)\n",
        "df_val = df_val.reset_index(drop=True)\n",
        "df_test = df_test.reset_index(drop=True)\n",
        "\n"
      ],
      "execution_count": 38,
      "outputs": []
    },
    {
      "cell_type": "code",
      "metadata": {
        "id": "S4JT_S8AQLZG"
      },
      "source": [
        "y_train = df_train.log_price\n",
        "y_val = df_val.log_price\n",
        "y_test = df_test.log_price"
      ],
      "execution_count": 39,
      "outputs": []
    },
    {
      "cell_type": "code",
      "metadata": {
        "id": "lXue1VN8Qhm4"
      },
      "source": [
        "del df_train['log_price']\n",
        "del df_val['log_price']\n",
        "del df_test['log_price']\n",
        "\n",
        "del df_train['price']\n",
        "del df_val['price']\n",
        "del df_test['price']"
      ],
      "execution_count": 40,
      "outputs": []
    },
    {
      "cell_type": "markdown",
      "metadata": {
        "id": "YXBgh6XoRQqd"
      },
      "source": [
        "###One-hot encoding"
      ]
    },
    {
      "cell_type": "markdown",
      "metadata": {
        "id": "TvLWQm1IILgx"
      },
      "source": [
        "Now, use `DictVectorizer` to turn train and validation into matrices:"
      ]
    },
    {
      "cell_type": "markdown",
      "metadata": {
        "id": "lbysnlY2Swe-"
      },
      "source": [
        "Separate categorical variables from numerical"
      ]
    },
    {
      "cell_type": "code",
      "metadata": {
        "id": "oC6QZ0pwSlAk"
      },
      "source": [
        "#numerical = df_train_full.select_dtypes(exclude=['object']).columns.tolist()\n",
        "#categorical = df_train_full.select_dtypes(include=['object']).columns.tolist()"
      ],
      "execution_count": 290,
      "outputs": []
    },
    {
      "cell_type": "code",
      "metadata": {
        "id": "-YB3eMY8ILgy"
      },
      "source": [
        "from sklearn.feature_extraction import DictVectorizer"
      ],
      "execution_count": 41,
      "outputs": []
    },
    {
      "cell_type": "code",
      "metadata": {
        "id": "ZNs3PP88T4dY"
      },
      "source": [
        "dict_train = df_train.fillna(0).to_dict(orient='records')\n",
        "dict_val = df_val.fillna(0).to_dict(orient='records')"
      ],
      "execution_count": 42,
      "outputs": []
    },
    {
      "cell_type": "code",
      "metadata": {
        "id": "rQvjUVMhTHVJ"
      },
      "source": [
        "dv = DictVectorizer(sparse=False)\n",
        "\n",
        "X_train = dv.fit_transform(dict_train)\n",
        "X_val = dv.transform(dict_val)"
      ],
      "execution_count": 43,
      "outputs": []
    },
    {
      "cell_type": "markdown",
      "metadata": {
        "id": "xyouUw7LILgz"
      },
      "source": [
        "## Question 1\n",
        "\n",
        "Let's train a decision tree regressor to predict the price variable. \n",
        "\n",
        "* Train a model with `max_depth=1`"
      ]
    },
    {
      "cell_type": "markdown",
      "metadata": {
        "id": "U1rk_vsMVMll"
      },
      "source": [
        "####We'll use `DecisionTreeRegressor`"
      ]
    },
    {
      "cell_type": "code",
      "metadata": {
        "id": "XsMNL6oWILg0"
      },
      "source": [
        "from sklearn.tree import DecisionTreeRegressor\n",
        "from sklearn.metrics import accuracy_score, roc_auc_score\n",
        "\n",
        "from sklearn.metrics import mean_squared_error as MSE\n",
        "from sklearn import tree\n",
        "from sklearn.tree import export_text, export_graphviz\n",
        "import graphviz"
      ],
      "execution_count": 44,
      "outputs": []
    },
    {
      "cell_type": "markdown",
      "metadata": {
        "id": "JnFVBRW7Wzcu"
      },
      "source": [
        "Fit model with max_depth = 1 "
      ]
    },
    {
      "cell_type": "code",
      "metadata": {
        "colab": {
          "base_uri": "https://localhost:8080/"
        },
        "id": "RQu0GkICWWk2",
        "outputId": "e7aff6d9-f7aa-4475-c2c9-8a0db1a8fa62"
      },
      "source": [
        "dtr = DecisionTreeRegressor(max_depth=1)\n",
        "dtr.fit(X_train, y_train)"
      ],
      "execution_count": 45,
      "outputs": [
        {
          "output_type": "execute_result",
          "data": {
            "text/plain": [
              "DecisionTreeRegressor(ccp_alpha=0.0, criterion='mse', max_depth=1,\n",
              "                      max_features=None, max_leaf_nodes=None,\n",
              "                      min_impurity_decrease=0.0, min_impurity_split=None,\n",
              "                      min_samples_leaf=1, min_samples_split=2,\n",
              "                      min_weight_fraction_leaf=0.0, presort='deprecated',\n",
              "                      random_state=None, splitter='best')"
            ]
          },
          "metadata": {},
          "execution_count": 45
        }
      ]
    },
    {
      "cell_type": "code",
      "metadata": {
        "id": "e5v5KqhDbxG5"
      },
      "source": [
        "y_pred_val = dtr.predict(X_val)"
      ],
      "execution_count": 50,
      "outputs": []
    },
    {
      "cell_type": "code",
      "metadata": {
        "id": "qSQgup2PvJhl"
      },
      "source": [
        "def rmse(y, y_pred):\n",
        "    error = y_pred - y\n",
        "    mse = (error ** 2).mean()\n",
        "    return np.sqrt(mse)"
      ],
      "execution_count": 47,
      "outputs": []
    },
    {
      "cell_type": "code",
      "metadata": {
        "colab": {
          "base_uri": "https://localhost:8080/"
        },
        "id": "tOxVZs9GvQ6J",
        "outputId": "5403f2da-62c9-4ebf-906f-6be30cd7a0aa"
      },
      "source": [
        "rmse(y_val, y_pred_val)"
      ],
      "execution_count": 48,
      "outputs": [
        {
          "output_type": "execute_result",
          "data": {
            "text/plain": [
              "0.5488190627763665"
            ]
          },
          "metadata": {},
          "execution_count": 48
        }
      ]
    },
    {
      "cell_type": "code",
      "metadata": {
        "colab": {
          "base_uri": "https://localhost:8080/"
        },
        "id": "evGXGNhSlMxa",
        "outputId": "4ea9d390-2656-4862-dd9c-7ae869f9df4c"
      },
      "source": [
        "mse = MSE(y_val, y_pred_val)\n",
        "mse\n"
      ],
      "execution_count": 51,
      "outputs": [
        {
          "output_type": "execute_result",
          "data": {
            "text/plain": [
              "0.301202363666734"
            ]
          },
          "metadata": {},
          "execution_count": 51
        }
      ]
    },
    {
      "cell_type": "code",
      "metadata": {
        "colab": {
          "base_uri": "https://localhost:8080/"
        },
        "id": "hhCBOmgPlpsQ",
        "outputId": "d0339d1d-e06a-4694-c559-dd76f0f75c9d"
      },
      "source": [
        "rmse = np.sqrt(mse)\n",
        "rmse"
      ],
      "execution_count": 52,
      "outputs": [
        {
          "output_type": "execute_result",
          "data": {
            "text/plain": [
              "0.5488190627763707"
            ]
          },
          "metadata": {},
          "execution_count": 52
        }
      ]
    },
    {
      "cell_type": "markdown",
      "metadata": {
        "id": "yQJFohVUWJdd"
      },
      "source": [
        "####Visualizing the tree"
      ]
    },
    {
      "cell_type": "code",
      "metadata": {
        "colab": {
          "base_uri": "https://localhost:8080/"
        },
        "id": "-RIS0gfEWKYd",
        "outputId": "067235b4-6a03-4c37-86fd-72f0af6b5a66"
      },
      "source": [
        "from sklearn.tree import export_text\n",
        "\n",
        "print(export_text(dtr, feature_names=dv.get_feature_names()))"
      ],
      "execution_count": 53,
      "outputs": [
        {
          "output_type": "stream",
          "name": "stdout",
          "text": [
            "|--- room_type=Entire home/apt <= 0.50\n",
            "|   |--- value: [4.29]\n",
            "|--- room_type=Entire home/apt >  0.50\n",
            "|   |--- value: [5.15]\n",
            "\n"
          ]
        }
      ]
    },
    {
      "cell_type": "code",
      "metadata": {
        "colab": {
          "base_uri": "https://localhost:8080/",
          "height": 572
        },
        "id": "fjU6DvG2h40v",
        "outputId": "8e1246c9-2720-4c53-937b-b9a20e1b3d1e"
      },
      "source": [
        "# Let's set dpi = 325 to make image clearer than default\n",
        "fig, axes = plt.subplots(nrows = 1,ncols = 1,figsize = (2,2), dpi=325)\n",
        "\n",
        "tree.plot_tree(dtr, feature_names = dv.get_feature_names())\n",
        "plt.show()"
      ],
      "execution_count": 54,
      "outputs": [
        {
          "output_type": "display_data",
          "data": {
            "image/png": "[encoded data removed]",
            "text/plain": [
              "<Figure size 650x650 with 1 Axes>"
            ]
          },
          "metadata": {
            "needs_background": "light"
          }
        }
      ]
    },
    {
      "cell_type": "markdown",
      "metadata": {
        "id": "da8yW46XILg1"
      },
      "source": [
        "Which feature is used for splitting the data?\n",
        "\n",
        "* `room_type`\n",
        "* `neighbourhood_group`\n",
        "* `number_of_reviews`\n",
        "* `reviews_per_month`"
      ]
    },
    {
      "cell_type": "markdown",
      "metadata": {
        "id": "X5UbPTCtbP2c"
      },
      "source": [
        "**Answer One: ``room_type``**"
      ]
    },
    {
      "cell_type": "markdown",
      "metadata": {
        "id": "0KmxUMzSILg2"
      },
      "source": [
        "## Question 2\n",
        "\n",
        "Train a random forest model with these parameters:\n",
        "\n",
        "* `n_estimators=10`\n",
        "* `random_state=1`\n",
        "* `n_jobs=-1`  (optional - to make training faster)"
      ]
    },
    {
      "cell_type": "code",
      "metadata": {
        "id": "RloOm5zseLlJ"
      },
      "source": [
        "from sklearn.ensemble import RandomForestRegressor\n",
        "from sklearn.datasets import make_regression"
      ],
      "execution_count": 55,
      "outputs": []
    },
    {
      "cell_type": "code",
      "metadata": {
        "id": "1pWwsxFVILg2"
      },
      "source": [
        "from sklearn import metrics\n",
        "\n",
        "from sklearn.metrics import mean_squared_error\n",
        "import math"
      ],
      "execution_count": 56,
      "outputs": []
    },
    {
      "cell_type": "code",
      "metadata": {
        "colab": {
          "base_uri": "https://localhost:8080/"
        },
        "id": "9vwrvBvEmIBh",
        "outputId": "2bf85c2a-3f12-40c8-b8bb-2c2305775520"
      },
      "source": [
        "rfr = RandomForestRegressor(n_estimators=10, random_state=1, n_jobs=-1)\n",
        "rfr.fit(X_train, y_train)\n",
        "\n",
        "y_pred = rfr.predict(X_val)\n",
        "\n",
        "print('Root Mean Squared Error = {0}'.format(np.sqrt(MSE(y_val, y_pred))))"
      ],
      "execution_count": 57,
      "outputs": [
        {
          "output_type": "stream",
          "name": "stdout",
          "text": [
            "Root Mean Squared Error = 0.460888788095762\n"
          ]
        }
      ]
    },
    {
      "cell_type": "markdown",
      "metadata": {
        "id": "N4V_svY5ILg3"
      },
      "source": [
        "What's the RMSE of this model on validation?\n",
        "\n",
        "* 0.059\n",
        "* 0.259\n",
        "* 0.459\n",
        "* 0.659"
      ]
    },
    {
      "cell_type": "markdown",
      "metadata": {
        "id": "syqGEB5wzSnI"
      },
      "source": [
        "####**Answer 2: RMSE on validation is 0.459**"
      ]
    },
    {
      "cell_type": "markdown",
      "metadata": {
        "id": "nlimd6RnILg4"
      },
      "source": [
        "## Question 3\n",
        "\n",
        "Now let's experiment with the `n_estimators` parameter\n",
        "\n",
        "* Try different values of this parameter from 10 to 200 with step 10\n",
        "* Set `random_state` to `1`\n",
        "* Evaluate the model on the validation dataset"
      ]
    },
    {
      "cell_type": "code",
      "metadata": {
        "id": "frmY-zGdILg4"
      },
      "source": [
        "scores = []\n",
        "\n",
        "for n in range(10, 201, 10):\n",
        "    rf = RandomForestRegressor(n_estimators=n, random_state=1)\n",
        "    rf.fit(X_train, y_train)\n",
        "\n",
        "    y_pred_val = rf.predict(X_val)\n",
        "    rmse = np.sqrt(MSE(y_val, y_pred_val))\n",
        "    \n",
        "    scores.append((n, rmse))"
      ],
      "execution_count": 58,
      "outputs": []
    },
    {
      "cell_type": "code",
      "metadata": {
        "id": "8k898Itrz_un"
      },
      "source": [
        "columns = ['n_estimators', 'rmse']\n",
        "df_scores = pd.DataFrame(scores, columns=columns)   "
      ],
      "execution_count": 59,
      "outputs": []
    },
    {
      "cell_type": "code",
      "metadata": {
        "colab": {
          "base_uri": "https://localhost:8080/",
          "height": 265
        },
        "id": "jBQvpiJM2CZV",
        "outputId": "72a71fe5-0dd1-424c-f45e-584334b6c3a8"
      },
      "source": [
        "df_scores = pd.DataFrame(scores, columns=['n_estimators', 'rmse'])\n",
        "plt.plot(df_scores.n_estimators, df_scores.rmse)\n",
        "plt.show()"
      ],
      "execution_count": 60,
      "outputs": [
        {
          "output_type": "display_data",
          "data": {
            "image/png": "[encoded data removed]",
            "text/plain": [
              "<Figure size 432x288 with 1 Axes>"
            ]
          },
          "metadata": {
            "needs_background": "light"
          }
        }
      ]
    },
    {
      "cell_type": "markdown",
      "metadata": {
        "id": "7Kw-SuyyILg5"
      },
      "source": [
        "After which value of `n_estimators` does RMSE stop improving?\n",
        "\n",
        "- 10\n",
        "- 50\n",
        "- 70\n",
        "- 120"
      ]
    },
    {
      "cell_type": "markdown",
      "metadata": {
        "id": "8umxdhM03VjO"
      },
      "source": [
        "####**Answer 3. The RMSE stops improving after n_estimators = 120**"
      ]
    },
    {
      "cell_type": "markdown",
      "metadata": {
        "id": "zEzk2HyjILg5"
      },
      "source": [
        "## Question 4\n",
        "\n",
        "Let's select the best `max_depth`:\n",
        "\n",
        "* Try different values of `max_depth`: `[10, 15, 20, 25]`\n",
        "* For each of these values, try different values of `n_estimators` from 10 till 200 (with step 10)\n",
        "* Fix the random seed: `random_state=1`"
      ]
    },
    {
      "cell_type": "code",
      "metadata": {
        "id": "r_ZRrq5PILg5"
      },
      "source": [
        "scores = []\n",
        "\n",
        "for d in [10, 15, 20, 25]:\n",
        "    for n in range(10, 201, 10):\n",
        "        rf = RandomForestRegressor(n_estimators=n,\n",
        "                                   max_depth=d,\n",
        "                                   random_state=1, n_jobs=-1)\n",
        "        rf.fit(X_train, y_train)\n",
        "\n",
        "        y_pred_val = rf.predict(X_val)\n",
        "        rmse = np.sqrt(MSE(y_val, y_pred_val))\n",
        "\n",
        "        scores.append((d, n, rmse))"
      ],
      "execution_count": 61,
      "outputs": []
    },
    {
      "cell_type": "code",
      "metadata": {
        "id": "SbfMoLY-5Abp"
      },
      "source": [
        "columns = ['max_depth','n_estimators','rmse']\n",
        "df_scores = pd.DataFrame(scores, columns=columns)"
      ],
      "execution_count": 62,
      "outputs": []
    },
    {
      "cell_type": "code",
      "metadata": {
        "colab": {
          "base_uri": "https://localhost:8080/",
          "height": 281
        },
        "id": "KQif7TWo88SH",
        "outputId": "cfd917c1-c824-4823-bbf1-ef56b56563ce"
      },
      "source": [
        "for d in [10, 15, 20, 25]:\n",
        "    df_subset = df_scores[df_scores.max_depth == d]\n",
        "    \n",
        "    plt.plot(df_subset.n_estimators, df_subset.rmse,\n",
        "             label='max_depth=%d' % d)\n",
        "\n",
        "plt.title('RMSE at different depth values')\n",
        "plt.legend()\n",
        "plt.show()"
      ],
      "execution_count": 63,
      "outputs": [
        {
          "output_type": "display_data",
          "data": {
            "image/png": "[encoded data removed]",
            "text/plain": [
              "<Figure size 432x288 with 1 Axes>"
            ]
          },
          "metadata": {
            "needs_background": "light"
          }
        }
      ]
    },
    {
      "cell_type": "markdown",
      "metadata": {
        "id": "pAFglv9yILg6"
      },
      "source": [
        "What's the best `max_depth`:\n",
        "\n",
        "* 10\n",
        "* 15\n",
        "* 20\n",
        "* 25\n",
        "\n",
        "Bonus question (not graded):\n",
        "\n",
        "Will the answer be different if we change the seed for the model?"
      ]
    },
    {
      "cell_type": "markdown",
      "metadata": {
        "id": "lxshju6G_M7f"
      },
      "source": [
        "####**Answer 4. The best max_depth is 15**"
      ]
    },
    {
      "cell_type": "markdown",
      "metadata": {
        "id": "UKbtJK0T_WU6"
      },
      "source": [
        "Let's change the randon_state to 2"
      ]
    },
    {
      "cell_type": "code",
      "metadata": {
        "id": "RzxDUoIa_bmh"
      },
      "source": [
        "scores = []\n",
        "\n",
        "for d in [10, 15, 20, 25]:\n",
        "    for n in range(10, 201, 10):\n",
        "        rf = RandomForestRegressor(n_estimators=n,\n",
        "                                   max_depth=d,\n",
        "                                   random_state=2)\n",
        "        rf.fit(X_train, y_train)\n",
        "\n",
        "        y_pred_val = rf.predict(X_val)\n",
        "        rmse = np.sqrt(MSE(y_val, y_pred_val))\n",
        "\n",
        "        scores.append((d, n, rmse))"
      ],
      "execution_count": 64,
      "outputs": []
    },
    {
      "cell_type": "code",
      "metadata": {
        "id": "PJfBt4kO_fHy"
      },
      "source": [
        "df_scores = pd.DataFrame(scores, columns=['max_depth','n_estimators','rmse'])"
      ],
      "execution_count": 65,
      "outputs": []
    },
    {
      "cell_type": "code",
      "metadata": {
        "colab": {
          "base_uri": "https://localhost:8080/",
          "height": 265
        },
        "id": "DJl7NmPH_i3D",
        "outputId": "b311111c-1afb-43f3-ffcd-2fb8c9316765"
      },
      "source": [
        "for d in [10, 15, 20, 25]:\n",
        "    df_subset = df_scores[df_scores.max_depth == d]\n",
        "    \n",
        "    plt.plot(df_subset.n_estimators, df_subset.rmse,\n",
        "             label='max_depth=%d' % d)\n",
        "\n",
        "plt.legend()\n",
        "plt.show()"
      ],
      "execution_count": 67,
      "outputs": [
        {
          "output_type": "display_data",
          "data": {
            "image/png": "[encoded data removed]",
            "text/plain": [
              "<Figure size 432x288 with 1 Axes>"
            ]
          },
          "metadata": {
            "needs_background": "light"
          }
        }
      ]
    },
    {
      "cell_type": "markdown",
      "metadata": {
        "id": "3Af-3evzCEd_"
      },
      "source": [
        "####**No change in the answer**"
      ]
    },
    {
      "cell_type": "markdown",
      "metadata": {
        "id": "YMZAkpEkILg6"
      },
      "source": [
        "## Question 5\n",
        "\n",
        "We can extract feature importance information from tree-based models. \n",
        "\n",
        "At each step of the decision tree learning algorith, it finds the best split. \n",
        "When doint it, we can calculate \"gain\" - the reduction in impurity before and after the split. \n",
        "This gain is quite useful in understanding what are the imporatant features \n",
        "for tree-based models.\n",
        "\n",
        "In Scikit-Learn, tree-based models contain this information in the `feature_importances_` field. \n",
        "\n",
        "For this homework question, we'll find the most important feature:\n",
        "\n",
        "* Train the model with these parametes:\n",
        "    * `n_estimators=10`,\n",
        "    * `max_depth=20`,\n",
        "    * `random_state=1`,\n",
        "    * `n_jobs=-1` (optional)\n",
        "* Get the feature importance information from this model"
      ]
    },
    {
      "cell_type": "code",
      "metadata": {
        "colab": {
          "base_uri": "https://localhost:8080/"
        },
        "id": "tGb9GNTiILg7",
        "outputId": "a95272b2-8ddf-460b-97d3-2b29867d3dd0"
      },
      "source": [
        "rf = RandomForestRegressor(n_estimators=10, max_depth=10, random_state=1, n_jobs=-1)\n",
        "rf.fit(X_train, y_train)\n",
        "\n",
        "y_pred_val = rf.predict(X_val)\n",
        "\n",
        "print('Root Mean Squared Error = {0}'.format(np.sqrt(MSE(y_val, y_pred_val))))\n",
        "\n",
        "print('Feature importances: {0}'.format(rf.feature_importances_))"
      ],
      "execution_count": 68,
      "outputs": [
        {
          "output_type": "stream",
          "name": "stdout",
          "text": [
            "Root Mean Squared Error = 0.44520997451725497\n",
            "Feature importances: [5.92287552e-02 2.14539978e-02 1.06857456e-01 1.11320969e-01\n",
            " 4.20365244e-02 9.01475777e-05 1.81309527e-04 4.75866608e-02\n",
            " 3.70520540e-04 4.92966349e-05 2.09295605e-02 2.47090634e-02\n",
            " 5.53151574e-01 5.65041347e-03 6.38375138e-03]\n"
          ]
        }
      ]
    },
    {
      "cell_type": "code",
      "metadata": {
        "colab": {
          "base_uri": "https://localhost:8080/",
          "height": 585
        },
        "id": "xgAXPw5ZCS1O",
        "outputId": "5ff49b78-2772-4b06-eac1-2b55800446c4"
      },
      "source": [
        "importances = rf.feature_importances_\n",
        "forest_importances = pd.Series(importances, index=dv.feature_names_)\n",
        "std = np.std([tree.feature_importances_ for tree in rf.estimators_], axis=0)\n",
        "fig, ax = plt.subplots(figsize = (12,8))\n",
        "forest_importances.plot.bar(yerr=std, ax=ax)\n",
        "ax.set_title(\"Feature importances using Mean Decrease in Impurity(MDI)\")\n",
        "ax.set_xlabel(\"Mean decrease in impurity\")\n",
        "fig.tight_layout()"
      ],
      "execution_count": 69,
      "outputs": [
        {
          "output_type": "display_data",
          "data": {
            "image/png": "[encoded data removed]",
            "text/plain": [
              "<Figure size 864x576 with 1 Axes>"
            ]
          },
          "metadata": {
            "needs_background": "light"
          }
        }
      ]
    },
    {
      "cell_type": "markdown",
      "metadata": {
        "id": "8C6x7aIXILg8"
      },
      "source": [
        "What's the most important feature? \n",
        "\n",
        "* `neighbourhood_group=Manhattan`\n",
        "* `room_type=Entire home/apt`\t\n",
        "* `longitude`\n",
        "* `latitude`"
      ]
    },
    {
      "cell_type": "markdown",
      "metadata": {
        "id": "vndb2_vJC4-c"
      },
      "source": [
        "####**Most important feature is room_type=Entire home/apt**"
      ]
    },
    {
      "cell_type": "markdown",
      "metadata": {
        "id": "UyEdCv7YILg8"
      },
      "source": [
        "## Question 6"
      ]
    },
    {
      "cell_type": "markdown",
      "metadata": {
        "id": "PS9Yc2MtILg8"
      },
      "source": [
        "Now let's train an XGBoost model! For this question, we'll tune the `eta` parameter\n",
        "\n",
        "* Install XGBoost\n",
        "* Create DMatrix for train and validation\n",
        "* Create a watchlist\n",
        "* Train a model with these parameters for 100 rounds:\n",
        "\n",
        "```\n",
        "xgb_params = {\n",
        "    'eta': 0.3, \n",
        "    'max_depth': 6,\n",
        "    'min_child_weight': 1,\n",
        "    \n",
        "    'objective': 'reg:squarederror',\n",
        "    'nthread': 8,\n",
        "    \n",
        "    'seed': 1,\n",
        "    'verbosity': 1,\n",
        "}\n",
        "```"
      ]
    },
    {
      "cell_type": "code",
      "metadata": {
        "id": "JbUhEMQtC2sS"
      },
      "source": [
        "import xgboost as xgb"
      ],
      "execution_count": 70,
      "outputs": []
    },
    {
      "cell_type": "code",
      "metadata": {
        "id": "bKgj9STPILg9"
      },
      "source": [
        "features = dv.get_feature_names()\n",
        "dtrain = xgb.DMatrix(X_train, label=y_train, feature_names=features)\n",
        "dval = xgb.DMatrix(X_val, label=y_val, feature_names=features)"
      ],
      "execution_count": 71,
      "outputs": []
    },
    {
      "cell_type": "code",
      "metadata": {
        "id": "S-h3p7x2DMew"
      },
      "source": [
        "watchlist = [(dtrain, 'train'), (dval, 'val')]"
      ],
      "execution_count": 72,
      "outputs": []
    },
    {
      "cell_type": "code",
      "metadata": {
        "id": "z0LlT2XZDrgV"
      },
      "source": [
        "%%capture output\n",
        "\n",
        "xgb_params = {\n",
        "    'eta': 0.3, \n",
        "    'max_depth': 6,\n",
        "    'min_child_weight': 1,\n",
        "\n",
        "    'objective': 'reg:squarederror',\n",
        "    'nthread': 8,\n",
        "\n",
        "    'seed': 1,\n",
        "    'verbosity': 1,\n",
        "}\n",
        "\n",
        "model3 = xgb.train(xgb_params, dtrain, num_boost_round=100,\n",
        "                   verbose_eval=5,\n",
        "                   evals=watchlist)\n"
      ],
      "execution_count": 73,
      "outputs": []
    },
    {
      "cell_type": "code",
      "metadata": {
        "id": "Xsh-eB05DzdF"
      },
      "source": [
        "eta_3 = output.stdout"
      ],
      "execution_count": 74,
      "outputs": []
    },
    {
      "cell_type": "code",
      "metadata": {
        "colab": {
          "base_uri": "https://localhost:8080/"
        },
        "id": "lmcWUWySEPhz",
        "outputId": "e6f4c33f-1e39-49e6-afb9-11751b84633a"
      },
      "source": [
        "print(eta_3[:100])"
      ],
      "execution_count": 75,
      "outputs": [
        {
          "output_type": "stream",
          "name": "stdout",
          "text": [
            "[0]\ttrain-rmse:3.02752\tval-rmse:3.02415\n",
            "[5]\ttrain-rmse:0.674904\tval-rmse:0.677523\n",
            "[10]\ttrain-rmse:0.\n"
          ]
        }
      ]
    },
    {
      "cell_type": "code",
      "metadata": {
        "id": "TB6LAm0WEmq8"
      },
      "source": [
        "y_pred_val3 = model3.predict(dval)"
      ],
      "execution_count": 76,
      "outputs": []
    },
    {
      "cell_type": "code",
      "metadata": {
        "id": "WrsdBFPPE1wZ"
      },
      "source": [
        "def parse_xgb_output(output):\n",
        "    results = []\n",
        "\n",
        "    for line in output.stdout.strip().split('\\n'):\n",
        "        it_line, train_line, val_line = line.split('\\t')\n",
        "\n",
        "        it = int(it_line.strip('[]'))\n",
        "        train = float(train_line.split(':')[1])\n",
        "        val = float(val_line.split(':')[1])\n",
        "\n",
        "        results.append((it, train, val))\n",
        "    \n",
        "    columns = ['num_iter', 'train_auc', 'val_auc']\n",
        "    df_results = pd.DataFrame(results, columns=columns)\n",
        "    return df_results"
      ],
      "execution_count": 77,
      "outputs": []
    },
    {
      "cell_type": "code",
      "metadata": {
        "id": "cJ3_cIv-E9Uh"
      },
      "source": [
        "df_score3 = parse_xgb_output(output)"
      ],
      "execution_count": 78,
      "outputs": []
    },
    {
      "cell_type": "code",
      "metadata": {
        "colab": {
          "base_uri": "https://localhost:8080/",
          "height": 265
        },
        "id": "mgtla7J6FAVH",
        "outputId": "a7d1150c-7e0a-4f36-e676-f5b3159364c0"
      },
      "source": [
        "plt.plot(df_score3.num_iter, df_score3.train_auc, label='train')\n",
        "plt.plot(df_score3.num_iter, df_score3.val_auc, label='val')\n",
        "plt.legend()\n",
        "plt.show()"
      ],
      "execution_count": 79,
      "outputs": [
        {
          "output_type": "display_data",
          "data": {
            "image/png": "[encoded data removed]",
            "text/plain": [
              "<Figure size 432x288 with 1 Axes>"
            ]
          },
          "metadata": {
            "needs_background": "light"
          }
        }
      ]
    },
    {
      "cell_type": "code",
      "metadata": {
        "colab": {
          "base_uri": "https://localhost:8080/",
          "height": 265
        },
        "id": "k_b0N9cCFAUG",
        "outputId": "f8d19b93-486c-4a98-b621-ef1643ba071b"
      },
      "source": [
        "plt.plot(df_score3.num_iter, df_score3.val_auc, label='val')\n",
        "plt.legend()\n",
        "plt.show()"
      ],
      "execution_count": 80,
      "outputs": [
        {
          "output_type": "display_data",
          "data": {
            "image/png": "[encoded data removed]",
            "text/plain": [
              "<Figure size 432x288 with 1 Axes>"
            ]
          },
          "metadata": {
            "needs_background": "light"
          }
        }
      ]
    },
    {
      "cell_type": "markdown",
      "metadata": {
        "id": "bxzluy9sILg9"
      },
      "source": [
        "Now change `eta` first to `0.1` and then to `0.01`"
      ]
    },
    {
      "cell_type": "code",
      "metadata": {
        "id": "VWlmZ5TsILg9"
      },
      "source": [
        "%%capture output\n",
        "\n",
        "xgb_params = {\n",
        "    'eta': 0.1, \n",
        "    'max_depth': 6,\n",
        "    'min_child_weight': 1,\n",
        "\n",
        "    'objective': 'reg:squarederror',\n",
        "    'nthread': 8,\n",
        "\n",
        "    'seed': 1,\n",
        "    'verbosity': 1,\n",
        "}\n",
        "\n",
        "model1 = xgb.train(xgb_params, dtrain, num_boost_round=100,\n",
        "                   verbose_eval=5,\n",
        "                   evals=watchlist)"
      ],
      "execution_count": 81,
      "outputs": []
    },
    {
      "cell_type": "code",
      "metadata": {
        "id": "ORf7fwAfFPe7"
      },
      "source": [
        "eta_1 = output.stdout"
      ],
      "execution_count": 82,
      "outputs": []
    },
    {
      "cell_type": "code",
      "metadata": {
        "colab": {
          "base_uri": "https://localhost:8080/"
        },
        "id": "cTGcjeweFVDX",
        "outputId": "e3e5e3b3-5b25-4496-9968-bd8b5b21a1ba"
      },
      "source": [
        "print(eta_1[:100])"
      ],
      "execution_count": 83,
      "outputs": [
        {
          "output_type": "stream",
          "name": "stdout",
          "text": [
            "[0]\ttrain-rmse:3.87217\tval-rmse:3.86889\n",
            "[5]\ttrain-rmse:2.31905\tval-rmse:2.31689\n",
            "[10]\ttrain-rmse:1.41\n"
          ]
        }
      ]
    },
    {
      "cell_type": "code",
      "metadata": {
        "id": "dExezCSsFfkZ"
      },
      "source": [
        "y_pred_val1 = model1.predict(dval)"
      ],
      "execution_count": 84,
      "outputs": []
    },
    {
      "cell_type": "code",
      "metadata": {
        "id": "sglLyQVFFfb2"
      },
      "source": [
        "df_score1 = parse_xgb_output(output)"
      ],
      "execution_count": 85,
      "outputs": []
    },
    {
      "cell_type": "code",
      "metadata": {
        "colab": {
          "base_uri": "https://localhost:8080/",
          "height": 267
        },
        "id": "bz8L2d9wFfSv",
        "outputId": "14c3819b-f62a-4120-d7b2-468c00dfd47b"
      },
      "source": [
        "plt.plot(df_score1.num_iter, df_score1.train_auc, label='train')\n",
        "plt.plot(df_score1.num_iter, df_score1.val_auc, label='val')\n",
        "plt.legend()\n",
        "plt.show()"
      ],
      "execution_count": 86,
      "outputs": [
        {
          "output_type": "display_data",
          "data": {
            "image/png": "[encoded data removed]",
            "text/plain": [
              "<Figure size 432x288 with 1 Axes>"
            ]
          },
          "metadata": {
            "needs_background": "light"
          }
        }
      ]
    },
    {
      "cell_type": "code",
      "metadata": {
        "colab": {
          "base_uri": "https://localhost:8080/",
          "height": 267
        },
        "id": "MIPz8r_HFmtM",
        "outputId": "52efd420-5ca3-4017-daff-01d4c7085bda"
      },
      "source": [
        "plt.plot(df_score1.num_iter, df_score1.val_auc, label='val')\n",
        "plt.legend()\n",
        "plt.show()"
      ],
      "execution_count": 87,
      "outputs": [
        {
          "output_type": "display_data",
          "data": {
            "image/png": "[encoded data removed]",
            "text/plain": [
              "<Figure size 432x288 with 1 Axes>"
            ]
          },
          "metadata": {
            "needs_background": "light"
          }
        }
      ]
    },
    {
      "cell_type": "code",
      "metadata": {
        "id": "TmI3co_cFyUU"
      },
      "source": [
        "%%capture output\n",
        "\n",
        "xgb_params = {\n",
        "    'eta': 0.01, \n",
        "    'max_depth': 6,\n",
        "    'min_child_weight': 1,\n",
        "\n",
        "    'objective': 'reg:squarederror',\n",
        "    'nthread': 8,\n",
        "\n",
        "    'seed': 1,\n",
        "    'verbosity': 1,\n",
        "}\n",
        "\n",
        "model01 = xgb.train(xgb_params, dtrain, num_boost_round=100,\n",
        "                    verbose_eval=5,\n",
        "                    evals=watchlist)"
      ],
      "execution_count": 88,
      "outputs": []
    },
    {
      "cell_type": "code",
      "metadata": {
        "id": "G0nnFW1jF3fH"
      },
      "source": [
        "eta_01 = output.stdout"
      ],
      "execution_count": 89,
      "outputs": []
    },
    {
      "cell_type": "code",
      "metadata": {
        "colab": {
          "base_uri": "https://localhost:8080/"
        },
        "id": "Qc-6zIPlF3Zc",
        "outputId": "da35fcc5-4756-41d2-c07a-db9f963dfe07"
      },
      "source": [
        "print(eta_01[:100])"
      ],
      "execution_count": 90,
      "outputs": [
        {
          "output_type": "stream",
          "name": "stdout",
          "text": [
            "[0]\ttrain-rmse:4.25336\tval-rmse:4.2501\n",
            "[5]\ttrain-rmse:4.04779\tval-rmse:4.04454\n",
            "[10]\ttrain-rmse:3.852\n"
          ]
        }
      ]
    },
    {
      "cell_type": "code",
      "metadata": {
        "id": "oB8qGWMCF3UU"
      },
      "source": [
        "y_pred_val01 = model01.predict(dval)"
      ],
      "execution_count": 91,
      "outputs": []
    },
    {
      "cell_type": "code",
      "metadata": {
        "id": "o9jBHMByGCmX"
      },
      "source": [
        "df_score01 = parse_xgb_output(output)"
      ],
      "execution_count": 92,
      "outputs": []
    },
    {
      "cell_type": "code",
      "metadata": {
        "colab": {
          "base_uri": "https://localhost:8080/",
          "height": 265
        },
        "id": "KdiTbEkhGCda",
        "outputId": "509a93e6-fb0f-4a21-e56e-c1b40b8d2766"
      },
      "source": [
        "plt.plot(df_score01.num_iter, df_score01.train_auc, label='train')\n",
        "plt.plot(df_score01.num_iter, df_score01.val_auc, label='val')\n",
        "plt.legend()\n",
        "plt.show()"
      ],
      "execution_count": 93,
      "outputs": [
        {
          "output_type": "display_data",
          "data": {
            "image/png": "[encoded data removed]",
            "text/plain": [
              "<Figure size 432x288 with 1 Axes>"
            ]
          },
          "metadata": {
            "needs_background": "light"
          }
        }
      ]
    },
    {
      "cell_type": "code",
      "metadata": {
        "colab": {
          "base_uri": "https://localhost:8080/",
          "height": 265
        },
        "id": "pF9i5rWuGLXr",
        "outputId": "d00f79d7-767a-4762-96dc-88a7180fbe0c"
      },
      "source": [
        "plt.plot(df_score01.num_iter, df_score01.val_auc, label='val')\n",
        "plt.legend()\n",
        "plt.show()"
      ],
      "execution_count": 94,
      "outputs": [
        {
          "output_type": "display_data",
          "data": {
            "image/png": "[encoded data removed]",
            "text/plain": [
              "<Figure size 432x288 with 1 Axes>"
            ]
          },
          "metadata": {
            "needs_background": "light"
          }
        }
      ]
    },
    {
      "cell_type": "code",
      "metadata": {
        "colab": {
          "base_uri": "https://localhost:8080/",
          "height": 265
        },
        "id": "QjoUIrJwGQAB",
        "outputId": "ffeb66f6-d20b-4ce1-e7fe-eecd41058a77"
      },
      "source": [
        "plt.plot(df_score01.num_iter, df_score3.val_auc, label='val squared error eta = 0.3')\n",
        "plt.plot(df_score01.num_iter, df_score1.val_auc, label='val squared error eta = 0.1')\n",
        "plt.plot(df_score01.num_iter, df_score01.val_auc, label='val squared error eta = 0.01')\n",
        "plt.legend()\n",
        "plt.show()"
      ],
      "execution_count": 95,
      "outputs": [
        {
          "output_type": "display_data",
          "data": {
            "image/png": "[encoded data removed]",
            "text/plain": [
              "<Figure size 432x288 with 1 Axes>"
            ]
          },
          "metadata": {
            "needs_background": "light"
          }
        }
      ]
    },
    {
      "cell_type": "markdown",
      "metadata": {
        "id": "fbcDW3GjILg9"
      },
      "source": [
        "Which eta leads to the best RMSE score on the validation dataset?\n",
        "\n",
        "* 0.3\n",
        "* 0.1\n",
        "* 0.01"
      ]
    },
    {
      "cell_type": "markdown",
      "metadata": {
        "id": "-_ENKSX-GfAy"
      },
      "source": [
        "####**The best eta in our case is 0.3 as this gives the lowest squared error.**"
      ]
    }
  ]
}