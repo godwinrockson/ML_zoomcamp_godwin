{
  "nbformat": 4,
  "nbformat_minor": 0,
  "metadata": {
    "colab": {
      "name": "ml_zoomcamp_hmwk_3",
      "provenance": [],
      "authorship_tag": "ABX9TyOGVkclGpN7eIAfIwz+FZ7x"
    },
    "kernelspec": {
      "name": "python3",
      "display_name": "Python 3"
    },
    "language_info": {
      "name": "python"
    }
  },
  "cells": [
    {
      "cell_type": "markdown",
      "metadata": {
        "id": "ZxNdtybzNSfb"
      },
      "source": [
        "#Machine Learning for Classification"
      ]
    },
    {
      "cell_type": "markdown",
      "metadata": {
        "id": "qIieO79XN5jj"
      },
      "source": [
        "In this project, I practice some skills involved in machine learning for classification using Scikit-Learn. I use the New York City Airbnb Open Dataset from [Kaggle](https://www.kaggle.com/dgomonov/new-york-city-airbnb-open-data?select=AB_NYC_2019.csv).\n"
      ]
    },
    {
      "cell_type": "markdown",
      "metadata": {
        "id": "cRRTQu6lrjsf"
      },
      "source": [
        "**NOTE**: \n",
        "\n",
        "*The target variable in this dataset is price which is a continous numeric variable. Using this data for classifcation (with logistic regression) purpose requires binarizing the price data. I note that this can mask the variation in the data. However, I am proceeding with this approach just for purposes of practicing my skill learnt in this python lesson - machine learning for classification using Scikit-learn.*"
      ]
    },
    {
      "cell_type": "markdown",
      "metadata": {
        "id": "YAQPJlaiPjhR"
      },
      "source": [
        "###Installing libraries and load data"
      ]
    },
    {
      "cell_type": "code",
      "metadata": {
        "id": "PlW_snV0PrNP"
      },
      "source": [
        "import pandas as pd\n",
        "import numpy as np\n",
        "\n",
        "import seaborn as sns\n",
        "from matplotlib import pyplot as plt\n",
        "%matplotlib inline\n",
        "\n",
        "from sklearn.model_selection import train_test_split\n",
        "from sklearn.feature_extraction import DictVectorizer\n",
        "from sklearn.metrics import mutual_info_score, accuracy_score, mean_squared_error\n",
        "from sklearn.linear_model import LogisticRegression, Ridge"
      ],
      "execution_count": 104,
      "outputs": []
    },
    {
      "cell_type": "markdown",
      "metadata": {
        "id": "1eT5VX3uRyEH"
      },
      "source": [
        "Setting up google colab to upload, unzip and read the data from Kaggle."
      ]
    },
    {
      "cell_type": "code",
      "metadata": {
        "colab": {
          "resources": {
            "http://localhost:8080/nbextensions/google.colab/files.js": {
              "data": "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",
              "ok": true,
              "headers": [
                [
                  "content-type",
                  "application/javascript"
                ]
              ],
              "status": 200,
              "status_text": ""
            }
          },
          "base_uri": "https://localhost:8080/",
          "height": 73
        },
        "id": "9J_SCPHdRYwf",
        "outputId": "040241ed-3426-43be-9dd8-3f507329b000"
      },
      "source": [
        "from google.colab import files\n",
        "uploaded = files.upload()"
      ],
      "execution_count": 105,
      "outputs": [
        {
          "output_type": "display_data",
          "data": {
            "text/html": [
              "\n",
              "     <input type=\"file\" id=\"files-99f5620f-4b2e-4bce-b85e-b905c4e83e97\" name=\"files[]\" multiple disabled\n",
              "        style=\"border:none\" />\n",
              "     <output id=\"result-99f5620f-4b2e-4bce-b85e-b905c4e83e97\">\n",
              "      Upload widget is only available when the cell has been executed in the\n",
              "      current browser session. Please rerun this cell to enable.\n",
              "      </output>\n",
              "      <script src=\"/nbextensions/google.colab/files.js\"></script> "
            ],
            "text/plain": [
              "<IPython.core.display.HTML object>"
            ]
          },
          "metadata": {}
        },
        {
          "output_type": "stream",
          "name": "stdout",
          "text": [
            "Saving kaggle.json to kaggle (1).json\n"
          ]
        }
      ]
    },
    {
      "cell_type": "code",
      "metadata": {
        "id": "3J2mkd6YRYEI"
      },
      "source": [
        "#Update Kaggle path to pwd\n",
        "import os\n",
        "os.environ['KAGGLE_CONFIG_DIR'] = \"/content\""
      ],
      "execution_count": 106,
      "outputs": []
    },
    {
      "cell_type": "code",
      "metadata": {
        "colab": {
          "base_uri": "https://localhost:8080/"
        },
        "id": "6iTOahYLQ9BL",
        "outputId": "bdaf2e00-568d-4c8f-b1b7-a4d9ecfe2a42"
      },
      "source": [
        "#Use Kaggle CLI for downloading the data: \n",
        "!kaggle datasets download -d dgomonov/new-york-city-airbnb-open-data"
      ],
      "execution_count": 107,
      "outputs": [
        {
          "output_type": "stream",
          "name": "stdout",
          "text": [
            "Warning: Your Kaggle API key is readable by other users on this system! To fix this, you can run 'chmod 600 /content/kaggle.json'\n",
            "new-york-city-airbnb-open-data.zip: Skipping, found more recently modified local copy (use --force to force download)\n"
          ]
        }
      ]
    },
    {
      "cell_type": "code",
      "metadata": {
        "colab": {
          "base_uri": "https://localhost:8080/"
        },
        "id": "coLbOdXTSE08",
        "outputId": "aab6f88f-85ee-4bcd-9431-54afae262d80"
      },
      "source": [
        "!unzip new-york-city-airbnb-open-data.zip"
      ],
      "execution_count": 108,
      "outputs": [
        {
          "output_type": "stream",
          "name": "stdout",
          "text": [
            "Archive:  new-york-city-airbnb-open-data.zip\n",
            "replace AB_NYC_2019.csv? [y]es, [n]o, [A]ll, [N]one, [r]ename: "
          ]
        }
      ]
    },
    {
      "cell_type": "code",
      "metadata": {
        "id": "4ooENiRFQM9Y"
      },
      "source": [
        "df = pd.read_csv('AB_NYC_2019.csv')"
      ],
      "execution_count": 162,
      "outputs": []
    },
    {
      "cell_type": "markdown",
      "metadata": {
        "id": "GephBJhQTu6h"
      },
      "source": [
        "###Checking and cleaning data"
      ]
    },
    {
      "cell_type": "code",
      "metadata": {
        "colab": {
          "base_uri": "https://localhost:8080/"
        },
        "id": "KezGuT1NSVK1",
        "outputId": "93883db1-dbaf-46b8-c531-4e6b0c4f486c"
      },
      "source": [
        "len(df)"
      ],
      "execution_count": 110,
      "outputs": [
        {
          "output_type": "execute_result",
          "data": {
            "text/plain": [
              "48895"
            ]
          },
          "metadata": {},
          "execution_count": 110
        }
      ]
    },
    {
      "cell_type": "code",
      "metadata": {
        "colab": {
          "base_uri": "https://localhost:8080/"
        },
        "id": "3ghjVSo1T4hK",
        "outputId": "71b355ca-4556-4c5e-f12e-3437e90e237a"
      },
      "source": [
        "df.shape"
      ],
      "execution_count": 111,
      "outputs": [
        {
          "output_type": "execute_result",
          "data": {
            "text/plain": [
              "(48895, 16)"
            ]
          },
          "metadata": {},
          "execution_count": 111
        }
      ]
    },
    {
      "cell_type": "markdown",
      "metadata": {
        "id": "g3P3VS3DU1_I"
      },
      "source": [
        "####Check for missing values and fill it with 0s"
      ]
    },
    {
      "cell_type": "code",
      "metadata": {
        "colab": {
          "base_uri": "https://localhost:8080/"
        },
        "id": "2CtPJruiT_iS",
        "outputId": "fc81c65e-06db-41a1-f48a-b23f929e4a45"
      },
      "source": [
        "df.isna().sum()"
      ],
      "execution_count": 112,
      "outputs": [
        {
          "output_type": "execute_result",
          "data": {
            "text/plain": [
              "id                                    0\n",
              "name                                 16\n",
              "host_id                               0\n",
              "host_name                            21\n",
              "neighbourhood_group                   0\n",
              "neighbourhood                         0\n",
              "latitude                              0\n",
              "longitude                             0\n",
              "room_type                             0\n",
              "price                                 0\n",
              "minimum_nights                        0\n",
              "number_of_reviews                     0\n",
              "last_review                       10052\n",
              "reviews_per_month                 10052\n",
              "calculated_host_listings_count        0\n",
              "availability_365                      0\n",
              "dtype: int64"
            ]
          },
          "metadata": {},
          "execution_count": 112
        }
      ]
    },
    {
      "cell_type": "markdown",
      "metadata": {
        "id": "m1nz-k6bVUKG"
      },
      "source": [
        "Before further processing, let's select features we will be using in this project"
      ]
    },
    {
      "cell_type": "markdown",
      "metadata": {
        "id": "KFBcdvzhVWl4"
      },
      "source": [
        "####Selected Features"
      ]
    },
    {
      "cell_type": "markdown",
      "metadata": {
        "id": "gXlhI-wDWWGf"
      },
      "source": [
        "\n",
        "* ```neighbourhood_group```\n",
        "* ```room_type```\n",
        "*```latitude```\n",
        "*```longitude```\n",
        "*```price```\n",
        "*```minimum_nights```\n",
        "*```number_of_reviews```\n",
        "*```reviews_per_month```\n",
        "*```calculated_host_listings_count```\n",
        "*```availability_365```"
      ]
    },
    {
      "cell_type": "code",
      "metadata": {
        "id": "ir-LhkslWAqU"
      },
      "source": [
        "sel_cols = ['neighbourhood_group',\n",
        "'room_type',\n",
        "'latitude',\n",
        "'longitude',\n",
        "'price',\n",
        "'minimum_nights',\n",
        "'number_of_reviews',\n",
        "'reviews_per_month',\n",
        "'calculated_host_listings_count',\n",
        "'availability_365']"
      ],
      "execution_count": 113,
      "outputs": []
    },
    {
      "cell_type": "code",
      "metadata": {
        "id": "jYdpkKpTVck_"
      },
      "source": [
        "df = df[sel_cols]"
      ],
      "execution_count": 114,
      "outputs": []
    },
    {
      "cell_type": "code",
      "metadata": {
        "colab": {
          "base_uri": "https://localhost:8080/",
          "height": 203
        },
        "id": "hG2dLByBWNxw",
        "outputId": "2a3e93a1-cabb-450b-8755-b80b4148afdf"
      },
      "source": [
        "df.head()"
      ],
      "execution_count": 115,
      "outputs": [
        {
          "output_type": "execute_result",
          "data": {
            "text/html": [
              "<div>\n",
              "<style scoped>\n",
              "    .dataframe tbody tr th:only-of-type {\n",
              "        vertical-align: middle;\n",
              "    }\n",
              "\n",
              "    .dataframe tbody tr th {\n",
              "        vertical-align: top;\n",
              "    }\n",
              "\n",
              "    .dataframe thead th {\n",
              "        text-align: right;\n",
              "    }\n",
              "</style>\n",
              "<table border=\"1\" class=\"dataframe\">\n",
              "  <thead>\n",
              "    <tr style=\"text-align: right;\">\n",
              "      <th></th>\n",
              "      <th>neighbourhood_group</th>\n",
              "      <th>room_type</th>\n",
              "      <th>latitude</th>\n",
              "      <th>longitude</th>\n",
              "      <th>price</th>\n",
              "      <th>minimum_nights</th>\n",
              "      <th>number_of_reviews</th>\n",
              "      <th>reviews_per_month</th>\n",
              "      <th>calculated_host_listings_count</th>\n",
              "      <th>availability_365</th>\n",
              "    </tr>\n",
              "  </thead>\n",
              "  <tbody>\n",
              "    <tr>\n",
              "      <th>0</th>\n",
              "      <td>Brooklyn</td>\n",
              "      <td>Private room</td>\n",
              "      <td>40.64749</td>\n",
              "      <td>-73.97237</td>\n",
              "      <td>149</td>\n",
              "      <td>1</td>\n",
              "      <td>9</td>\n",
              "      <td>0.21</td>\n",
              "      <td>6</td>\n",
              "      <td>365</td>\n",
              "    </tr>\n",
              "    <tr>\n",
              "      <th>1</th>\n",
              "      <td>Manhattan</td>\n",
              "      <td>Entire home/apt</td>\n",
              "      <td>40.75362</td>\n",
              "      <td>-73.98377</td>\n",
              "      <td>225</td>\n",
              "      <td>1</td>\n",
              "      <td>45</td>\n",
              "      <td>0.38</td>\n",
              "      <td>2</td>\n",
              "      <td>355</td>\n",
              "    </tr>\n",
              "    <tr>\n",
              "      <th>2</th>\n",
              "      <td>Manhattan</td>\n",
              "      <td>Private room</td>\n",
              "      <td>40.80902</td>\n",
              "      <td>-73.94190</td>\n",
              "      <td>150</td>\n",
              "      <td>3</td>\n",
              "      <td>0</td>\n",
              "      <td>NaN</td>\n",
              "      <td>1</td>\n",
              "      <td>365</td>\n",
              "    </tr>\n",
              "    <tr>\n",
              "      <th>3</th>\n",
              "      <td>Brooklyn</td>\n",
              "      <td>Entire home/apt</td>\n",
              "      <td>40.68514</td>\n",
              "      <td>-73.95976</td>\n",
              "      <td>89</td>\n",
              "      <td>1</td>\n",
              "      <td>270</td>\n",
              "      <td>4.64</td>\n",
              "      <td>1</td>\n",
              "      <td>194</td>\n",
              "    </tr>\n",
              "    <tr>\n",
              "      <th>4</th>\n",
              "      <td>Manhattan</td>\n",
              "      <td>Entire home/apt</td>\n",
              "      <td>40.79851</td>\n",
              "      <td>-73.94399</td>\n",
              "      <td>80</td>\n",
              "      <td>10</td>\n",
              "      <td>9</td>\n",
              "      <td>0.10</td>\n",
              "      <td>1</td>\n",
              "      <td>0</td>\n",
              "    </tr>\n",
              "  </tbody>\n",
              "</table>\n",
              "</div>"
            ],
            "text/plain": [
              "  neighbourhood_group  ... availability_365\n",
              "0            Brooklyn  ...              365\n",
              "1           Manhattan  ...              355\n",
              "2           Manhattan  ...              365\n",
              "3            Brooklyn  ...              194\n",
              "4           Manhattan  ...                0\n",
              "\n",
              "[5 rows x 10 columns]"
            ]
          },
          "metadata": {},
          "execution_count": 115
        }
      ]
    },
    {
      "cell_type": "code",
      "metadata": {
        "colab": {
          "base_uri": "https://localhost:8080/",
          "height": 357
        },
        "id": "d1IG7xrXbrnd",
        "outputId": "0a23ad02-060f-449a-d889-252705eca80e"
      },
      "source": [
        "df.head().T"
      ],
      "execution_count": 116,
      "outputs": [
        {
          "output_type": "execute_result",
          "data": {
            "text/html": [
              "<div>\n",
              "<style scoped>\n",
              "    .dataframe tbody tr th:only-of-type {\n",
              "        vertical-align: middle;\n",
              "    }\n",
              "\n",
              "    .dataframe tbody tr th {\n",
              "        vertical-align: top;\n",
              "    }\n",
              "\n",
              "    .dataframe thead th {\n",
              "        text-align: right;\n",
              "    }\n",
              "</style>\n",
              "<table border=\"1\" class=\"dataframe\">\n",
              "  <thead>\n",
              "    <tr style=\"text-align: right;\">\n",
              "      <th></th>\n",
              "      <th>0</th>\n",
              "      <th>1</th>\n",
              "      <th>2</th>\n",
              "      <th>3</th>\n",
              "      <th>4</th>\n",
              "    </tr>\n",
              "  </thead>\n",
              "  <tbody>\n",
              "    <tr>\n",
              "      <th>neighbourhood_group</th>\n",
              "      <td>Brooklyn</td>\n",
              "      <td>Manhattan</td>\n",
              "      <td>Manhattan</td>\n",
              "      <td>Brooklyn</td>\n",
              "      <td>Manhattan</td>\n",
              "    </tr>\n",
              "    <tr>\n",
              "      <th>room_type</th>\n",
              "      <td>Private room</td>\n",
              "      <td>Entire home/apt</td>\n",
              "      <td>Private room</td>\n",
              "      <td>Entire home/apt</td>\n",
              "      <td>Entire home/apt</td>\n",
              "    </tr>\n",
              "    <tr>\n",
              "      <th>latitude</th>\n",
              "      <td>40.6475</td>\n",
              "      <td>40.7536</td>\n",
              "      <td>40.809</td>\n",
              "      <td>40.6851</td>\n",
              "      <td>40.7985</td>\n",
              "    </tr>\n",
              "    <tr>\n",
              "      <th>longitude</th>\n",
              "      <td>-73.9724</td>\n",
              "      <td>-73.9838</td>\n",
              "      <td>-73.9419</td>\n",
              "      <td>-73.9598</td>\n",
              "      <td>-73.944</td>\n",
              "    </tr>\n",
              "    <tr>\n",
              "      <th>price</th>\n",
              "      <td>149</td>\n",
              "      <td>225</td>\n",
              "      <td>150</td>\n",
              "      <td>89</td>\n",
              "      <td>80</td>\n",
              "    </tr>\n",
              "    <tr>\n",
              "      <th>minimum_nights</th>\n",
              "      <td>1</td>\n",
              "      <td>1</td>\n",
              "      <td>3</td>\n",
              "      <td>1</td>\n",
              "      <td>10</td>\n",
              "    </tr>\n",
              "    <tr>\n",
              "      <th>number_of_reviews</th>\n",
              "      <td>9</td>\n",
              "      <td>45</td>\n",
              "      <td>0</td>\n",
              "      <td>270</td>\n",
              "      <td>9</td>\n",
              "    </tr>\n",
              "    <tr>\n",
              "      <th>reviews_per_month</th>\n",
              "      <td>0.21</td>\n",
              "      <td>0.38</td>\n",
              "      <td>NaN</td>\n",
              "      <td>4.64</td>\n",
              "      <td>0.1</td>\n",
              "    </tr>\n",
              "    <tr>\n",
              "      <th>calculated_host_listings_count</th>\n",
              "      <td>6</td>\n",
              "      <td>2</td>\n",
              "      <td>1</td>\n",
              "      <td>1</td>\n",
              "      <td>1</td>\n",
              "    </tr>\n",
              "    <tr>\n",
              "      <th>availability_365</th>\n",
              "      <td>365</td>\n",
              "      <td>355</td>\n",
              "      <td>365</td>\n",
              "      <td>194</td>\n",
              "      <td>0</td>\n",
              "    </tr>\n",
              "  </tbody>\n",
              "</table>\n",
              "</div>"
            ],
            "text/plain": [
              "                                           0  ...                4\n",
              "neighbourhood_group                 Brooklyn  ...        Manhattan\n",
              "room_type                       Private room  ...  Entire home/apt\n",
              "latitude                             40.6475  ...          40.7985\n",
              "longitude                           -73.9724  ...          -73.944\n",
              "price                                    149  ...               80\n",
              "minimum_nights                             1  ...               10\n",
              "number_of_reviews                          9  ...                9\n",
              "reviews_per_month                       0.21  ...              0.1\n",
              "calculated_host_listings_count             6  ...                1\n",
              "availability_365                         365  ...                0\n",
              "\n",
              "[10 rows x 5 columns]"
            ]
          },
          "metadata": {},
          "execution_count": 116
        }
      ]
    },
    {
      "cell_type": "code",
      "metadata": {
        "colab": {
          "base_uri": "https://localhost:8080/"
        },
        "id": "CKiQH4uLcCym",
        "outputId": "4194e6c8-1049-40ac-8ec6-d661e215f9ba"
      },
      "source": [
        "df.dtypes"
      ],
      "execution_count": 117,
      "outputs": [
        {
          "output_type": "execute_result",
          "data": {
            "text/plain": [
              "neighbourhood_group                object\n",
              "room_type                          object\n",
              "latitude                          float64\n",
              "longitude                         float64\n",
              "price                               int64\n",
              "minimum_nights                      int64\n",
              "number_of_reviews                   int64\n",
              "reviews_per_month                 float64\n",
              "calculated_host_listings_count      int64\n",
              "availability_365                    int64\n",
              "dtype: object"
            ]
          },
          "metadata": {},
          "execution_count": 117
        }
      ]
    },
    {
      "cell_type": "markdown",
      "metadata": {
        "id": "u_4IpqH-cEcF"
      },
      "source": [
        "We see that the column names are uniform and their values have the right data types.\n",
        "\n",
        "Let's covert the string (object) column vaules to lowercase and repalce spaces with underscore."
      ]
    },
    {
      "cell_type": "code",
      "metadata": {
        "id": "XrEMVfR4c4_K"
      },
      "source": [
        "string_columns = list(df.dtypes[df.dtypes == 'object'].index)  #make a list of rows of string columns where the values are string\n",
        "\n",
        "for col in string_columns:\n",
        "    df[col] = df[col].str.lower().str.replace(' ', '_')"
      ],
      "execution_count": 118,
      "outputs": []
    },
    {
      "cell_type": "code",
      "metadata": {
        "colab": {
          "base_uri": "https://localhost:8080/",
          "height": 357
        },
        "id": "aN06qK4kdOje",
        "outputId": "cc60388b-f3f8-4ba4-820d-56cf12bf1f14"
      },
      "source": [
        "df.head().T"
      ],
      "execution_count": 119,
      "outputs": [
        {
          "output_type": "execute_result",
          "data": {
            "text/html": [
              "<div>\n",
              "<style scoped>\n",
              "    .dataframe tbody tr th:only-of-type {\n",
              "        vertical-align: middle;\n",
              "    }\n",
              "\n",
              "    .dataframe tbody tr th {\n",
              "        vertical-align: top;\n",
              "    }\n",
              "\n",
              "    .dataframe thead th {\n",
              "        text-align: right;\n",
              "    }\n",
              "</style>\n",
              "<table border=\"1\" class=\"dataframe\">\n",
              "  <thead>\n",
              "    <tr style=\"text-align: right;\">\n",
              "      <th></th>\n",
              "      <th>0</th>\n",
              "      <th>1</th>\n",
              "      <th>2</th>\n",
              "      <th>3</th>\n",
              "      <th>4</th>\n",
              "    </tr>\n",
              "  </thead>\n",
              "  <tbody>\n",
              "    <tr>\n",
              "      <th>neighbourhood_group</th>\n",
              "      <td>brooklyn</td>\n",
              "      <td>manhattan</td>\n",
              "      <td>manhattan</td>\n",
              "      <td>brooklyn</td>\n",
              "      <td>manhattan</td>\n",
              "    </tr>\n",
              "    <tr>\n",
              "      <th>room_type</th>\n",
              "      <td>private_room</td>\n",
              "      <td>entire_home/apt</td>\n",
              "      <td>private_room</td>\n",
              "      <td>entire_home/apt</td>\n",
              "      <td>entire_home/apt</td>\n",
              "    </tr>\n",
              "    <tr>\n",
              "      <th>latitude</th>\n",
              "      <td>40.6475</td>\n",
              "      <td>40.7536</td>\n",
              "      <td>40.809</td>\n",
              "      <td>40.6851</td>\n",
              "      <td>40.7985</td>\n",
              "    </tr>\n",
              "    <tr>\n",
              "      <th>longitude</th>\n",
              "      <td>-73.9724</td>\n",
              "      <td>-73.9838</td>\n",
              "      <td>-73.9419</td>\n",
              "      <td>-73.9598</td>\n",
              "      <td>-73.944</td>\n",
              "    </tr>\n",
              "    <tr>\n",
              "      <th>price</th>\n",
              "      <td>149</td>\n",
              "      <td>225</td>\n",
              "      <td>150</td>\n",
              "      <td>89</td>\n",
              "      <td>80</td>\n",
              "    </tr>\n",
              "    <tr>\n",
              "      <th>minimum_nights</th>\n",
              "      <td>1</td>\n",
              "      <td>1</td>\n",
              "      <td>3</td>\n",
              "      <td>1</td>\n",
              "      <td>10</td>\n",
              "    </tr>\n",
              "    <tr>\n",
              "      <th>number_of_reviews</th>\n",
              "      <td>9</td>\n",
              "      <td>45</td>\n",
              "      <td>0</td>\n",
              "      <td>270</td>\n",
              "      <td>9</td>\n",
              "    </tr>\n",
              "    <tr>\n",
              "      <th>reviews_per_month</th>\n",
              "      <td>0.21</td>\n",
              "      <td>0.38</td>\n",
              "      <td>NaN</td>\n",
              "      <td>4.64</td>\n",
              "      <td>0.1</td>\n",
              "    </tr>\n",
              "    <tr>\n",
              "      <th>calculated_host_listings_count</th>\n",
              "      <td>6</td>\n",
              "      <td>2</td>\n",
              "      <td>1</td>\n",
              "      <td>1</td>\n",
              "      <td>1</td>\n",
              "    </tr>\n",
              "    <tr>\n",
              "      <th>availability_365</th>\n",
              "      <td>365</td>\n",
              "      <td>355</td>\n",
              "      <td>365</td>\n",
              "      <td>194</td>\n",
              "      <td>0</td>\n",
              "    </tr>\n",
              "  </tbody>\n",
              "</table>\n",
              "</div>"
            ],
            "text/plain": [
              "                                           0  ...                4\n",
              "neighbourhood_group                 brooklyn  ...        manhattan\n",
              "room_type                       private_room  ...  entire_home/apt\n",
              "latitude                             40.6475  ...          40.7985\n",
              "longitude                           -73.9724  ...          -73.944\n",
              "price                                    149  ...               80\n",
              "minimum_nights                             1  ...               10\n",
              "number_of_reviews                          9  ...                9\n",
              "reviews_per_month                       0.21  ...              0.1\n",
              "calculated_host_listings_count             6  ...                1\n",
              "availability_365                         365  ...                0\n",
              "\n",
              "[10 rows x 5 columns]"
            ]
          },
          "metadata": {},
          "execution_count": 119
        }
      ]
    },
    {
      "cell_type": "markdown",
      "metadata": {
        "id": "8jYEIamIXtD0"
      },
      "source": [
        "Fill missing values with 0"
      ]
    },
    {
      "cell_type": "code",
      "metadata": {
        "id": "4Fzr2fscXy-E"
      },
      "source": [
        "df = df.fillna(0)"
      ],
      "execution_count": 120,
      "outputs": []
    },
    {
      "cell_type": "code",
      "metadata": {
        "colab": {
          "base_uri": "https://localhost:8080/"
        },
        "id": "CvFkZbxfX9Ho",
        "outputId": "ed7a5ec9-078e-457d-b50c-5fc49bb838d4"
      },
      "source": [
        "df.isna().sum()"
      ],
      "execution_count": 121,
      "outputs": [
        {
          "output_type": "execute_result",
          "data": {
            "text/plain": [
              "neighbourhood_group               0\n",
              "room_type                         0\n",
              "latitude                          0\n",
              "longitude                         0\n",
              "price                             0\n",
              "minimum_nights                    0\n",
              "number_of_reviews                 0\n",
              "reviews_per_month                 0\n",
              "calculated_host_listings_count    0\n",
              "availability_365                  0\n",
              "dtype: int64"
            ]
          },
          "metadata": {},
          "execution_count": 121
        }
      ]
    },
    {
      "cell_type": "code",
      "metadata": {
        "colab": {
          "base_uri": "https://localhost:8080/",
          "height": 295
        },
        "id": "jGFYEwtyYd2t",
        "outputId": "23c00119-5aa9-4808-eaad-0880f222e71a"
      },
      "source": [
        "df.describe()"
      ],
      "execution_count": 122,
      "outputs": [
        {
          "output_type": "execute_result",
          "data": {
            "text/html": [
              "<div>\n",
              "<style scoped>\n",
              "    .dataframe tbody tr th:only-of-type {\n",
              "        vertical-align: middle;\n",
              "    }\n",
              "\n",
              "    .dataframe tbody tr th {\n",
              "        vertical-align: top;\n",
              "    }\n",
              "\n",
              "    .dataframe thead th {\n",
              "        text-align: right;\n",
              "    }\n",
              "</style>\n",
              "<table border=\"1\" class=\"dataframe\">\n",
              "  <thead>\n",
              "    <tr style=\"text-align: right;\">\n",
              "      <th></th>\n",
              "      <th>latitude</th>\n",
              "      <th>longitude</th>\n",
              "      <th>price</th>\n",
              "      <th>minimum_nights</th>\n",
              "      <th>number_of_reviews</th>\n",
              "      <th>reviews_per_month</th>\n",
              "      <th>calculated_host_listings_count</th>\n",
              "      <th>availability_365</th>\n",
              "    </tr>\n",
              "  </thead>\n",
              "  <tbody>\n",
              "    <tr>\n",
              "      <th>count</th>\n",
              "      <td>48895.000000</td>\n",
              "      <td>48895.000000</td>\n",
              "      <td>48895.000000</td>\n",
              "      <td>48895.000000</td>\n",
              "      <td>48895.000000</td>\n",
              "      <td>48895.000000</td>\n",
              "      <td>48895.000000</td>\n",
              "      <td>48895.000000</td>\n",
              "    </tr>\n",
              "    <tr>\n",
              "      <th>mean</th>\n",
              "      <td>40.728949</td>\n",
              "      <td>-73.952170</td>\n",
              "      <td>152.720687</td>\n",
              "      <td>7.029962</td>\n",
              "      <td>23.274466</td>\n",
              "      <td>1.090910</td>\n",
              "      <td>7.143982</td>\n",
              "      <td>112.781327</td>\n",
              "    </tr>\n",
              "    <tr>\n",
              "      <th>std</th>\n",
              "      <td>0.054530</td>\n",
              "      <td>0.046157</td>\n",
              "      <td>240.154170</td>\n",
              "      <td>20.510550</td>\n",
              "      <td>44.550582</td>\n",
              "      <td>1.597283</td>\n",
              "      <td>32.952519</td>\n",
              "      <td>131.622289</td>\n",
              "    </tr>\n",
              "    <tr>\n",
              "      <th>min</th>\n",
              "      <td>40.499790</td>\n",
              "      <td>-74.244420</td>\n",
              "      <td>0.000000</td>\n",
              "      <td>1.000000</td>\n",
              "      <td>0.000000</td>\n",
              "      <td>0.000000</td>\n",
              "      <td>1.000000</td>\n",
              "      <td>0.000000</td>\n",
              "    </tr>\n",
              "    <tr>\n",
              "      <th>25%</th>\n",
              "      <td>40.690100</td>\n",
              "      <td>-73.983070</td>\n",
              "      <td>69.000000</td>\n",
              "      <td>1.000000</td>\n",
              "      <td>1.000000</td>\n",
              "      <td>0.040000</td>\n",
              "      <td>1.000000</td>\n",
              "      <td>0.000000</td>\n",
              "    </tr>\n",
              "    <tr>\n",
              "      <th>50%</th>\n",
              "      <td>40.723070</td>\n",
              "      <td>-73.955680</td>\n",
              "      <td>106.000000</td>\n",
              "      <td>3.000000</td>\n",
              "      <td>5.000000</td>\n",
              "      <td>0.370000</td>\n",
              "      <td>1.000000</td>\n",
              "      <td>45.000000</td>\n",
              "    </tr>\n",
              "    <tr>\n",
              "      <th>75%</th>\n",
              "      <td>40.763115</td>\n",
              "      <td>-73.936275</td>\n",
              "      <td>175.000000</td>\n",
              "      <td>5.000000</td>\n",
              "      <td>24.000000</td>\n",
              "      <td>1.580000</td>\n",
              "      <td>2.000000</td>\n",
              "      <td>227.000000</td>\n",
              "    </tr>\n",
              "    <tr>\n",
              "      <th>max</th>\n",
              "      <td>40.913060</td>\n",
              "      <td>-73.712990</td>\n",
              "      <td>10000.000000</td>\n",
              "      <td>1250.000000</td>\n",
              "      <td>629.000000</td>\n",
              "      <td>58.500000</td>\n",
              "      <td>327.000000</td>\n",
              "      <td>365.000000</td>\n",
              "    </tr>\n",
              "  </tbody>\n",
              "</table>\n",
              "</div>"
            ],
            "text/plain": [
              "           latitude  ...  availability_365\n",
              "count  48895.000000  ...      48895.000000\n",
              "mean      40.728949  ...        112.781327\n",
              "std        0.054530  ...        131.622289\n",
              "min       40.499790  ...          0.000000\n",
              "25%       40.690100  ...          0.000000\n",
              "50%       40.723070  ...         45.000000\n",
              "75%       40.763115  ...        227.000000\n",
              "max       40.913060  ...        365.000000\n",
              "\n",
              "[8 rows x 8 columns]"
            ]
          },
          "metadata": {},
          "execution_count": 122
        }
      ]
    },
    {
      "cell_type": "markdown",
      "metadata": {
        "id": "t_9WwYsLYkZx"
      },
      "source": [
        "### Q1. What is the mode of ```neighbourhood_group```?"
      ]
    },
    {
      "cell_type": "code",
      "metadata": {
        "colab": {
          "base_uri": "https://localhost:8080/"
        },
        "id": "E2301UwdY1J8",
        "outputId": "c19b0ff2-dace-45cf-d083-f4c430aa3e09"
      },
      "source": [
        "df.neighbourhood_group.mode()"
      ],
      "execution_count": 123,
      "outputs": [
        {
          "output_type": "execute_result",
          "data": {
            "text/plain": [
              "0    manhattan\n",
              "dtype: object"
            ]
          },
          "metadata": {},
          "execution_count": 123
        }
      ]
    },
    {
      "cell_type": "markdown",
      "metadata": {
        "id": "GmCXsjvuZqo8"
      },
      "source": [
        "To see the total frequency of all the values of the ```neighbourhood_group``` variable that makes Manhattan the mode, we can use the value_counts method"
      ]
    },
    {
      "cell_type": "code",
      "metadata": {
        "colab": {
          "base_uri": "https://localhost:8080/"
        },
        "id": "1AcMV1IkZXVe",
        "outputId": "a16a2ca6-9ba3-4717-8651-c31c63e810d5"
      },
      "source": [
        "df['neighbourhood_group'].value_counts()"
      ],
      "execution_count": 124,
      "outputs": [
        {
          "output_type": "execute_result",
          "data": {
            "text/plain": [
              "manhattan        21661\n",
              "brooklyn         20104\n",
              "queens            5666\n",
              "bronx             1091\n",
              "staten_island      373\n",
              "Name: neighbourhood_group, dtype: int64"
            ]
          },
          "metadata": {},
          "execution_count": 124
        }
      ]
    },
    {
      "cell_type": "markdown",
      "metadata": {
        "id": "Xb63gYyraFKD"
      },
      "source": [
        "###Setting up validation framework"
      ]
    },
    {
      "cell_type": "markdown",
      "metadata": {
        "id": "_hfbt-YTa0hH"
      },
      "source": [
        "**Split the data**\n",
        "\n",
        "* Split your data in train/val/test sets, with 60%/20%/20% distribution.\n",
        "*Use Scikit-Learn for that (the train_test_split function) and set the seed to 42.\n"
      ]
    },
    {
      "cell_type": "code",
      "metadata": {
        "id": "4srcnlZLavrg"
      },
      "source": [
        "df_train_full, df_test = train_test_split(df, test_size=0.2, random_state=42) #This splits gives us 80:20 (Train:Test)"
      ],
      "execution_count": 125,
      "outputs": []
    },
    {
      "cell_type": "markdown",
      "metadata": {
        "id": "lP__svzZitIt"
      },
      "source": [
        "We need validation set. So lets apply the train_test_split function to the first 80% Train, df_train_full"
      ]
    },
    {
      "cell_type": "code",
      "metadata": {
        "id": "9oLls1nIiuzP"
      },
      "source": [
        "df_train, df_val = train_test_split(df_train_full, test_size=0.25, random_state=42)  #Now set the \"test_size\" which is actually \n",
        "                                                                                     # validation size to one-third of the first train "
      ],
      "execution_count": 126,
      "outputs": []
    },
    {
      "cell_type": "markdown",
      "metadata": {
        "id": "6ZD0Dg4IkAYg"
      },
      "source": [
        "###Create the y vectors\n",
        "Take the column with the target variable price and save it outside the dataframe.\n",
        "\n"
      ]
    },
    {
      "cell_type": "code",
      "metadata": {
        "id": "Y4iZBIkvkoJ6"
      },
      "source": [
        "#Resetting the indexes\n",
        "df_train = df_train.reset_index(drop=True)\n",
        "df_val = df_val.reset_index(drop=True)\n",
        "df_test = df_test.reset_index(drop=True)\n",
        "\n",
        "df_train_full = df_train_full.reset_index(drop=True)\n",
        "\n",
        "#Saving the price variable outside the dataframes\n",
        "y_train = df_train.price.values\n",
        "y_val = df_val.price.values\n",
        "y_test = df_test.price.values\n",
        "\n",
        "#Deleting price from the dataframes\n",
        "del df_train['price']\n",
        "del df_val['price']\n",
        "del df_test['price']"
      ],
      "execution_count": 127,
      "outputs": []
    },
    {
      "cell_type": "code",
      "metadata": {
        "colab": {
          "base_uri": "https://localhost:8080/"
        },
        "id": "4l54NaTnsV37",
        "outputId": "21d63437-8c88-4f58-e6c5-b6057875d779"
      },
      "source": [
        "len(df_train), len(df_val), len(df_test)"
      ],
      "execution_count": 128,
      "outputs": [
        {
          "output_type": "execute_result",
          "data": {
            "text/plain": [
              "(29337, 9779, 9779)"
            ]
          },
          "metadata": {},
          "execution_count": 128
        }
      ]
    },
    {
      "cell_type": "code",
      "metadata": {
        "colab": {
          "base_uri": "https://localhost:8080/"
        },
        "id": "Aqp8GCwLt7Uv",
        "outputId": "86298f0a-5ca4-49cd-bfbe-9eac67828fc0"
      },
      "source": [
        "df_train_full.info()"
      ],
      "execution_count": 129,
      "outputs": [
        {
          "output_type": "stream",
          "name": "stdout",
          "text": [
            "<class 'pandas.core.frame.DataFrame'>\n",
            "RangeIndex: 39116 entries, 0 to 39115\n",
            "Data columns (total 10 columns):\n",
            " #   Column                          Non-Null Count  Dtype  \n",
            "---  ------                          --------------  -----  \n",
            " 0   neighbourhood_group             39116 non-null  object \n",
            " 1   room_type                       39116 non-null  object \n",
            " 2   latitude                        39116 non-null  float64\n",
            " 3   longitude                       39116 non-null  float64\n",
            " 4   price                           39116 non-null  int64  \n",
            " 5   minimum_nights                  39116 non-null  int64  \n",
            " 6   number_of_reviews               39116 non-null  int64  \n",
            " 7   reviews_per_month               39116 non-null  float64\n",
            " 8   calculated_host_listings_count  39116 non-null  int64  \n",
            " 9   availability_365                39116 non-null  int64  \n",
            "dtypes: float64(3), int64(5), object(2)\n",
            "memory usage: 3.0+ MB\n"
          ]
        }
      ]
    },
    {
      "cell_type": "markdown",
      "metadata": {
        "id": "dQx4waZvxEkv"
      },
      "source": [
        "Checking the mean values of the price variable of the datasets"
      ]
    },
    {
      "cell_type": "code",
      "metadata": {
        "colab": {
          "base_uri": "https://localhost:8080/"
        },
        "id": "_bWVxu9luSvW",
        "outputId": "0ac3c4ed-567d-458f-a6c7-7327313ac274"
      },
      "source": [
        "train_full_mean, train_mean, val_mean, test_mean  = (round(df_train_full.price.mean(),2), round(y_train.mean(),2), round(y_val.mean(),2),round(y_test.mean(),2))\n",
        "\n",
        "(train_full_mean, train_mean, val_mean, test_mean) "
      ],
      "execution_count": 130,
      "outputs": [
        {
          "output_type": "execute_result",
          "data": {
            "text/plain": [
              "(153.75, 154.12, 152.65, 148.6)"
            ]
          },
          "metadata": {},
          "execution_count": 130
        }
      ]
    },
    {
      "cell_type": "markdown",
      "metadata": {
        "id": "5uvMGnIquV1E"
      },
      "source": [
        "###Separating categorical and numerical variables for processing"
      ]
    },
    {
      "cell_type": "code",
      "metadata": {
        "colab": {
          "base_uri": "https://localhost:8080/"
        },
        "id": "0yNEu_JG0YhS",
        "outputId": "ecb729fa-a5db-4779-81e0-03c6fdf6d3df"
      },
      "source": [
        "df_train_full.dtypes"
      ],
      "execution_count": 131,
      "outputs": [
        {
          "output_type": "execute_result",
          "data": {
            "text/plain": [
              "neighbourhood_group                object\n",
              "room_type                          object\n",
              "latitude                          float64\n",
              "longitude                         float64\n",
              "price                               int64\n",
              "minimum_nights                      int64\n",
              "number_of_reviews                   int64\n",
              "reviews_per_month                 float64\n",
              "calculated_host_listings_count      int64\n",
              "availability_365                    int64\n",
              "dtype: object"
            ]
          },
          "metadata": {},
          "execution_count": 131
        }
      ]
    },
    {
      "cell_type": "code",
      "metadata": {
        "id": "tWATOZMhykw9"
      },
      "source": [
        "numerical = df_train_full.columns[df_train_full.dtypes != 'object']\n",
        "categorical = df_train_full.columns[df_train_full.dtypes == 'object']"
      ],
      "execution_count": 132,
      "outputs": []
    },
    {
      "cell_type": "code",
      "metadata": {
        "colab": {
          "base_uri": "https://localhost:8080/"
        },
        "id": "DtJdlg8615gi",
        "outputId": "b48e09ee-6052-44eb-ba74-92e1fdc30780"
      },
      "source": [
        "numerical, categorical"
      ],
      "execution_count": 133,
      "outputs": [
        {
          "output_type": "execute_result",
          "data": {
            "text/plain": [
              "(Index(['latitude', 'longitude', 'price', 'minimum_nights', 'number_of_reviews',\n",
              "        'reviews_per_month', 'calculated_host_listings_count',\n",
              "        'availability_365'],\n",
              "       dtype='object'),\n",
              " Index(['neighbourhood_group', 'room_type'], dtype='object'))"
            ]
          },
          "metadata": {},
          "execution_count": 133
        }
      ]
    },
    {
      "cell_type": "markdown",
      "metadata": {
        "id": "TY9qKmj2-9mE"
      },
      "source": [
        "We can also use the select_types method as follows"
      ]
    },
    {
      "cell_type": "code",
      "metadata": {
        "id": "JxLP_nypyLHP"
      },
      "source": [
        "numerical1 = df_train_full.select_dtypes(exclude=['object']).columns.tolist()\n",
        "categorical1 = df_train_full.select_dtypes(include=['object']).columns.tolist()"
      ],
      "execution_count": 134,
      "outputs": []
    },
    {
      "cell_type": "markdown",
      "metadata": {
        "id": "8ZcnObisBRPo"
      },
      "source": [
        "###Create correlation matrix for the numerical features.\n",
        "\n",
        "* What are the two features that have the biggest correlation in this dataset?"
      ]
    },
    {
      "cell_type": "code",
      "metadata": {
        "colab": {
          "base_uri": "https://localhost:8080/",
          "height": 642
        },
        "id": "VXNSM_RFCFfA",
        "outputId": "c266a991-038c-44ad-9f71-b032217da7f8"
      },
      "source": [
        "cor_matrix = df_train_full.corr()\n",
        "\n",
        "plt.subplots(figsize=(10, 8))\n",
        "# Let's mask the upper triangle\n",
        "mask = np.triu(np.ones_like(cor_matrix, dtype=bool))\n",
        "cmap = sns.diverging_palette(230, 20, as_cmap=True)\n",
        "sns.heatmap(cor_matrix, annot=True, mask = mask, cmap=cmap)"
      ],
      "execution_count": 135,
      "outputs": [
        {
          "output_type": "execute_result",
          "data": {
            "text/plain": [
              "<matplotlib.axes._subplots.AxesSubplot at 0x7f751e8ca550>"
            ]
          },
          "metadata": {},
          "execution_count": 135
        },
        {
          "output_type": "display_data",
          "data": {
            "image/png": "[encoded data removed]",
            "text/plain": [
              "<Figure size 720x576 with 2 Axes>"
            ]
          },
          "metadata": {
            "needs_background": "light"
          }
        }
      ]
    },
    {
      "cell_type": "markdown",
      "metadata": {
        "id": "QmGd2GMTH3sU"
      },
      "source": [
        "Let's consider the correlation for df_train"
      ]
    },
    {
      "cell_type": "code",
      "metadata": {
        "colab": {
          "base_uri": "https://localhost:8080/",
          "height": 642
        },
        "id": "bRoVAzSVGDdU",
        "outputId": "f63fc903-e5a4-43da-d74f-171a544fcdf8"
      },
      "source": [
        "cor_matrix = df_train.corr()\n",
        "\n",
        "plt.subplots(figsize=(10, 8))\n",
        "# Let's mask the upper triangle\n",
        "mask = np.triu(np.ones_like(cor_matrix, dtype=bool))\n",
        "cmap = sns.diverging_palette(230, 20, as_cmap=True)\n",
        "sns.heatmap(cor_matrix, annot=True, mask = mask, cmap=cmap)"
      ],
      "execution_count": 136,
      "outputs": [
        {
          "output_type": "execute_result",
          "data": {
            "text/plain": [
              "<matplotlib.axes._subplots.AxesSubplot at 0x7f75265bfed0>"
            ]
          },
          "metadata": {},
          "execution_count": 136
        },
        {
          "output_type": "display_data",
          "data": {
            "image/png": "[encoded data removed]",
            "text/plain": [
              "<Figure size 720x576 with 2 Axes>"
            ]
          },
          "metadata": {
            "needs_background": "light"
          }
        }
      ]
    },
    {
      "cell_type": "markdown",
      "metadata": {
        "id": "ZZC_uLDGMHj3"
      },
      "source": [
        "We see that the highest correlation is between ```reviews_per_month``` and ```number_of_reviews``` with correction value of 0.59"
      ]
    },
    {
      "cell_type": "markdown",
      "metadata": {
        "id": "b2YbV0vBNAsa"
      },
      "source": [
        "###Make price binary\n",
        "Since we want to use logistic regression, we need to turn the price variable from numeric into binary.\n",
        "* Let's create a variable ```above_average``` which is 1 if the price is above (or equal to) 152."
      ]
    },
    {
      "cell_type": "code",
      "metadata": {
        "id": "wXM49baFTbkU"
      },
      "source": [
        "y_train_above_average = np.where(y_train >= 152, 1, 0)\n",
        "y_val_above_average = np.where(y_val >= 152, 1, 0)\n",
        "y_test_above_average = np.where(y_test >= 152, 1, 0) "
      ],
      "execution_count": 137,
      "outputs": []
    },
    {
      "cell_type": "code",
      "metadata": {
        "colab": {
          "base_uri": "https://localhost:8080/"
        },
        "id": "H4OZVvNoXBwF",
        "outputId": "a7700b6e-5f5a-4746-a790-fb471d896c50"
      },
      "source": [
        "y_train_above_average, y_val_above_average, y_test_above_average"
      ],
      "execution_count": 138,
      "outputs": [
        {
          "output_type": "execute_result",
          "data": {
            "text/plain": [
              "(array([0, 0, 0, ..., 1, 0, 0]),\n",
              " array([0, 0, 1, ..., 0, 0, 0]),\n",
              " array([0, 0, 0, ..., 0, 1, 0]))"
            ]
          },
          "metadata": {},
          "execution_count": 138
        }
      ]
    },
    {
      "cell_type": "markdown",
      "metadata": {
        "id": "WN-tYqs8iYY3"
      },
      "source": [
        "###Feature importance\n",
        "\n",
        "* Mutual Infomation for categorical values"
      ]
    },
    {
      "cell_type": "code",
      "metadata": {
        "colab": {
          "base_uri": "https://localhost:8080/",
          "height": 110
        },
        "id": "99BjNBOdir_Q",
        "outputId": "5d9717e7-f490-4015-e9c1-4500af94b7d4"
      },
      "source": [
        "def calculate_mi(series):                                        \n",
        "    return mutual_info_score(series, y_train_above_average)        \n",
        "                                                                  \n",
        "\n",
        "df_mi = df_train[categorical].apply(calculate_mi).round(2)           #Apply the function calculate_mi to each categorical column of the dataset\n",
        "df_mi = df_mi.sort_values(ascending=False).to_frame(name='MI')\n",
        "\n",
        "display(df_mi)"
      ],
      "execution_count": 139,
      "outputs": [
        {
          "output_type": "display_data",
          "data": {
            "text/html": [
              "<div>\n",
              "<style scoped>\n",
              "    .dataframe tbody tr th:only-of-type {\n",
              "        vertical-align: middle;\n",
              "    }\n",
              "\n",
              "    .dataframe tbody tr th {\n",
              "        vertical-align: top;\n",
              "    }\n",
              "\n",
              "    .dataframe thead th {\n",
              "        text-align: right;\n",
              "    }\n",
              "</style>\n",
              "<table border=\"1\" class=\"dataframe\">\n",
              "  <thead>\n",
              "    <tr style=\"text-align: right;\">\n",
              "      <th></th>\n",
              "      <th>MI</th>\n",
              "    </tr>\n",
              "  </thead>\n",
              "  <tbody>\n",
              "    <tr>\n",
              "      <th>room_type</th>\n",
              "      <td>0.14</td>\n",
              "    </tr>\n",
              "    <tr>\n",
              "      <th>neighbourhood_group</th>\n",
              "      <td>0.05</td>\n",
              "    </tr>\n",
              "  </tbody>\n",
              "</table>\n",
              "</div>"
            ],
            "text/plain": [
              "                       MI\n",
              "room_type            0.14\n",
              "neighbourhood_group  0.05"
            ]
          },
          "metadata": {}
        }
      ]
    },
    {
      "cell_type": "markdown",
      "metadata": {
        "id": "Lsonns0Mldkd"
      },
      "source": [
        "We see that ```room_type``` has the higher MI score and thus offers more dependency information than ```neighbourhood_group```."
      ]
    },
    {
      "cell_type": "markdown",
      "metadata": {
        "id": "J77W18TvqS45"
      },
      "source": [
        "#### One-hot encoding of the categorical variables"
      ]
    },
    {
      "cell_type": "code",
      "metadata": {
        "id": "knUpG9h0qdFR"
      },
      "source": [
        "\n",
        "#Redefine numerical to exclude price\n",
        "\n",
        "\n",
        "numerical = ['latitude', 'longitude', 'minimum_nights', 'number_of_reviews',\n",
        "       'reviews_per_month', 'calculated_host_listings_count',\n",
        "       'availability_365']\n",
        "categorical = ['room_type', 'neighbourhood_group']     \n",
        "\n",
        "#convert to dictionary\n",
        "train_dict = df_train[categorical + numerical].to_dict(orient='records')   #'records' are the row values from \n",
        "                                                                            #the dataframe for a given column"
      ],
      "execution_count": 140,
      "outputs": []
    },
    {
      "cell_type": "code",
      "metadata": {
        "colab": {
          "base_uri": "https://localhost:8080/"
        },
        "id": "7ZbKCmyMsQme",
        "outputId": "c9313b02-cc05-4206-e6b7-711fa696ea1f"
      },
      "source": [
        "dv = DictVectorizer(sparse=False)  #the sparse = False parameter ensures we have the output as simple numPy array\n",
        "dv.fit(train_dict)"
      ],
      "execution_count": 141,
      "outputs": [
        {
          "output_type": "execute_result",
          "data": {
            "text/plain": [
              "DictVectorizer(dtype=<class 'numpy.float64'>, separator='=', sort=True,\n",
              "               sparse=False)"
            ]
          },
          "metadata": {},
          "execution_count": 141
        }
      ]
    },
    {
      "cell_type": "code",
      "metadata": {
        "id": "gI33AKcnu5q4"
      },
      "source": [
        "X_train = dv.transform(train_dict) #Or we can use X_train = dv.fit_transform(train_dict) without first doing dv.fit(train_dict)\n",
        "\n",
        "\n",
        "#val_dict = df_val.to_dict(orient='records')\n",
        "#X_val = dv.transform(val_dict)"
      ],
      "execution_count": 142,
      "outputs": []
    },
    {
      "cell_type": "markdown",
      "metadata": {
        "id": "-gZgvVqB1B_0"
      },
      "source": [
        "## Training logistic regression"
      ]
    },
    {
      "cell_type": "code",
      "metadata": {
        "colab": {
          "base_uri": "https://localhost:8080/"
        },
        "id": "CRee9s3h1YWp",
        "outputId": "c3cbfe05-5eb5-412a-f9e2-39852be1b2c5"
      },
      "source": [
        "model = LogisticRegression(solver='lbfgs', C=1.0, max_iter=1000, random_state=42)  #This trains the model \n",
        "model.fit(X_train, y_train_above_average)                                      #Apply the model to the train set"
      ],
      "execution_count": 143,
      "outputs": [
        {
          "output_type": "execute_result",
          "data": {
            "text/plain": [
              "LogisticRegression(C=1.0, class_weight=None, dual=False, fit_intercept=True,\n",
              "                   intercept_scaling=1, l1_ratio=None, max_iter=1000,\n",
              "                   multi_class='auto', n_jobs=None, penalty='l2',\n",
              "                   random_state=42, solver='lbfgs', tol=0.0001, verbose=0,\n",
              "                   warm_start=False)"
            ]
          },
          "metadata": {},
          "execution_count": 143
        }
      ]
    },
    {
      "cell_type": "markdown",
      "metadata": {
        "id": "AWcnihuW7KU4"
      },
      "source": [
        "Let's look at the intercept and the coefficients"
      ]
    },
    {
      "cell_type": "code",
      "metadata": {
        "colab": {
          "base_uri": "https://localhost:8080/"
        },
        "id": "VDPecW_j7fzS",
        "outputId": "770ff2e2-585e-406c-8fbc-265b15a5a1e1"
      },
      "source": [
        "model.intercept_[0].round(3)"
      ],
      "execution_count": 144,
      "outputs": [
        {
          "output_type": "execute_result",
          "data": {
            "text/plain": [
              "-0.057"
            ]
          },
          "metadata": {},
          "execution_count": 144
        }
      ]
    },
    {
      "cell_type": "code",
      "metadata": {
        "colab": {
          "base_uri": "https://localhost:8080/"
        },
        "id": "K0R2o-IB7nGZ",
        "outputId": "58fc2c03-c0e4-4bc8-baf7-a3eefe706b33"
      },
      "source": [
        "model.coef_[0].round(3)"
      ],
      "execution_count": 145,
      "outputs": [
        {
          "output_type": "execute_result",
          "data": {
            "text/plain": [
              "array([ 3.000e-03,  4.000e-03, -5.705e+00, -3.105e+00, -1.100e-02,\n",
              "       -1.000e-01,  1.180e-01,  1.568e+00, -2.900e-02, -1.611e+00,\n",
              "       -3.000e-03, -4.500e-02,  1.892e+00, -8.890e-01, -1.058e+00])"
            ]
          },
          "metadata": {},
          "execution_count": 145
        }
      ]
    },
    {
      "cell_type": "code",
      "metadata": {
        "colab": {
          "base_uri": "https://localhost:8080/"
        },
        "id": "Hq3fh9Df89C6",
        "outputId": "13529d12-9ada-452c-d6fc-4d959ee259a2"
      },
      "source": [
        "dict(zip(dv.get_feature_names(), model.coef_[0].round(3)))"
      ],
      "execution_count": 146,
      "outputs": [
        {
          "output_type": "execute_result",
          "data": {
            "text/plain": [
              "{'availability_365': 0.003,\n",
              " 'calculated_host_listings_count': 0.004,\n",
              " 'latitude': -5.705,\n",
              " 'longitude': -3.105,\n",
              " 'minimum_nights': -0.011,\n",
              " 'neighbourhood_group=bronx': -0.1,\n",
              " 'neighbourhood_group=brooklyn': 0.118,\n",
              " 'neighbourhood_group=manhattan': 1.568,\n",
              " 'neighbourhood_group=queens': -0.029,\n",
              " 'neighbourhood_group=staten_island': -1.611,\n",
              " 'number_of_reviews': -0.003,\n",
              " 'reviews_per_month': -0.045,\n",
              " 'room_type=entire_home/apt': 1.892,\n",
              " 'room_type=private_room': -0.889,\n",
              " 'room_type=shared_room': -1.058}"
            ]
          },
          "metadata": {},
          "execution_count": 146
        }
      ]
    },
    {
      "cell_type": "markdown",
      "metadata": {
        "id": "M2MWpa-79gU-"
      },
      "source": [
        "To learn the probabilities we do soft prediction using predict_proba"
      ]
    },
    {
      "cell_type": "code",
      "metadata": {
        "colab": {
          "base_uri": "https://localhost:8080/"
        },
        "id": "yrfO2JfU9j0N",
        "outputId": "b2f45681-bc8f-4fd4-b1e3-350b4b2ce11d"
      },
      "source": [
        "model.predict_proba(X_train)"
      ],
      "execution_count": 147,
      "outputs": [
        {
          "output_type": "execute_result",
          "data": {
            "text/plain": [
              "array([[0.68079027, 0.31920973],\n",
              "       [0.86061073, 0.13938927],\n",
              "       [0.89216861, 0.10783139],\n",
              "       ...,\n",
              "       [0.90360347, 0.09639653],\n",
              "       [0.98231922, 0.01768078],\n",
              "       [0.39772049, 0.60227951]])"
            ]
          },
          "metadata": {},
          "execution_count": 147
        }
      ]
    },
    {
      "cell_type": "markdown",
      "metadata": {
        "id": "2F6B7c4X90_h"
      },
      "source": [
        "The output above is a two-dimensional array with two columns. The first column is the prob of not churning and the second is the prob of churning.\n",
        "\n",
        "To make a dcision on which customers will churn, we only need the second column."
      ]
    },
    {
      "cell_type": "code",
      "metadata": {
        "colab": {
          "base_uri": "https://localhost:8080/"
        },
        "id": "y7DxjE8996sO",
        "outputId": "27a23b1c-3c26-448d-9bad-974a514c2919"
      },
      "source": [
        "y_pred = model.predict_proba(X_train)[:,1]\n",
        "y_pred"
      ],
      "execution_count": 148,
      "outputs": [
        {
          "output_type": "execute_result",
          "data": {
            "text/plain": [
              "array([0.31920973, 0.13938927, 0.10783139, ..., 0.09639653, 0.01768078,\n",
              "       0.60227951])"
            ]
          },
          "metadata": {},
          "execution_count": 148
        }
      ]
    },
    {
      "cell_type": "markdown",
      "metadata": {
        "id": "H4rHvUxA8ESR"
      },
      "source": [
        "####Validation"
      ]
    },
    {
      "cell_type": "markdown",
      "metadata": {
        "id": "4lSu6sGwD8r6"
      },
      "source": [
        "We need to make sure of validation data is also one-hot encoded."
      ]
    },
    {
      "cell_type": "code",
      "metadata": {
        "id": "4xuuazKH8Hgx"
      },
      "source": [
        "val_dict = df_val[categorical + numerical].to_dict(orient='records')\n",
        "X_val = dv.transform(val_dict)"
      ],
      "execution_count": 149,
      "outputs": []
    },
    {
      "cell_type": "markdown",
      "metadata": {
        "id": "I1LcVarNEkAI"
      },
      "source": [
        "Then we can now validate using the validation X"
      ]
    },
    {
      "cell_type": "code",
      "metadata": {
        "colab": {
          "base_uri": "https://localhost:8080/"
        },
        "id": "0dzJl-b5Elj1",
        "outputId": "04dcca7f-e062-4d9e-fff3-c83626713a85"
      },
      "source": [
        "model.predict_proba(X_val)"
      ],
      "execution_count": 150,
      "outputs": [
        {
          "output_type": "execute_result",
          "data": {
            "text/plain": [
              "array([[0.97142811, 0.02857189],\n",
              "       [0.40648438, 0.59351562],\n",
              "       [0.57491103, 0.42508897],\n",
              "       ...,\n",
              "       [0.88630079, 0.11369921],\n",
              "       [0.96566415, 0.03433585],\n",
              "       [0.46869753, 0.53130247]])"
            ]
          },
          "metadata": {},
          "execution_count": 150
        }
      ]
    },
    {
      "cell_type": "code",
      "metadata": {
        "colab": {
          "base_uri": "https://localhost:8080/"
        },
        "id": "ebhznTTzExiy",
        "outputId": "9a0d7bde-c634-414e-facb-203f188cc2f7"
      },
      "source": [
        "y_pred = model.predict_proba(X_val)[:, 1]\n",
        "\n",
        "y_pred"
      ],
      "execution_count": 151,
      "outputs": [
        {
          "output_type": "execute_result",
          "data": {
            "text/plain": [
              "array([0.02857189, 0.59351562, 0.42508897, ..., 0.11369921, 0.03433585,\n",
              "       0.53130247])"
            ]
          },
          "metadata": {},
          "execution_count": 151
        }
      ]
    },
    {
      "cell_type": "markdown",
      "metadata": {
        "id": "2_VnL4-zGevX"
      },
      "source": [
        "####Price decision"
      ]
    },
    {
      "cell_type": "code",
      "metadata": {
        "id": "9pyqbMMNGin_"
      },
      "source": [
        "price_decision = (y_pred >= 0.5)"
      ],
      "execution_count": 152,
      "outputs": []
    },
    {
      "cell_type": "markdown",
      "metadata": {
        "id": "UZwHjVvuFESJ"
      },
      "source": [
        "###Accuracy of the model\n",
        "\n",
        "* Calculate the accuracy on the validation dataset and rount it to 2 decimal digits."
      ]
    },
    {
      "cell_type": "markdown",
      "metadata": {
        "id": "5_YqWjdtFVxw"
      },
      "source": [
        "This requires checking if our predictions match the actuals - this is a simple check of model quality.\n",
        "\n",
        "We can calculate the accuracy as follows:"
      ]
    },
    {
      "cell_type": "code",
      "metadata": {
        "colab": {
          "base_uri": "https://localhost:8080/"
        },
        "id": "b1dZ6bsBFLD-",
        "outputId": "8240981b-0155-49ef-a791-a387ca3e81ae"
      },
      "source": [
        "(y_val_above_average == price_decision).mean().round(2)"
      ],
      "execution_count": 153,
      "outputs": [
        {
          "output_type": "execute_result",
          "data": {
            "text/plain": [
              "0.79"
            ]
          },
          "metadata": {},
          "execution_count": 153
        }
      ]
    },
    {
      "cell_type": "markdown",
      "metadata": {
        "id": "QANhdUYvH5He"
      },
      "source": [
        "Thus our model is 79% accurate using the threshold established by the price_decision."
      ]
    },
    {
      "cell_type": "markdown",
      "metadata": {
        "id": "TG8NeOxwJYR8"
      },
      "source": [
        "We can create a dataframe to showcase these matches/mismatches."
      ]
    },
    {
      "cell_type": "code",
      "metadata": {
        "colab": {
          "base_uri": "https://localhost:8080/",
          "height": 417
        },
        "id": "LUU8l0N1I91i",
        "outputId": "682eb3b1-4ad0-4d54-86cb-1fe7446aa2e1"
      },
      "source": [
        "df_pred = pd.DataFrame()\n",
        "df_pred['probability'] = y_pred\n",
        "df_pred['prediction'] = price_decision.astype(int)\n",
        "df_pred['actual'] = y_val_above_average\n",
        "df_pred['correct'] = df_pred.prediction == df_pred.actual\n",
        "\n",
        "df_pred"
      ],
      "execution_count": 154,
      "outputs": [
        {
          "output_type": "execute_result",
          "data": {
            "text/html": [
              "<div>\n",
              "<style scoped>\n",
              "    .dataframe tbody tr th:only-of-type {\n",
              "        vertical-align: middle;\n",
              "    }\n",
              "\n",
              "    .dataframe tbody tr th {\n",
              "        vertical-align: top;\n",
              "    }\n",
              "\n",
              "    .dataframe thead th {\n",
              "        text-align: right;\n",
              "    }\n",
              "</style>\n",
              "<table border=\"1\" class=\"dataframe\">\n",
              "  <thead>\n",
              "    <tr style=\"text-align: right;\">\n",
              "      <th></th>\n",
              "      <th>probability</th>\n",
              "      <th>prediction</th>\n",
              "      <th>actual</th>\n",
              "      <th>correct</th>\n",
              "    </tr>\n",
              "  </thead>\n",
              "  <tbody>\n",
              "    <tr>\n",
              "      <th>0</th>\n",
              "      <td>0.028572</td>\n",
              "      <td>0</td>\n",
              "      <td>0</td>\n",
              "      <td>True</td>\n",
              "    </tr>\n",
              "    <tr>\n",
              "      <th>1</th>\n",
              "      <td>0.593516</td>\n",
              "      <td>1</td>\n",
              "      <td>0</td>\n",
              "      <td>False</td>\n",
              "    </tr>\n",
              "    <tr>\n",
              "      <th>2</th>\n",
              "      <td>0.425089</td>\n",
              "      <td>0</td>\n",
              "      <td>1</td>\n",
              "      <td>False</td>\n",
              "    </tr>\n",
              "    <tr>\n",
              "      <th>3</th>\n",
              "      <td>0.075216</td>\n",
              "      <td>0</td>\n",
              "      <td>0</td>\n",
              "      <td>True</td>\n",
              "    </tr>\n",
              "    <tr>\n",
              "      <th>4</th>\n",
              "      <td>0.811258</td>\n",
              "      <td>1</td>\n",
              "      <td>1</td>\n",
              "      <td>True</td>\n",
              "    </tr>\n",
              "    <tr>\n",
              "      <th>...</th>\n",
              "      <td>...</td>\n",
              "      <td>...</td>\n",
              "      <td>...</td>\n",
              "      <td>...</td>\n",
              "    </tr>\n",
              "    <tr>\n",
              "      <th>9774</th>\n",
              "      <td>0.637999</td>\n",
              "      <td>1</td>\n",
              "      <td>1</td>\n",
              "      <td>True</td>\n",
              "    </tr>\n",
              "    <tr>\n",
              "      <th>9775</th>\n",
              "      <td>0.012739</td>\n",
              "      <td>0</td>\n",
              "      <td>0</td>\n",
              "      <td>True</td>\n",
              "    </tr>\n",
              "    <tr>\n",
              "      <th>9776</th>\n",
              "      <td>0.113699</td>\n",
              "      <td>0</td>\n",
              "      <td>0</td>\n",
              "      <td>True</td>\n",
              "    </tr>\n",
              "    <tr>\n",
              "      <th>9777</th>\n",
              "      <td>0.034336</td>\n",
              "      <td>0</td>\n",
              "      <td>0</td>\n",
              "      <td>True</td>\n",
              "    </tr>\n",
              "    <tr>\n",
              "      <th>9778</th>\n",
              "      <td>0.531302</td>\n",
              "      <td>1</td>\n",
              "      <td>0</td>\n",
              "      <td>False</td>\n",
              "    </tr>\n",
              "  </tbody>\n",
              "</table>\n",
              "<p>9779 rows × 4 columns</p>\n",
              "</div>"
            ],
            "text/plain": [
              "      probability  prediction  actual  correct\n",
              "0        0.028572           0       0     True\n",
              "1        0.593516           1       0    False\n",
              "2        0.425089           0       1    False\n",
              "3        0.075216           0       0     True\n",
              "4        0.811258           1       1     True\n",
              "...           ...         ...     ...      ...\n",
              "9774     0.637999           1       1     True\n",
              "9775     0.012739           0       0     True\n",
              "9776     0.113699           0       0     True\n",
              "9777     0.034336           0       0     True\n",
              "9778     0.531302           1       0    False\n",
              "\n",
              "[9779 rows x 4 columns]"
            ]
          },
          "metadata": {},
          "execution_count": 154
        }
      ]
    },
    {
      "cell_type": "markdown",
      "metadata": {
        "id": "8whdEQT4Uiok"
      },
      "source": [
        "### A Step-by-step model accuracy comparison \n",
        "We have 9 features: 7 numerical features and 2 categorical.\n",
        "We want to find the least useful one using the feature elimination technique.\n",
        "\n",
        "To achieve this, we will use a rather explicit approach:\n",
        "*Train a model with all these features (using the same parameters as above).\n",
        "* Now exclude each feature from this set and train a model without it. Record the accuracy for each model.\n",
        "* For each feature, calculate the difference between the original accuracy and the accuracy without the feature.\n",
        "* Which of following features has the smallest difference?\n",
        "```\n",
        "neighbourhood_group\n",
        "room_type\n",
        "number_of_reviews\n",
        "reviews_per_month\n"
      ]
    },
    {
      "cell_type": "markdown",
      "metadata": {
        "id": "JWlCGrpOx_2P"
      },
      "source": [
        "###Model with all Features"
      ]
    },
    {
      "cell_type": "code",
      "metadata": {
        "colab": {
          "base_uri": "https://localhost:8080/"
        },
        "id": "1RFsNYbeycbO",
        "outputId": "17c48acc-4880-429f-fedc-958c782e4aa4"
      },
      "source": [
        "\n",
        "model1 = LogisticRegression(solver='lbfgs', C=1.0, max_iter=1000, random_state=42) \n",
        "model1.fit(X_train, y_train_above_average)\n",
        "y_pred1 = model1.predict_proba(X_val)[:, 1]\n",
        "price_decision1 = (y_pred1 >= 0.5)\n",
        "df_pred1 = pd.DataFrame()\n",
        "df_pred1['probability'] = y_pred1\n",
        "df_pred1['prediction'] = price_decision1.astype(int)\n",
        "df_pred1['actual'] = y_val_above_average\n",
        "df_pred1['correct'] = df_pred1.prediction == df_pred1.actual\n",
        "model1_accuracy = round(df_pred1.correct.mean(),2)\n",
        "print('Accuracy for the model with all features is {0}.'.format(model1_accuracy))\n"
      ],
      "execution_count": 155,
      "outputs": [
        {
          "output_type": "stream",
          "name": "stdout",
          "text": [
            "Accuracy for the model with all features is 0.79.\n"
          ]
        }
      ]
    },
    {
      "cell_type": "markdown",
      "metadata": {
        "id": "GHU54ZPDo_55"
      },
      "source": [
        "Let's define the features of all our models and apply a for loop to run the regressions"
      ]
    },
    {
      "cell_type": "code",
      "metadata": {
        "id": "hhBZFS4E19J-"
      },
      "source": [
        "# no feature removed\n",
        "model_1_features = ['room_type','availability_365','calculated_host_listings_count','latitude','longitude','minimum_nights','neighbourhood_group','number_of_reviews','reviews_per_month']\n",
        "# room_type removed\n",
        "model_2_features = ['availability_365','calculated_host_listings_count','latitude','longitude','minimum_nights','neighbourhood_group','number_of_reviews','reviews_per_month']\n",
        "# reviews_per_month removed\n",
        "model_3_features = ['availability_365','calculated_host_listings_count','latitude','longitude','minimum_nights','neighbourhood_group','number_of_reviews','room_type']\n",
        "# number_of_reviews removed\n",
        "model_4_features = ['availability_365','calculated_host_listings_count','latitude','longitude','minimum_nights','neighbourhood_group','reviews_per_month','room_type']\n",
        "# neighbourhood_group removed\n",
        "model_5_features = ['availability_365','calculated_host_listings_count','latitude','longitude','minimum_nights','number_of_reviews','reviews_per_month','room_type']\n",
        "# minimum_nights removed\n",
        "model_6_features = ['availability_365','calculated_host_listings_count','latitude','longitude','neighbourhood_group','number_of_reviews','reviews_per_month','room_type']\n",
        "# longitude removed\n",
        "model_7_features = ['availability_365','calculated_host_listings_count','latitude','minimum_nights','neighbourhood_group','number_of_reviews','reviews_per_month','room_type']\n",
        "# latitude removed\n",
        "model_8_features = ['availability_365','calculated_host_listings_count','longitude','minimum_nights','neighbourhood_group','number_of_reviews','reviews_per_month','room_type']\n",
        "# calculated_host_listings_count removed\n",
        "model_9_features = ['availability_365','latitude','longitude','minimum_nights','neighbourhood_group','number_of_reviews','reviews_per_month','room_type']\n",
        "# availability_365 removed\n",
        "model_10_features = ['calculated_host_listings_count','latitude','longitude','minimum_nights','neighbourhood_group','number_of_reviews','reviews_per_month','room_type']"
      ],
      "execution_count": 156,
      "outputs": []
    },
    {
      "cell_type": "code",
      "metadata": {
        "colab": {
          "base_uri": "https://localhost:8080/"
        },
        "id": "cI3P3Wwv38Fz",
        "outputId": "77fdaa9c-1bd6-4bdc-a7e3-3d4a5645e2b2"
      },
      "source": [
        "\n",
        "\n",
        "feature_dict = {'model1 - all features - none removed': model_1_features, 'model2 - room_type removed':model_2_features, 'model3 - reviews_per_month removed':model_3_features,\n",
        "                'model4 - number_of_reviews removed': model_4_features,'model5 - neighbourhood_group removed': model_5_features,'model6 - minimum_nights removed': model_6_features,\n",
        "                'model7 - longitude removed':model_7_features, 'model8 - latitude removed': model_8_features, 'model9 - calculated_host_listings_count removed': model_9_features, \n",
        "                'model10 - availability_365 removed': model_10_features}\n",
        "\n",
        "accuracy_list = []\n",
        "\n",
        "for key, a_list in feature_dict.items():\n",
        "  train_dict = df_train[a_list].to_dict(orient='records')\n",
        "  train_val = df_val[a_list].to_dict(orient='records')\n",
        "  dv = DictVectorizer(sparse=False)\n",
        "  dv.fit(train_dict)\n",
        "  X_train = dv.transform(train_dict)\n",
        "  X_val = dv.transform(train_val)\n",
        "  model = LogisticRegression(solver='lbfgs', C=1.0, max_iter=1000, random_state=42)\n",
        "  model.fit(X_train, y_train_above_average)\n",
        "  \n",
        "  y_pred = model.predict_proba(X_val)[:, 1]\n",
        "  price_decision = (y_pred >= 0.5)\n",
        "  model_accuracy = (y_val_above_average == price_decision).mean().round(2)\n",
        "  accuracy_list.append(model_accuracy)\n",
        "  diff = (accuracy_list[0]-model_accuracy).round(2)\n",
        "  #print(key, model_accuracy, diff)\n",
        "  print(model_accuracy, diff, key)"
      ],
      "execution_count": 157,
      "outputs": [
        {
          "output_type": "stream",
          "name": "stdout",
          "text": [
            "0.79 0.0 model1 - all features - none removed\n",
            "0.73 0.06 model2 - room_type removed\n",
            "0.79 0.0 model3 - reviews_per_month removed\n",
            "0.79 0.0 model4 - number_of_reviews removed\n",
            "0.75 0.04 model5 - neighbourhood_group removed\n",
            "0.79 0.0 model6 - minimum_nights removed\n",
            "0.79 0.0 model7 - longitude removed\n",
            "0.79 0.0 model8 - latitude removed\n",
            "0.79 0.0 model9 - calculated_host_listings_count removed\n",
            "0.78 0.01 model10 - availability_365 removed\n"
          ]
        }
      ]
    },
    {
      "cell_type": "markdown",
      "metadata": {
        "id": "PN3e8TahdX35"
      },
      "source": [
        "So we see ```number_of_reviews``` and ```reviews_per_month``` when removed from the model we have the smallest difference in accuracy. In fact, no difference at all."
      ]
    },
    {
      "cell_type": "markdown",
      "metadata": {
        "id": "W9S3PBqteDzA"
      },
      "source": [
        "##Linear Regression in Scikit-Learn\n",
        "\n",
        "* We'll need to use the original column 'price'. Apply the logarithmic transformation to this column.\n",
        "* Fit the Ridge regression model on the training data.\n",
        "* This model has a parameter alpha. Let's try the following values: [0, 0.01, 0.1, 1, 10]\n",
        "* Which of these alphas leads to the best RMSE on the validation set? Round your RMSE scores to 3 decimal digits."
      ]
    },
    {
      "cell_type": "markdown",
      "metadata": {
        "id": "gPR4DQG6fbXC"
      },
      "source": [
        "Before apply log to the ```price``` we want to fill any nans with mean of price and later add 1 to all the price values."
      ]
    },
    {
      "cell_type": "code",
      "metadata": {
        "colab": {
          "base_uri": "https://localhost:8080/"
        },
        "id": "x-XCqn6Ffp6d",
        "outputId": "0167af00-d8c3-4e10-ce09-f16cd5b1ef65"
      },
      "source": [
        "train_mean"
      ],
      "execution_count": 158,
      "outputs": [
        {
          "output_type": "execute_result",
          "data": {
            "text/plain": [
              "154.12"
            ]
          },
          "metadata": {},
          "execution_count": 158
        }
      ]
    },
    {
      "cell_type": "markdown",
      "metadata": {
        "id": "DP72NgXnhTsT"
      },
      "source": [
        "Let's fill in our split data with train mean"
      ]
    },
    {
      "cell_type": "code",
      "metadata": {
        "id": "ct3qSx-ThCNM"
      },
      "source": [
        "y_train[y_train == 0] = train_mean\n",
        "y_val[y_val == 0] = train_mean\n",
        "y_test[y_test == 0] = train_mean"
      ],
      "execution_count": 159,
      "outputs": []
    },
    {
      "cell_type": "markdown",
      "metadata": {
        "id": "3CjEk2FThsyB"
      },
      "source": [
        "Log-transform"
      ]
    },
    {
      "cell_type": "code",
      "metadata": {
        "id": "-Y1e9oYmhwVy"
      },
      "source": [
        "y_train = np.log(y_train)\n",
        "y_val = np.log(y_val)\n",
        "y_test = np.log(y_test)"
      ],
      "execution_count": 160,
      "outputs": []
    },
    {
      "cell_type": "markdown",
      "metadata": {
        "id": "EegVjtkkrC5s"
      },
      "source": [
        "Train the model and validate and compute the RMSEs"
      ]
    },
    {
      "cell_type": "code",
      "metadata": {
        "colab": {
          "base_uri": "https://localhost:8080/"
        },
        "id": "AAiSaPELiCPG",
        "outputId": "37a09c8e-f16a-480c-c529-b6e88c1b9433"
      },
      "source": [
        "alpha_values = [0, 0.01, 0.1, 1, 10]\n",
        "rmses = []\n",
        "\n",
        "for alpha in alpha_values:\n",
        "    model = Ridge(alpha)\n",
        "    model.fit(X_train, y_train)\n",
        "    pred = model.predict(X_val)\n",
        "    rmse = np.sqrt(mean_squared_error(y_val, pred))\n",
        "    rmses.append(rmse)\n",
        "    print('Ridge Regression with alpha = {0}, gives RMSE on validation set as {1}'.format(alpha, round(rmse,3)))"
      ],
      "execution_count": 161,
      "outputs": [
        {
          "output_type": "stream",
          "name": "stdout",
          "text": [
            "Ridge Regression with alpha = 0, gives RMSE on validation set as 0.508\n",
            "Ridge Regression with alpha = 0.01, gives RMSE on validation set as 0.508\n",
            "Ridge Regression with alpha = 0.1, gives RMSE on validation set as 0.508\n",
            "Ridge Regression with alpha = 1, gives RMSE on validation set as 0.508\n",
            "Ridge Regression with alpha = 10, gives RMSE on validation set as 0.509\n"
          ]
        }
      ]
    },
    {
      "cell_type": "markdown",
      "metadata": {
        "id": "TIcoQAL3ouz6"
      },
      "source": [
        "Here alpha = 0 is the least alpha with least RMSE of 0.508"
      ]
    }
  ]
}