{
  "nbformat": 4,
  "nbformat_minor": 0,
  "metadata": {
    "kernelspec": {
      "display_name": "Python 3",
      "language": "python",
      "name": "python3"
    },
    "language_info": {
      "codemirror_mode": {
        "name": "ipython",
        "version": 3
      },
      "file_extension": ".py",
      "mimetype": "text/x-python",
      "name": "python",
      "nbconvert_exporter": "python",
      "pygments_lexer": "ipython3",
      "version": "3.6.9"
    },
    "colab": {
      "name": "ml_zoomcamp_hmwk_4.ipynb",
      "provenance": [],
      "collapsed_sections": []
    },
    "widgets": {
      "application/vnd.jupyter.widget-state+json": {
        "6b963a7a59a145e883511a7ecbc18573": {
          "model_module": "@jupyter-widgets/controls",
          "model_name": "HBoxModel",
          "model_module_version": "1.5.0",
          "state": {
            "_view_name": "HBoxView",
            "_dom_classes": [],
            "_model_name": "HBoxModel",
            "_view_module": "@jupyter-widgets/controls",
            "_model_module_version": "1.5.0",
            "_view_count": null,
            "_view_module_version": "1.5.0",
            "box_style": "",
            "layout": "IPY_MODEL_7d22d529942f415297d56440dc2064e9",
            "_model_module": "@jupyter-widgets/controls",
            "children": [
              "IPY_MODEL_7749c18ff5614fff91ccdcea1d88b2cc",
              "IPY_MODEL_40bf011938ba49f386a7625ea2526a77",
              "IPY_MODEL_1d72b10c69e44020bc4825ab29a840a4"
            ]
          }
        },
        "7d22d529942f415297d56440dc2064e9": {
          "model_module": "@jupyter-widgets/base",
          "model_name": "LayoutModel",
          "model_module_version": "1.2.0",
          "state": {
            "_view_name": "LayoutView",
            "grid_template_rows": null,
            "right": null,
            "justify_content": null,
            "_view_module": "@jupyter-widgets/base",
            "overflow": null,
            "_model_module_version": "1.2.0",
            "_view_count": null,
            "flex_flow": null,
            "width": null,
            "min_width": null,
            "border": null,
            "align_items": null,
            "bottom": null,
            "_model_module": "@jupyter-widgets/base",
            "top": null,
            "grid_column": null,
            "overflow_y": null,
            "overflow_x": null,
            "grid_auto_flow": null,
            "grid_area": null,
            "grid_template_columns": null,
            "flex": null,
            "_model_name": "LayoutModel",
            "justify_items": null,
            "grid_row": null,
            "max_height": null,
            "align_content": null,
            "visibility": null,
            "align_self": null,
            "height": null,
            "min_height": null,
            "padding": null,
            "grid_auto_rows": null,
            "grid_gap": null,
            "max_width": null,
            "order": null,
            "_view_module_version": "1.2.0",
            "grid_template_areas": null,
            "object_position": null,
            "object_fit": null,
            "grid_auto_columns": null,
            "margin": null,
            "display": null,
            "left": null
          }
        },
        "7749c18ff5614fff91ccdcea1d88b2cc": {
          "model_module": "@jupyter-widgets/controls",
          "model_name": "HTMLModel",
          "model_module_version": "1.5.0",
          "state": {
            "_view_name": "HTMLView",
            "style": "IPY_MODEL_56d605d30d4f494d9c71f4667686525d",
            "_dom_classes": [],
            "description": "",
            "_model_name": "HTMLModel",
            "placeholder": "​",
            "_view_module": "@jupyter-widgets/controls",
            "_model_module_version": "1.5.0",
            "value": "100%",
            "_view_count": null,
            "_view_module_version": "1.5.0",
            "description_tooltip": null,
            "_model_module": "@jupyter-widgets/controls",
            "layout": "IPY_MODEL_6b7ac7c2c77946baa1b02d1f0080ad98"
          }
        },
        "40bf011938ba49f386a7625ea2526a77": {
          "model_module": "@jupyter-widgets/controls",
          "model_name": "FloatProgressModel",
          "model_module_version": "1.5.0",
          "state": {
            "_view_name": "ProgressView",
            "style": "IPY_MODEL_0b9ee8dc5d344ed69dc4762010d0837f",
            "_dom_classes": [],
            "description": "",
            "_model_name": "FloatProgressModel",
            "bar_style": "success",
            "max": 4,
            "_view_module": "@jupyter-widgets/controls",
            "_model_module_version": "1.5.0",
            "value": 4,
            "_view_count": null,
            "_view_module_version": "1.5.0",
            "orientation": "horizontal",
            "min": 0,
            "description_tooltip": null,
            "_model_module": "@jupyter-widgets/controls",
            "layout": "IPY_MODEL_abdd1263725f426688af2ccac9cfb147"
          }
        },
        "1d72b10c69e44020bc4825ab29a840a4": {
          "model_module": "@jupyter-widgets/controls",
          "model_name": "HTMLModel",
          "model_module_version": "1.5.0",
          "state": {
            "_view_name": "HTMLView",
            "style": "IPY_MODEL_ba19364d68944e819d69da3eb6a482a8",
            "_dom_classes": [],
            "description": "",
            "_model_name": "HTMLModel",
            "placeholder": "​",
            "_view_module": "@jupyter-widgets/controls",
            "_model_module_version": "1.5.0",
            "value": " 4/4 [00:02&lt;00:00,  1.47it/s]",
            "_view_count": null,
            "_view_module_version": "1.5.0",
            "description_tooltip": null,
            "_model_module": "@jupyter-widgets/controls",
            "layout": "IPY_MODEL_b4bfc0ba123f480b82e6a499a1555435"
          }
        },
        "56d605d30d4f494d9c71f4667686525d": {
          "model_module": "@jupyter-widgets/controls",
          "model_name": "DescriptionStyleModel",
          "model_module_version": "1.5.0",
          "state": {
            "_view_name": "StyleView",
            "_model_name": "DescriptionStyleModel",
            "description_width": "",
            "_view_module": "@jupyter-widgets/base",
            "_model_module_version": "1.5.0",
            "_view_count": null,
            "_view_module_version": "1.2.0",
            "_model_module": "@jupyter-widgets/controls"
          }
        },
        "6b7ac7c2c77946baa1b02d1f0080ad98": {
          "model_module": "@jupyter-widgets/base",
          "model_name": "LayoutModel",
          "model_module_version": "1.2.0",
          "state": {
            "_view_name": "LayoutView",
            "grid_template_rows": null,
            "right": null,
            "justify_content": null,
            "_view_module": "@jupyter-widgets/base",
            "overflow": null,
            "_model_module_version": "1.2.0",
            "_view_count": null,
            "flex_flow": null,
            "width": null,
            "min_width": null,
            "border": null,
            "align_items": null,
            "bottom": null,
            "_model_module": "@jupyter-widgets/base",
            "top": null,
            "grid_column": null,
            "overflow_y": null,
            "overflow_x": null,
            "grid_auto_flow": null,
            "grid_area": null,
            "grid_template_columns": null,
            "flex": null,
            "_model_name": "LayoutModel",
            "justify_items": null,
            "grid_row": null,
            "max_height": null,
            "align_content": null,
            "visibility": null,
            "align_self": null,
            "height": null,
            "min_height": null,
            "padding": null,
            "grid_auto_rows": null,
            "grid_gap": null,
            "max_width": null,
            "order": null,
            "_view_module_version": "1.2.0",
            "grid_template_areas": null,
            "object_position": null,
            "object_fit": null,
            "grid_auto_columns": null,
            "margin": null,
            "display": null,
            "left": null
          }
        },
        "0b9ee8dc5d344ed69dc4762010d0837f": {
          "model_module": "@jupyter-widgets/controls",
          "model_name": "ProgressStyleModel",
          "model_module_version": "1.5.0",
          "state": {
            "_view_name": "StyleView",
            "_model_name": "ProgressStyleModel",
            "description_width": "",
            "_view_module": "@jupyter-widgets/base",
            "_model_module_version": "1.5.0",
            "_view_count": null,
            "_view_module_version": "1.2.0",
            "bar_color": null,
            "_model_module": "@jupyter-widgets/controls"
          }
        },
        "abdd1263725f426688af2ccac9cfb147": {
          "model_module": "@jupyter-widgets/base",
          "model_name": "LayoutModel",
          "model_module_version": "1.2.0",
          "state": {
            "_view_name": "LayoutView",
            "grid_template_rows": null,
            "right": null,
            "justify_content": null,
            "_view_module": "@jupyter-widgets/base",
            "overflow": null,
            "_model_module_version": "1.2.0",
            "_view_count": null,
            "flex_flow": null,
            "width": null,
            "min_width": null,
            "border": null,
            "align_items": null,
            "bottom": null,
            "_model_module": "@jupyter-widgets/base",
            "top": null,
            "grid_column": null,
            "overflow_y": null,
            "overflow_x": null,
            "grid_auto_flow": null,
            "grid_area": null,
            "grid_template_columns": null,
            "flex": null,
            "_model_name": "LayoutModel",
            "justify_items": null,
            "grid_row": null,
            "max_height": null,
            "align_content": null,
            "visibility": null,
            "align_self": null,
            "height": null,
            "min_height": null,
            "padding": null,
            "grid_auto_rows": null,
            "grid_gap": null,
            "max_width": null,
            "order": null,
            "_view_module_version": "1.2.0",
            "grid_template_areas": null,
            "object_position": null,
            "object_fit": null,
            "grid_auto_columns": null,
            "margin": null,
            "display": null,
            "left": null
          }
        },
        "ba19364d68944e819d69da3eb6a482a8": {
          "model_module": "@jupyter-widgets/controls",
          "model_name": "DescriptionStyleModel",
          "model_module_version": "1.5.0",
          "state": {
            "_view_name": "StyleView",
            "_model_name": "DescriptionStyleModel",
            "description_width": "",
            "_view_module": "@jupyter-widgets/base",
            "_model_module_version": "1.5.0",
            "_view_count": null,
            "_view_module_version": "1.2.0",
            "_model_module": "@jupyter-widgets/controls"
          }
        },
        "b4bfc0ba123f480b82e6a499a1555435": {
          "model_module": "@jupyter-widgets/base",
          "model_name": "LayoutModel",
          "model_module_version": "1.2.0",
          "state": {
            "_view_name": "LayoutView",
            "grid_template_rows": null,
            "right": null,
            "justify_content": null,
            "_view_module": "@jupyter-widgets/base",
            "overflow": null,
            "_model_module_version": "1.2.0",
            "_view_count": null,
            "flex_flow": null,
            "width": null,
            "min_width": null,
            "border": null,
            "align_items": null,
            "bottom": null,
            "_model_module": "@jupyter-widgets/base",
            "top": null,
            "grid_column": null,
            "overflow_y": null,
            "overflow_x": null,
            "grid_auto_flow": null,
            "grid_area": null,
            "grid_template_columns": null,
            "flex": null,
            "_model_name": "LayoutModel",
            "justify_items": null,
            "grid_row": null,
            "max_height": null,
            "align_content": null,
            "visibility": null,
            "align_self": null,
            "height": null,
            "min_height": null,
            "padding": null,
            "grid_auto_rows": null,
            "grid_gap": null,
            "max_width": null,
            "order": null,
            "_view_module_version": "1.2.0",
            "grid_template_areas": null,
            "object_position": null,
            "object_fit": null,
            "grid_auto_columns": null,
            "margin": null,
            "display": null,
            "left": null
          }
        }
      }
    }
  },
  "cells": [
    {
      "cell_type": "markdown",
      "metadata": {
        "id": "bxFOy3HZg89f"
      },
      "source": [
        "#Exploring Performance Evaluation Metrics for a Credit Scoring Model\n",
        "\n",
        "- In this project, we will predict borrower default for a lender using data from [GitHub](https://github.com/gastonstat/CreditScoring).\n",
        "- We will demonstrate the use of logistic regression and Scikit-Learn in this project. \n",
        "- Then we will proceed to evaluate the model with various predictive and discriminative performance metrics, including AUC - area under the ROC."
      ]
    },
    {
      "cell_type": "code",
      "metadata": {
        "id": "bJ2k1SZJg89k"
      },
      "source": [
        "import pandas as pd\n",
        "import numpy as np\n",
        "\n",
        "import matplotlib.pyplot as plt\n",
        "import seaborn as sns\n",
        "\n",
        "%matplotlib inline"
      ],
      "execution_count": 561,
      "outputs": []
    },
    {
      "cell_type": "markdown",
      "metadata": {
        "id": "3nKamIIpg89n"
      },
      "source": [
        "Data:\n",
        "\n",
        "- https://github.com/gastonstat/CreditScoring\n",
        "- Also available [here](https://raw.githubusercontent.com/alexeygrigorev/mlbookcamp-code/master/chapter-06-trees/CreditScoring.csv)"
      ]
    },
    {
      "cell_type": "code",
      "metadata": {
        "scrolled": true,
        "colab": {
          "base_uri": "https://localhost:8080/"
        },
        "id": "qdvGaipXg89o",
        "outputId": "40ea3c64-6d3d-42ad-cdd0-1edb2ad53f95"
      },
      "source": [
        "!wget https://raw.githubusercontent.com/alexeygrigorev/mlbookcamp-code/master/chapter-06-trees/CreditScoring.csv"
      ],
      "execution_count": 562,
      "outputs": [
        {
          "output_type": "stream",
          "name": "stdout",
          "text": [
            "--2021-10-04 01:54:23--  https://raw.githubusercontent.com/alexeygrigorev/mlbookcamp-code/master/chapter-06-trees/CreditScoring.csv\n",
            "Resolving raw.githubusercontent.com (raw.githubusercontent.com)... 185.199.108.133, 185.199.111.133, 185.199.110.133, ...\n",
            "Connecting to raw.githubusercontent.com (raw.githubusercontent.com)|185.199.108.133|:443... connected.\n",
            "HTTP request sent, awaiting response... 200 OK\n",
            "Length: 182489 (178K) [text/plain]\n",
            "Saving to: ‘CreditScoring.csv.9’\n",
            "\n",
            "\rCreditScoring.csv.9   0%[                    ]       0  --.-KB/s               \rCreditScoring.csv.9 100%[===================>] 178.21K  --.-KB/s    in 0.02s   \n",
            "\n",
            "2021-10-04 01:54:23 (7.09 MB/s) - ‘CreditScoring.csv.9’ saved [182489/182489]\n",
            "\n"
          ]
        }
      ]
    },
    {
      "cell_type": "markdown",
      "metadata": {
        "id": "vEXDFgy5g89p"
      },
      "source": [
        "## Preparation \n",
        "\n",
        "Read data"
      ]
    },
    {
      "cell_type": "code",
      "metadata": {
        "colab": {
          "base_uri": "https://localhost:8080/",
          "height": 488
        },
        "id": "LVCYeTY8g89q",
        "outputId": "cb14826c-92e4-44c0-8f2e-442132d829bc"
      },
      "source": [
        "df = pd.read_csv('CreditScoring.csv')\n",
        "df.head().T"
      ],
      "execution_count": 563,
      "outputs": [
        {
          "output_type": "execute_result",
          "data": {
            "text/html": [
              "<div>\n",
              "<style scoped>\n",
              "    .dataframe tbody tr th:only-of-type {\n",
              "        vertical-align: middle;\n",
              "    }\n",
              "\n",
              "    .dataframe tbody tr th {\n",
              "        vertical-align: top;\n",
              "    }\n",
              "\n",
              "    .dataframe thead th {\n",
              "        text-align: right;\n",
              "    }\n",
              "</style>\n",
              "<table border=\"1\" class=\"dataframe\">\n",
              "  <thead>\n",
              "    <tr style=\"text-align: right;\">\n",
              "      <th></th>\n",
              "      <th>0</th>\n",
              "      <th>1</th>\n",
              "      <th>2</th>\n",
              "      <th>3</th>\n",
              "      <th>4</th>\n",
              "    </tr>\n",
              "  </thead>\n",
              "  <tbody>\n",
              "    <tr>\n",
              "      <th>Status</th>\n",
              "      <td>1</td>\n",
              "      <td>1</td>\n",
              "      <td>2</td>\n",
              "      <td>1</td>\n",
              "      <td>1</td>\n",
              "    </tr>\n",
              "    <tr>\n",
              "      <th>Seniority</th>\n",
              "      <td>9</td>\n",
              "      <td>17</td>\n",
              "      <td>10</td>\n",
              "      <td>0</td>\n",
              "      <td>0</td>\n",
              "    </tr>\n",
              "    <tr>\n",
              "      <th>Home</th>\n",
              "      <td>1</td>\n",
              "      <td>1</td>\n",
              "      <td>2</td>\n",
              "      <td>1</td>\n",
              "      <td>1</td>\n",
              "    </tr>\n",
              "    <tr>\n",
              "      <th>Time</th>\n",
              "      <td>60</td>\n",
              "      <td>60</td>\n",
              "      <td>36</td>\n",
              "      <td>60</td>\n",
              "      <td>36</td>\n",
              "    </tr>\n",
              "    <tr>\n",
              "      <th>Age</th>\n",
              "      <td>30</td>\n",
              "      <td>58</td>\n",
              "      <td>46</td>\n",
              "      <td>24</td>\n",
              "      <td>26</td>\n",
              "    </tr>\n",
              "    <tr>\n",
              "      <th>Marital</th>\n",
              "      <td>2</td>\n",
              "      <td>3</td>\n",
              "      <td>2</td>\n",
              "      <td>1</td>\n",
              "      <td>1</td>\n",
              "    </tr>\n",
              "    <tr>\n",
              "      <th>Records</th>\n",
              "      <td>1</td>\n",
              "      <td>1</td>\n",
              "      <td>2</td>\n",
              "      <td>1</td>\n",
              "      <td>1</td>\n",
              "    </tr>\n",
              "    <tr>\n",
              "      <th>Job</th>\n",
              "      <td>3</td>\n",
              "      <td>1</td>\n",
              "      <td>3</td>\n",
              "      <td>1</td>\n",
              "      <td>1</td>\n",
              "    </tr>\n",
              "    <tr>\n",
              "      <th>Expenses</th>\n",
              "      <td>73</td>\n",
              "      <td>48</td>\n",
              "      <td>90</td>\n",
              "      <td>63</td>\n",
              "      <td>46</td>\n",
              "    </tr>\n",
              "    <tr>\n",
              "      <th>Income</th>\n",
              "      <td>129</td>\n",
              "      <td>131</td>\n",
              "      <td>200</td>\n",
              "      <td>182</td>\n",
              "      <td>107</td>\n",
              "    </tr>\n",
              "    <tr>\n",
              "      <th>Assets</th>\n",
              "      <td>0</td>\n",
              "      <td>0</td>\n",
              "      <td>3000</td>\n",
              "      <td>2500</td>\n",
              "      <td>0</td>\n",
              "    </tr>\n",
              "    <tr>\n",
              "      <th>Debt</th>\n",
              "      <td>0</td>\n",
              "      <td>0</td>\n",
              "      <td>0</td>\n",
              "      <td>0</td>\n",
              "      <td>0</td>\n",
              "    </tr>\n",
              "    <tr>\n",
              "      <th>Amount</th>\n",
              "      <td>800</td>\n",
              "      <td>1000</td>\n",
              "      <td>2000</td>\n",
              "      <td>900</td>\n",
              "      <td>310</td>\n",
              "    </tr>\n",
              "    <tr>\n",
              "      <th>Price</th>\n",
              "      <td>846</td>\n",
              "      <td>1658</td>\n",
              "      <td>2985</td>\n",
              "      <td>1325</td>\n",
              "      <td>910</td>\n",
              "    </tr>\n",
              "  </tbody>\n",
              "</table>\n",
              "</div>"
            ],
            "text/plain": [
              "             0     1     2     3    4\n",
              "Status       1     1     2     1    1\n",
              "Seniority    9    17    10     0    0\n",
              "Home         1     1     2     1    1\n",
              "Time        60    60    36    60   36\n",
              "Age         30    58    46    24   26\n",
              "Marital      2     3     2     1    1\n",
              "Records      1     1     2     1    1\n",
              "Job          3     1     3     1    1\n",
              "Expenses    73    48    90    63   46\n",
              "Income     129   131   200   182  107\n",
              "Assets       0     0  3000  2500    0\n",
              "Debt         0     0     0     0    0\n",
              "Amount     800  1000  2000   900  310\n",
              "Price      846  1658  2985  1325  910"
            ]
          },
          "metadata": {},
          "execution_count": 563
        }
      ]
    },
    {
      "cell_type": "markdown",
      "metadata": {
        "id": "a3Qqzm37pDxz"
      },
      "source": [
        "###Change column names to lowercase"
      ]
    },
    {
      "cell_type": "code",
      "metadata": {
        "id": "d2M8rj3QptIB"
      },
      "source": [
        "#Make a copy of the data\n",
        "df = df.copy()"
      ],
      "execution_count": 564,
      "outputs": []
    },
    {
      "cell_type": "code",
      "metadata": {
        "colab": {
          "base_uri": "https://localhost:8080/",
          "height": 488
        },
        "id": "zpBJAmxWpJo7",
        "outputId": "7040d539-0893-4b29-b1b2-43a54bbf1ca7"
      },
      "source": [
        "df.columns = df.columns.str.lower()\n",
        "\n",
        "df.head().T"
      ],
      "execution_count": 565,
      "outputs": [
        {
          "output_type": "execute_result",
          "data": {
            "text/html": [
              "<div>\n",
              "<style scoped>\n",
              "    .dataframe tbody tr th:only-of-type {\n",
              "        vertical-align: middle;\n",
              "    }\n",
              "\n",
              "    .dataframe tbody tr th {\n",
              "        vertical-align: top;\n",
              "    }\n",
              "\n",
              "    .dataframe thead th {\n",
              "        text-align: right;\n",
              "    }\n",
              "</style>\n",
              "<table border=\"1\" class=\"dataframe\">\n",
              "  <thead>\n",
              "    <tr style=\"text-align: right;\">\n",
              "      <th></th>\n",
              "      <th>0</th>\n",
              "      <th>1</th>\n",
              "      <th>2</th>\n",
              "      <th>3</th>\n",
              "      <th>4</th>\n",
              "    </tr>\n",
              "  </thead>\n",
              "  <tbody>\n",
              "    <tr>\n",
              "      <th>status</th>\n",
              "      <td>1</td>\n",
              "      <td>1</td>\n",
              "      <td>2</td>\n",
              "      <td>1</td>\n",
              "      <td>1</td>\n",
              "    </tr>\n",
              "    <tr>\n",
              "      <th>seniority</th>\n",
              "      <td>9</td>\n",
              "      <td>17</td>\n",
              "      <td>10</td>\n",
              "      <td>0</td>\n",
              "      <td>0</td>\n",
              "    </tr>\n",
              "    <tr>\n",
              "      <th>home</th>\n",
              "      <td>1</td>\n",
              "      <td>1</td>\n",
              "      <td>2</td>\n",
              "      <td>1</td>\n",
              "      <td>1</td>\n",
              "    </tr>\n",
              "    <tr>\n",
              "      <th>time</th>\n",
              "      <td>60</td>\n",
              "      <td>60</td>\n",
              "      <td>36</td>\n",
              "      <td>60</td>\n",
              "      <td>36</td>\n",
              "    </tr>\n",
              "    <tr>\n",
              "      <th>age</th>\n",
              "      <td>30</td>\n",
              "      <td>58</td>\n",
              "      <td>46</td>\n",
              "      <td>24</td>\n",
              "      <td>26</td>\n",
              "    </tr>\n",
              "    <tr>\n",
              "      <th>marital</th>\n",
              "      <td>2</td>\n",
              "      <td>3</td>\n",
              "      <td>2</td>\n",
              "      <td>1</td>\n",
              "      <td>1</td>\n",
              "    </tr>\n",
              "    <tr>\n",
              "      <th>records</th>\n",
              "      <td>1</td>\n",
              "      <td>1</td>\n",
              "      <td>2</td>\n",
              "      <td>1</td>\n",
              "      <td>1</td>\n",
              "    </tr>\n",
              "    <tr>\n",
              "      <th>job</th>\n",
              "      <td>3</td>\n",
              "      <td>1</td>\n",
              "      <td>3</td>\n",
              "      <td>1</td>\n",
              "      <td>1</td>\n",
              "    </tr>\n",
              "    <tr>\n",
              "      <th>expenses</th>\n",
              "      <td>73</td>\n",
              "      <td>48</td>\n",
              "      <td>90</td>\n",
              "      <td>63</td>\n",
              "      <td>46</td>\n",
              "    </tr>\n",
              "    <tr>\n",
              "      <th>income</th>\n",
              "      <td>129</td>\n",
              "      <td>131</td>\n",
              "      <td>200</td>\n",
              "      <td>182</td>\n",
              "      <td>107</td>\n",
              "    </tr>\n",
              "    <tr>\n",
              "      <th>assets</th>\n",
              "      <td>0</td>\n",
              "      <td>0</td>\n",
              "      <td>3000</td>\n",
              "      <td>2500</td>\n",
              "      <td>0</td>\n",
              "    </tr>\n",
              "    <tr>\n",
              "      <th>debt</th>\n",
              "      <td>0</td>\n",
              "      <td>0</td>\n",
              "      <td>0</td>\n",
              "      <td>0</td>\n",
              "      <td>0</td>\n",
              "    </tr>\n",
              "    <tr>\n",
              "      <th>amount</th>\n",
              "      <td>800</td>\n",
              "      <td>1000</td>\n",
              "      <td>2000</td>\n",
              "      <td>900</td>\n",
              "      <td>310</td>\n",
              "    </tr>\n",
              "    <tr>\n",
              "      <th>price</th>\n",
              "      <td>846</td>\n",
              "      <td>1658</td>\n",
              "      <td>2985</td>\n",
              "      <td>1325</td>\n",
              "      <td>910</td>\n",
              "    </tr>\n",
              "  </tbody>\n",
              "</table>\n",
              "</div>"
            ],
            "text/plain": [
              "             0     1     2     3    4\n",
              "status       1     1     2     1    1\n",
              "seniority    9    17    10     0    0\n",
              "home         1     1     2     1    1\n",
              "time        60    60    36    60   36\n",
              "age         30    58    46    24   26\n",
              "marital      2     3     2     1    1\n",
              "records      1     1     2     1    1\n",
              "job          3     1     3     1    1\n",
              "expenses    73    48    90    63   46\n",
              "income     129   131   200   182  107\n",
              "assets       0     0  3000  2500    0\n",
              "debt         0     0     0     0    0\n",
              "amount     800  1000  2000   900  310\n",
              "price      846  1658  2985  1325  910"
            ]
          },
          "metadata": {},
          "execution_count": 565
        }
      ]
    },
    {
      "cell_type": "markdown",
      "metadata": {
        "id": "n9jnxWE0p9gq"
      },
      "source": [
        "###Check the preliminary data information"
      ]
    },
    {
      "cell_type": "code",
      "metadata": {
        "colab": {
          "base_uri": "https://localhost:8080/"
        },
        "id": "hsbWaLa8qDgj",
        "outputId": "253adc09-0bc3-4264-c402-b9a7ed3d6a8e"
      },
      "source": [
        "df.info()"
      ],
      "execution_count": 566,
      "outputs": [
        {
          "output_type": "stream",
          "name": "stdout",
          "text": [
            "<class 'pandas.core.frame.DataFrame'>\n",
            "RangeIndex: 4455 entries, 0 to 4454\n",
            "Data columns (total 14 columns):\n",
            " #   Column     Non-Null Count  Dtype\n",
            "---  ------     --------------  -----\n",
            " 0   status     4455 non-null   int64\n",
            " 1   seniority  4455 non-null   int64\n",
            " 2   home       4455 non-null   int64\n",
            " 3   time       4455 non-null   int64\n",
            " 4   age        4455 non-null   int64\n",
            " 5   marital    4455 non-null   int64\n",
            " 6   records    4455 non-null   int64\n",
            " 7   job        4455 non-null   int64\n",
            " 8   expenses   4455 non-null   int64\n",
            " 9   income     4455 non-null   int64\n",
            " 10  assets     4455 non-null   int64\n",
            " 11  debt       4455 non-null   int64\n",
            " 12  amount     4455 non-null   int64\n",
            " 13  price      4455 non-null   int64\n",
            "dtypes: int64(14)\n",
            "memory usage: 487.4 KB\n"
          ]
        }
      ]
    },
    {
      "cell_type": "markdown",
      "metadata": {
        "id": "M-o7rY8xg89r"
      },
      "source": [
        "###Recoding Categorical variables\n",
        "\n",
        "- Though the data type shows we have only integers, we know variables like ```status```, ```home```, ```marital```, ```records```, and ```job``` are categorical variables and can be translated into strings to make them more informative.\n",
        "\n",
        "- We use the map method to re-code them with pre-defined dictionaries."
      ]
    },
    {
      "cell_type": "code",
      "metadata": {
        "id": "0dGsi86lg89s"
      },
      "source": [
        "status_values = {\n",
        "    1: 'ok',\n",
        "    2: 'default',\n",
        "    0: 'unk'\n",
        "}\n",
        "\n",
        "df.status = df.status.map(status_values)\n",
        "\n",
        "\n",
        "home_values = {\n",
        "    1: 'rent',\n",
        "    2: 'owner',\n",
        "    3: 'private',\n",
        "    4: 'ignore',\n",
        "    5: 'parents',\n",
        "    6: 'other',\n",
        "    0: 'unk'\n",
        "}\n",
        "\n",
        "df.home = df.home.map(home_values)\n",
        "\n",
        "marital_values = {\n",
        "    1: 'single',\n",
        "    2: 'married',\n",
        "    3: 'widow',\n",
        "    4: 'separated',\n",
        "    5: 'divorced',\n",
        "    0: 'unk'\n",
        "}\n",
        "\n",
        "df.marital = df.marital.map(marital_values)\n",
        "\n",
        "records_values = {\n",
        "    1: 'no',\n",
        "    2: 'yes',\n",
        "    0: 'unk'\n",
        "}\n",
        "\n",
        "df.records = df.records.map(records_values)\n",
        "\n",
        "job_values = {\n",
        "    1: 'fixed',\n",
        "    2: 'partime',\n",
        "    3: 'freelance',\n",
        "    4: 'others',\n",
        "    0: 'unk'\n",
        "}\n",
        "\n",
        "df.job = df.job.map(job_values)"
      ],
      "execution_count": 567,
      "outputs": []
    },
    {
      "cell_type": "code",
      "metadata": {
        "colab": {
          "base_uri": "https://localhost:8080/",
          "height": 206
        },
        "id": "yApv8pTYrSz_",
        "outputId": "3120e08e-42ec-41a6-ac04-1a4b50d5c775"
      },
      "source": [
        "df.head()"
      ],
      "execution_count": 568,
      "outputs": [
        {
          "output_type": "execute_result",
          "data": {
            "text/html": [
              "<div>\n",
              "<style scoped>\n",
              "    .dataframe tbody tr th:only-of-type {\n",
              "        vertical-align: middle;\n",
              "    }\n",
              "\n",
              "    .dataframe tbody tr th {\n",
              "        vertical-align: top;\n",
              "    }\n",
              "\n",
              "    .dataframe thead th {\n",
              "        text-align: right;\n",
              "    }\n",
              "</style>\n",
              "<table border=\"1\" class=\"dataframe\">\n",
              "  <thead>\n",
              "    <tr style=\"text-align: right;\">\n",
              "      <th></th>\n",
              "      <th>status</th>\n",
              "      <th>seniority</th>\n",
              "      <th>home</th>\n",
              "      <th>time</th>\n",
              "      <th>age</th>\n",
              "      <th>marital</th>\n",
              "      <th>records</th>\n",
              "      <th>job</th>\n",
              "      <th>expenses</th>\n",
              "      <th>income</th>\n",
              "      <th>assets</th>\n",
              "      <th>debt</th>\n",
              "      <th>amount</th>\n",
              "      <th>price</th>\n",
              "    </tr>\n",
              "  </thead>\n",
              "  <tbody>\n",
              "    <tr>\n",
              "      <th>0</th>\n",
              "      <td>ok</td>\n",
              "      <td>9</td>\n",
              "      <td>rent</td>\n",
              "      <td>60</td>\n",
              "      <td>30</td>\n",
              "      <td>married</td>\n",
              "      <td>no</td>\n",
              "      <td>freelance</td>\n",
              "      <td>73</td>\n",
              "      <td>129</td>\n",
              "      <td>0</td>\n",
              "      <td>0</td>\n",
              "      <td>800</td>\n",
              "      <td>846</td>\n",
              "    </tr>\n",
              "    <tr>\n",
              "      <th>1</th>\n",
              "      <td>ok</td>\n",
              "      <td>17</td>\n",
              "      <td>rent</td>\n",
              "      <td>60</td>\n",
              "      <td>58</td>\n",
              "      <td>widow</td>\n",
              "      <td>no</td>\n",
              "      <td>fixed</td>\n",
              "      <td>48</td>\n",
              "      <td>131</td>\n",
              "      <td>0</td>\n",
              "      <td>0</td>\n",
              "      <td>1000</td>\n",
              "      <td>1658</td>\n",
              "    </tr>\n",
              "    <tr>\n",
              "      <th>2</th>\n",
              "      <td>default</td>\n",
              "      <td>10</td>\n",
              "      <td>owner</td>\n",
              "      <td>36</td>\n",
              "      <td>46</td>\n",
              "      <td>married</td>\n",
              "      <td>yes</td>\n",
              "      <td>freelance</td>\n",
              "      <td>90</td>\n",
              "      <td>200</td>\n",
              "      <td>3000</td>\n",
              "      <td>0</td>\n",
              "      <td>2000</td>\n",
              "      <td>2985</td>\n",
              "    </tr>\n",
              "    <tr>\n",
              "      <th>3</th>\n",
              "      <td>ok</td>\n",
              "      <td>0</td>\n",
              "      <td>rent</td>\n",
              "      <td>60</td>\n",
              "      <td>24</td>\n",
              "      <td>single</td>\n",
              "      <td>no</td>\n",
              "      <td>fixed</td>\n",
              "      <td>63</td>\n",
              "      <td>182</td>\n",
              "      <td>2500</td>\n",
              "      <td>0</td>\n",
              "      <td>900</td>\n",
              "      <td>1325</td>\n",
              "    </tr>\n",
              "    <tr>\n",
              "      <th>4</th>\n",
              "      <td>ok</td>\n",
              "      <td>0</td>\n",
              "      <td>rent</td>\n",
              "      <td>36</td>\n",
              "      <td>26</td>\n",
              "      <td>single</td>\n",
              "      <td>no</td>\n",
              "      <td>fixed</td>\n",
              "      <td>46</td>\n",
              "      <td>107</td>\n",
              "      <td>0</td>\n",
              "      <td>0</td>\n",
              "      <td>310</td>\n",
              "      <td>910</td>\n",
              "    </tr>\n",
              "  </tbody>\n",
              "</table>\n",
              "</div>"
            ],
            "text/plain": [
              "    status  seniority   home  time  age  ... income assets debt  amount  price\n",
              "0       ok          9   rent    60   30  ...    129      0    0     800    846\n",
              "1       ok         17   rent    60   58  ...    131      0    0    1000   1658\n",
              "2  default         10  owner    36   46  ...    200   3000    0    2000   2985\n",
              "3       ok          0   rent    60   24  ...    182   2500    0     900   1325\n",
              "4       ok          0   rent    36   26  ...    107      0    0     310    910\n",
              "\n",
              "[5 rows x 14 columns]"
            ]
          },
          "metadata": {},
          "execution_count": 568
        }
      ]
    },
    {
      "cell_type": "markdown",
      "metadata": {
        "id": "Bclt4Jy9rj_X"
      },
      "source": [
        "###Looking out for missing data\n",
        "- Handling missing values may differ for categorical and numerical variables. \n",
        "- So, let's first separate the data into these two data types and proceed to look for missing values"
      ]
    },
    {
      "cell_type": "code",
      "metadata": {
        "id": "vRBNdxO7r2LI",
        "colab": {
          "base_uri": "https://localhost:8080/"
        },
        "outputId": "6ed69d99-1fc6-4f99-f790-8c4b00db45b6"
      },
      "source": [
        "cat = df.columns[df.dtypes == 'object'] #Separates categorical variables\n",
        "num = df.columns[df.dtypes != 'object'] #Separates numerical variables\n",
        "\n",
        "#Missing values for categorical data\n",
        "print('number of missing values per categorical variable',  '\\n')\n",
        "print(df[cat].isnull().sum())\n",
        "\n",
        "print('\\n')\n",
        "\n",
        "#Missing values for numerical data\n",
        "print('number of missing values per numerical variable',  '\\n')\n",
        "print(df[num].isnull().sum())"
      ],
      "execution_count": 569,
      "outputs": [
        {
          "output_type": "stream",
          "name": "stdout",
          "text": [
            "number of missing values per categorical variable \n",
            "\n",
            "status     0\n",
            "home       0\n",
            "marital    0\n",
            "records    0\n",
            "job        0\n",
            "dtype: int64\n",
            "\n",
            "\n",
            "number of missing values per numerical variable \n",
            "\n",
            "seniority    0\n",
            "time         0\n",
            "age          0\n",
            "expenses     0\n",
            "income       0\n",
            "assets       0\n",
            "debt         0\n",
            "amount       0\n",
            "price        0\n",
            "dtype: int64\n"
          ]
        }
      ]
    },
    {
      "cell_type": "markdown",
      "metadata": {
        "id": "aNo9vLWS0nw6"
      },
      "source": [
        "###Prepare the numerical variables:"
      ]
    },
    {
      "cell_type": "markdown",
      "metadata": {
        "id": "j-V80QorspWn"
      },
      "source": [
        "- The output above shows that there are no missing numbers.\n",
        "\n",
        "- Let's investigate further by looking at some descriptive statistics"
      ]
    },
    {
      "cell_type": "code",
      "metadata": {
        "colab": {
          "base_uri": "https://localhost:8080/",
          "height": 300
        },
        "id": "bBkv_I97s0qN",
        "outputId": "acfcf894-afd4-49a6-d1f6-6fd74cb6f544"
      },
      "source": [
        "df.describe().round(2)"
      ],
      "execution_count": 570,
      "outputs": [
        {
          "output_type": "execute_result",
          "data": {
            "text/html": [
              "<div>\n",
              "<style scoped>\n",
              "    .dataframe tbody tr th:only-of-type {\n",
              "        vertical-align: middle;\n",
              "    }\n",
              "\n",
              "    .dataframe tbody tr th {\n",
              "        vertical-align: top;\n",
              "    }\n",
              "\n",
              "    .dataframe thead th {\n",
              "        text-align: right;\n",
              "    }\n",
              "</style>\n",
              "<table border=\"1\" class=\"dataframe\">\n",
              "  <thead>\n",
              "    <tr style=\"text-align: right;\">\n",
              "      <th></th>\n",
              "      <th>seniority</th>\n",
              "      <th>time</th>\n",
              "      <th>age</th>\n",
              "      <th>expenses</th>\n",
              "      <th>income</th>\n",
              "      <th>assets</th>\n",
              "      <th>debt</th>\n",
              "      <th>amount</th>\n",
              "      <th>price</th>\n",
              "    </tr>\n",
              "  </thead>\n",
              "  <tbody>\n",
              "    <tr>\n",
              "      <th>count</th>\n",
              "      <td>4455.00</td>\n",
              "      <td>4455.00</td>\n",
              "      <td>4455.00</td>\n",
              "      <td>4455.00</td>\n",
              "      <td>4455.00</td>\n",
              "      <td>4455.00</td>\n",
              "      <td>4455.00</td>\n",
              "      <td>4455.00</td>\n",
              "      <td>4455.00</td>\n",
              "    </tr>\n",
              "    <tr>\n",
              "      <th>mean</th>\n",
              "      <td>7.99</td>\n",
              "      <td>46.44</td>\n",
              "      <td>37.08</td>\n",
              "      <td>55.57</td>\n",
              "      <td>763316.99</td>\n",
              "      <td>1060340.81</td>\n",
              "      <td>404381.96</td>\n",
              "      <td>1039.02</td>\n",
              "      <td>1462.88</td>\n",
              "    </tr>\n",
              "    <tr>\n",
              "      <th>std</th>\n",
              "      <td>8.17</td>\n",
              "      <td>14.66</td>\n",
              "      <td>10.98</td>\n",
              "      <td>19.52</td>\n",
              "      <td>8703625.26</td>\n",
              "      <td>10217568.67</td>\n",
              "      <td>6344253.40</td>\n",
              "      <td>474.54</td>\n",
              "      <td>628.09</td>\n",
              "    </tr>\n",
              "    <tr>\n",
              "      <th>min</th>\n",
              "      <td>0.00</td>\n",
              "      <td>6.00</td>\n",
              "      <td>18.00</td>\n",
              "      <td>35.00</td>\n",
              "      <td>0.00</td>\n",
              "      <td>0.00</td>\n",
              "      <td>0.00</td>\n",
              "      <td>100.00</td>\n",
              "      <td>105.00</td>\n",
              "    </tr>\n",
              "    <tr>\n",
              "      <th>25%</th>\n",
              "      <td>2.00</td>\n",
              "      <td>36.00</td>\n",
              "      <td>28.00</td>\n",
              "      <td>35.00</td>\n",
              "      <td>80.00</td>\n",
              "      <td>0.00</td>\n",
              "      <td>0.00</td>\n",
              "      <td>700.00</td>\n",
              "      <td>1117.50</td>\n",
              "    </tr>\n",
              "    <tr>\n",
              "      <th>50%</th>\n",
              "      <td>5.00</td>\n",
              "      <td>48.00</td>\n",
              "      <td>36.00</td>\n",
              "      <td>51.00</td>\n",
              "      <td>120.00</td>\n",
              "      <td>3500.00</td>\n",
              "      <td>0.00</td>\n",
              "      <td>1000.00</td>\n",
              "      <td>1400.00</td>\n",
              "    </tr>\n",
              "    <tr>\n",
              "      <th>75%</th>\n",
              "      <td>12.00</td>\n",
              "      <td>60.00</td>\n",
              "      <td>45.00</td>\n",
              "      <td>72.00</td>\n",
              "      <td>166.00</td>\n",
              "      <td>6000.00</td>\n",
              "      <td>0.00</td>\n",
              "      <td>1300.00</td>\n",
              "      <td>1692.00</td>\n",
              "    </tr>\n",
              "    <tr>\n",
              "      <th>max</th>\n",
              "      <td>48.00</td>\n",
              "      <td>72.00</td>\n",
              "      <td>68.00</td>\n",
              "      <td>180.00</td>\n",
              "      <td>99999999.00</td>\n",
              "      <td>99999999.00</td>\n",
              "      <td>99999999.00</td>\n",
              "      <td>5000.00</td>\n",
              "      <td>11140.00</td>\n",
              "    </tr>\n",
              "  </tbody>\n",
              "</table>\n",
              "</div>"
            ],
            "text/plain": [
              "       seniority     time      age  ...         debt   amount     price\n",
              "count    4455.00  4455.00  4455.00  ...      4455.00  4455.00   4455.00\n",
              "mean        7.99    46.44    37.08  ...    404381.96  1039.02   1462.88\n",
              "std         8.17    14.66    10.98  ...   6344253.40   474.54    628.09\n",
              "min         0.00     6.00    18.00  ...         0.00   100.00    105.00\n",
              "25%         2.00    36.00    28.00  ...         0.00   700.00   1117.50\n",
              "50%         5.00    48.00    36.00  ...         0.00  1000.00   1400.00\n",
              "75%        12.00    60.00    45.00  ...         0.00  1300.00   1692.00\n",
              "max        48.00    72.00    68.00  ...  99999999.00  5000.00  11140.00\n",
              "\n",
              "[8 rows x 9 columns]"
            ]
          },
          "metadata": {},
          "execution_count": 570
        }
      ]
    },
    {
      "cell_type": "markdown",
      "metadata": {
        "id": "nZEdPQOTtOlc"
      },
      "source": [
        "- The maximum values of income, assets and debt indicate something strange. These are missing numbers represented with such very large number. \n",
        "- We will replace them with 'NaN', using the replace method."
      ]
    },
    {
      "cell_type": "code",
      "metadata": {
        "id": "7l87Abwjg89u"
      },
      "source": [
        "for c in ['income', 'assets', 'debt']:\n",
        "    df[c] = df[c].replace(to_replace=99999999, value=0)"
      ],
      "execution_count": 571,
      "outputs": []
    },
    {
      "cell_type": "code",
      "metadata": {
        "colab": {
          "base_uri": "https://localhost:8080/",
          "height": 300
        },
        "id": "W0pIGzSbuQ27",
        "outputId": "ffb5e291-053b-472b-af37-01c5c593b9cd"
      },
      "source": [
        "df.describe().round()"
      ],
      "execution_count": 572,
      "outputs": [
        {
          "output_type": "execute_result",
          "data": {
            "text/html": [
              "<div>\n",
              "<style scoped>\n",
              "    .dataframe tbody tr th:only-of-type {\n",
              "        vertical-align: middle;\n",
              "    }\n",
              "\n",
              "    .dataframe tbody tr th {\n",
              "        vertical-align: top;\n",
              "    }\n",
              "\n",
              "    .dataframe thead th {\n",
              "        text-align: right;\n",
              "    }\n",
              "</style>\n",
              "<table border=\"1\" class=\"dataframe\">\n",
              "  <thead>\n",
              "    <tr style=\"text-align: right;\">\n",
              "      <th></th>\n",
              "      <th>seniority</th>\n",
              "      <th>time</th>\n",
              "      <th>age</th>\n",
              "      <th>expenses</th>\n",
              "      <th>income</th>\n",
              "      <th>assets</th>\n",
              "      <th>debt</th>\n",
              "      <th>amount</th>\n",
              "      <th>price</th>\n",
              "    </tr>\n",
              "  </thead>\n",
              "  <tbody>\n",
              "    <tr>\n",
              "      <th>count</th>\n",
              "      <td>4455.0</td>\n",
              "      <td>4455.0</td>\n",
              "      <td>4455.0</td>\n",
              "      <td>4455.0</td>\n",
              "      <td>4455.0</td>\n",
              "      <td>4455.0</td>\n",
              "      <td>4455.0</td>\n",
              "      <td>4455.0</td>\n",
              "      <td>4455.0</td>\n",
              "    </tr>\n",
              "    <tr>\n",
              "      <th>mean</th>\n",
              "      <td>8.0</td>\n",
              "      <td>46.0</td>\n",
              "      <td>37.0</td>\n",
              "      <td>56.0</td>\n",
              "      <td>130.0</td>\n",
              "      <td>5346.0</td>\n",
              "      <td>342.0</td>\n",
              "      <td>1039.0</td>\n",
              "      <td>1463.0</td>\n",
              "    </tr>\n",
              "    <tr>\n",
              "      <th>std</th>\n",
              "      <td>8.0</td>\n",
              "      <td>15.0</td>\n",
              "      <td>11.0</td>\n",
              "      <td>20.0</td>\n",
              "      <td>87.0</td>\n",
              "      <td>11525.0</td>\n",
              "      <td>1244.0</td>\n",
              "      <td>475.0</td>\n",
              "      <td>628.0</td>\n",
              "    </tr>\n",
              "    <tr>\n",
              "      <th>min</th>\n",
              "      <td>0.0</td>\n",
              "      <td>6.0</td>\n",
              "      <td>18.0</td>\n",
              "      <td>35.0</td>\n",
              "      <td>0.0</td>\n",
              "      <td>0.0</td>\n",
              "      <td>0.0</td>\n",
              "      <td>100.0</td>\n",
              "      <td>105.0</td>\n",
              "    </tr>\n",
              "    <tr>\n",
              "      <th>25%</th>\n",
              "      <td>2.0</td>\n",
              "      <td>36.0</td>\n",
              "      <td>28.0</td>\n",
              "      <td>35.0</td>\n",
              "      <td>80.0</td>\n",
              "      <td>0.0</td>\n",
              "      <td>0.0</td>\n",
              "      <td>700.0</td>\n",
              "      <td>1118.0</td>\n",
              "    </tr>\n",
              "    <tr>\n",
              "      <th>50%</th>\n",
              "      <td>5.0</td>\n",
              "      <td>48.0</td>\n",
              "      <td>36.0</td>\n",
              "      <td>51.0</td>\n",
              "      <td>119.0</td>\n",
              "      <td>3000.0</td>\n",
              "      <td>0.0</td>\n",
              "      <td>1000.0</td>\n",
              "      <td>1400.0</td>\n",
              "    </tr>\n",
              "    <tr>\n",
              "      <th>75%</th>\n",
              "      <td>12.0</td>\n",
              "      <td>60.0</td>\n",
              "      <td>45.0</td>\n",
              "      <td>72.0</td>\n",
              "      <td>164.0</td>\n",
              "      <td>6000.0</td>\n",
              "      <td>0.0</td>\n",
              "      <td>1300.0</td>\n",
              "      <td>1692.0</td>\n",
              "    </tr>\n",
              "    <tr>\n",
              "      <th>max</th>\n",
              "      <td>48.0</td>\n",
              "      <td>72.0</td>\n",
              "      <td>68.0</td>\n",
              "      <td>180.0</td>\n",
              "      <td>959.0</td>\n",
              "      <td>300000.0</td>\n",
              "      <td>30000.0</td>\n",
              "      <td>5000.0</td>\n",
              "      <td>11140.0</td>\n",
              "    </tr>\n",
              "  </tbody>\n",
              "</table>\n",
              "</div>"
            ],
            "text/plain": [
              "       seniority    time     age  expenses  ...    assets     debt  amount    price\n",
              "count     4455.0  4455.0  4455.0    4455.0  ...    4455.0   4455.0  4455.0   4455.0\n",
              "mean         8.0    46.0    37.0      56.0  ...    5346.0    342.0  1039.0   1463.0\n",
              "std          8.0    15.0    11.0      20.0  ...   11525.0   1244.0   475.0    628.0\n",
              "min          0.0     6.0    18.0      35.0  ...       0.0      0.0   100.0    105.0\n",
              "25%          2.0    36.0    28.0      35.0  ...       0.0      0.0   700.0   1118.0\n",
              "50%          5.0    48.0    36.0      51.0  ...    3000.0      0.0  1000.0   1400.0\n",
              "75%         12.0    60.0    45.0      72.0  ...    6000.0      0.0  1300.0   1692.0\n",
              "max         48.0    72.0    68.0     180.0  ...  300000.0  30000.0  5000.0  11140.0\n",
              "\n",
              "[8 rows x 9 columns]"
            ]
          },
          "metadata": {},
          "execution_count": 572
        }
      ]
    },
    {
      "cell_type": "markdown",
      "metadata": {
        "id": "zoWXkz6sxptF"
      },
      "source": [
        "- Now the maximum numbers for income, assets, and debt look more reliable."
      ]
    },
    {
      "cell_type": "markdown",
      "metadata": {
        "id": "lXyDJSu4unVU"
      },
      "source": [
        "###Exploring the categorical variables further\n",
        "- First, I will use value_counts to count the various levels of the categorial variables and then visualize ```status```, which is the target variable."
      ]
    },
    {
      "cell_type": "code",
      "metadata": {
        "colab": {
          "base_uri": "https://localhost:8080/"
        },
        "id": "sL1Jq9lEwloD",
        "outputId": "5da6ea79-672d-42bb-b2bd-c571405062aa"
      },
      "source": [
        "df[cat].value_counts()"
      ],
      "execution_count": 573,
      "outputs": [
        {
          "output_type": "execute_result",
          "data": {
            "text/plain": [
              "status  home     marital   records  job      \n",
              "ok      owner    married   no       fixed        899\n",
              "                                    freelance    362\n",
              "        rent     married   no       fixed        296\n",
              "        parents  single    no       fixed        219\n",
              "        owner    married   yes      fixed        115\n",
              "                                                ... \n",
              "                 single    yes      partime        1\n",
              "                 unk       yes      freelance      1\n",
              "                 widow     yes      freelance      1\n",
              "        parents  divorced  yes      fixed          1\n",
              "unk     private  single    no       fixed          1\n",
              "Length: 229, dtype: int64"
            ]
          },
          "metadata": {},
          "execution_count": 573
        }
      ]
    },
    {
      "cell_type": "code",
      "metadata": {
        "colab": {
          "base_uri": "https://localhost:8080/"
        },
        "id": "vsnaq1xlwlnC",
        "outputId": "67adc6de-a193-4b09-e583-1bb64ac7f86a"
      },
      "source": [
        "df[cat].nunique()"
      ],
      "execution_count": 574,
      "outputs": [
        {
          "output_type": "execute_result",
          "data": {
            "text/plain": [
              "status     3\n",
              "home       7\n",
              "marital    6\n",
              "records    2\n",
              "job        5\n",
              "dtype: int64"
            ]
          },
          "metadata": {},
          "execution_count": 574
        }
      ]
    },
    {
      "cell_type": "code",
      "metadata": {
        "colab": {
          "base_uri": "https://localhost:8080/"
        },
        "id": "UD1zIo27xW64",
        "outputId": "50b02ded-2930-489a-8ec1-1080ba4780a0"
      },
      "source": [
        "df.status.value_counts()"
      ],
      "execution_count": 575,
      "outputs": [
        {
          "output_type": "execute_result",
          "data": {
            "text/plain": [
              "ok         3200\n",
              "default    1254\n",
              "unk           1\n",
              "Name: status, dtype: int64"
            ]
          },
          "metadata": {},
          "execution_count": 575
        }
      ]
    },
    {
      "cell_type": "markdown",
      "metadata": {
        "id": "DqRxMwarxiAS"
      },
      "source": [
        "- From the value counts of status, we note one count denoted unk, ie. unknown, implying the loan repayment status of a debtor is not known. For this project, we will use data where status of debtors are known."
      ]
    },
    {
      "cell_type": "markdown",
      "metadata": {
        "id": "RLlEXbV5g89v"
      },
      "source": [
        "###Remove clients with unknown default status"
      ]
    },
    {
      "cell_type": "code",
      "metadata": {
        "id": "aDnRyuKRg89w"
      },
      "source": [
        "df = df[df.status != 'unk'].reset_index(drop=True) #keeps data where status is known and reset the index"
      ],
      "execution_count": 576,
      "outputs": []
    },
    {
      "cell_type": "code",
      "metadata": {
        "colab": {
          "base_uri": "https://localhost:8080/",
          "height": 296
        },
        "id": "yBKIld66yOk2",
        "outputId": "f04d1c29-bf8f-4fb4-f825-3cdaf54b84aa"
      },
      "source": [
        "status_type = ['ok', 'default']\n",
        "count = [3200, 1254]\n",
        "\n",
        "plt.bar(status_type, count)\n",
        "plt.xlabel('type of borrowers')\n",
        "plt.ylabel('count of borrowers')"
      ],
      "execution_count": 577,
      "outputs": [
        {
          "output_type": "execute_result",
          "data": {
            "text/plain": [
              "Text(0, 0.5, 'count of borrowers')"
            ]
          },
          "metadata": {},
          "execution_count": 577
        },
        {
          "output_type": "display_data",
          "data": {
            "image/png": "[encoded data removed]",
            "text/plain": [
              "<Figure size 432x288 with 1 Axes>"
            ]
          },
          "metadata": {
            "needs_background": "light"
          }
        }
      ]
    },
    {
      "cell_type": "markdown",
      "metadata": {
        "id": "Ih28LYp3g89w"
      },
      "source": [
        "###Create the target variable"
      ]
    },
    {
      "cell_type": "code",
      "metadata": {
        "id": "VIcvcTppg89x"
      },
      "source": [
        "df['default'] = (df.status == 'default').astype(int)    # creates a default column with the values of the status column as intergers (0 for ok and 1 for default)\n",
        "del df['status']"
      ],
      "execution_count": 578,
      "outputs": []
    },
    {
      "cell_type": "code",
      "metadata": {
        "colab": {
          "base_uri": "https://localhost:8080/",
          "height": 206
        },
        "id": "yrC_4w0yzE3B",
        "outputId": "ab0ffffe-fc17-43d4-cbd2-20f0e487d880"
      },
      "source": [
        "df.head()"
      ],
      "execution_count": 579,
      "outputs": [
        {
          "output_type": "execute_result",
          "data": {
            "text/html": [
              "<div>\n",
              "<style scoped>\n",
              "    .dataframe tbody tr th:only-of-type {\n",
              "        vertical-align: middle;\n",
              "    }\n",
              "\n",
              "    .dataframe tbody tr th {\n",
              "        vertical-align: top;\n",
              "    }\n",
              "\n",
              "    .dataframe thead th {\n",
              "        text-align: right;\n",
              "    }\n",
              "</style>\n",
              "<table border=\"1\" class=\"dataframe\">\n",
              "  <thead>\n",
              "    <tr style=\"text-align: right;\">\n",
              "      <th></th>\n",
              "      <th>seniority</th>\n",
              "      <th>home</th>\n",
              "      <th>time</th>\n",
              "      <th>age</th>\n",
              "      <th>marital</th>\n",
              "      <th>records</th>\n",
              "      <th>job</th>\n",
              "      <th>expenses</th>\n",
              "      <th>income</th>\n",
              "      <th>assets</th>\n",
              "      <th>debt</th>\n",
              "      <th>amount</th>\n",
              "      <th>price</th>\n",
              "      <th>default</th>\n",
              "    </tr>\n",
              "  </thead>\n",
              "  <tbody>\n",
              "    <tr>\n",
              "      <th>0</th>\n",
              "      <td>9</td>\n",
              "      <td>rent</td>\n",
              "      <td>60</td>\n",
              "      <td>30</td>\n",
              "      <td>married</td>\n",
              "      <td>no</td>\n",
              "      <td>freelance</td>\n",
              "      <td>73</td>\n",
              "      <td>129</td>\n",
              "      <td>0</td>\n",
              "      <td>0</td>\n",
              "      <td>800</td>\n",
              "      <td>846</td>\n",
              "      <td>0</td>\n",
              "    </tr>\n",
              "    <tr>\n",
              "      <th>1</th>\n",
              "      <td>17</td>\n",
              "      <td>rent</td>\n",
              "      <td>60</td>\n",
              "      <td>58</td>\n",
              "      <td>widow</td>\n",
              "      <td>no</td>\n",
              "      <td>fixed</td>\n",
              "      <td>48</td>\n",
              "      <td>131</td>\n",
              "      <td>0</td>\n",
              "      <td>0</td>\n",
              "      <td>1000</td>\n",
              "      <td>1658</td>\n",
              "      <td>0</td>\n",
              "    </tr>\n",
              "    <tr>\n",
              "      <th>2</th>\n",
              "      <td>10</td>\n",
              "      <td>owner</td>\n",
              "      <td>36</td>\n",
              "      <td>46</td>\n",
              "      <td>married</td>\n",
              "      <td>yes</td>\n",
              "      <td>freelance</td>\n",
              "      <td>90</td>\n",
              "      <td>200</td>\n",
              "      <td>3000</td>\n",
              "      <td>0</td>\n",
              "      <td>2000</td>\n",
              "      <td>2985</td>\n",
              "      <td>1</td>\n",
              "    </tr>\n",
              "    <tr>\n",
              "      <th>3</th>\n",
              "      <td>0</td>\n",
              "      <td>rent</td>\n",
              "      <td>60</td>\n",
              "      <td>24</td>\n",
              "      <td>single</td>\n",
              "      <td>no</td>\n",
              "      <td>fixed</td>\n",
              "      <td>63</td>\n",
              "      <td>182</td>\n",
              "      <td>2500</td>\n",
              "      <td>0</td>\n",
              "      <td>900</td>\n",
              "      <td>1325</td>\n",
              "      <td>0</td>\n",
              "    </tr>\n",
              "    <tr>\n",
              "      <th>4</th>\n",
              "      <td>0</td>\n",
              "      <td>rent</td>\n",
              "      <td>36</td>\n",
              "      <td>26</td>\n",
              "      <td>single</td>\n",
              "      <td>no</td>\n",
              "      <td>fixed</td>\n",
              "      <td>46</td>\n",
              "      <td>107</td>\n",
              "      <td>0</td>\n",
              "      <td>0</td>\n",
              "      <td>310</td>\n",
              "      <td>910</td>\n",
              "      <td>0</td>\n",
              "    </tr>\n",
              "  </tbody>\n",
              "</table>\n",
              "</div>"
            ],
            "text/plain": [
              "   seniority   home  time  age  marital  ... assets debt  amount  price  default\n",
              "0          9   rent    60   30  married  ...      0    0     800    846        0\n",
              "1         17   rent    60   58    widow  ...      0    0    1000   1658        0\n",
              "2         10  owner    36   46  married  ...   3000    0    2000   2985        1\n",
              "3          0   rent    60   24   single  ...   2500    0     900   1325        0\n",
              "4          0   rent    36   26   single  ...      0    0     310    910        0\n",
              "\n",
              "[5 rows x 14 columns]"
            ]
          },
          "metadata": {},
          "execution_count": 579
        }
      ]
    },
    {
      "cell_type": "markdown",
      "metadata": {
        "id": "Yl6x6DYyg89x"
      },
      "source": [
        "###Let's recollect our catergorical and numerical variables"
      ]
    },
    {
      "cell_type": "markdown",
      "metadata": {
        "id": "2hUvAZyLg89y"
      },
      "source": [
        "- What are the categorical variables? What are the numerical variables?"
      ]
    },
    {
      "cell_type": "code",
      "metadata": {
        "id": "fUwEsrkRg89y",
        "colab": {
          "base_uri": "https://localhost:8080/"
        },
        "outputId": "ade79d0f-5e42-4c70-fa47-ffc0c68ddeca"
      },
      "source": [
        "# categorical data\n",
        "print('Categorical variables:',  '\\n')\n",
        "print(cat)\n",
        "\n",
        "print('\\n')\n",
        "\n",
        "# numerical data\n",
        "print('Numerical variables:',  '\\n')\n",
        "print(num)"
      ],
      "execution_count": 580,
      "outputs": [
        {
          "output_type": "stream",
          "name": "stdout",
          "text": [
            "Categorical variables: \n",
            "\n",
            "Index(['status', 'home', 'marital', 'records', 'job'], dtype='object')\n",
            "\n",
            "\n",
            "Numerical variables: \n",
            "\n",
            "Index(['seniority', 'time', 'age', 'expenses', 'income', 'assets', 'debt',\n",
            "       'amount', 'price'],\n",
            "      dtype='object')\n"
          ]
        }
      ]
    },
    {
      "cell_type": "markdown",
      "metadata": {
        "id": "bVQAPkVr1aA9"
      },
      "source": [
        "###Setting up the Validation Framework\n",
        "* Creating training, validation and test data\n",
        "* Split the data into 3 parts: train/validation/test with 60%/20%/20% distribution. Use train_test_split funciton in sklearn with random_state=1\n",
        "\n",
        "\n",
        "\n",
        "* The split is done in two stages: first split is 80%:20% - the 20% being the test data - and the second is 75%:25% of the first stage 80% where the 25% is the validation data."
      ]
    },
    {
      "cell_type": "code",
      "metadata": {
        "id": "bzQjJ-Urg89z"
      },
      "source": [
        "from sklearn.model_selection import train_test_split "
      ],
      "execution_count": 581,
      "outputs": []
    },
    {
      "cell_type": "code",
      "metadata": {
        "colab": {
          "base_uri": "https://localhost:8080/"
        },
        "id": "QcpBzV772ccq",
        "outputId": "6f4da823-d2e5-4aaf-ea1c-9180c65f4d4d"
      },
      "source": [
        "#Splitting the data\n",
        "df_full_train, df_test = train_test_split(df, test_size=0.2, random_state=1) \n",
        "\n",
        "df_train, df_val = train_test_split(df_full_train, test_size=0.25, random_state=1) \n",
        "\n",
        "#Checking the length of the three sub data\n",
        "\n",
        "len(df_train), len(df_val), len(df_test) "
      ],
      "execution_count": 582,
      "outputs": [
        {
          "output_type": "execute_result",
          "data": {
            "text/plain": [
              "(2672, 891, 891)"
            ]
          },
          "metadata": {},
          "execution_count": 582
        }
      ]
    },
    {
      "cell_type": "code",
      "metadata": {
        "colab": {
          "base_uri": "https://localhost:8080/",
          "height": 423
        },
        "id": "Oohp10BYb8TE",
        "outputId": "0f514580-7236-4de6-adc2-4cfcb97539f1"
      },
      "source": [
        "df_train"
      ],
      "execution_count": 583,
      "outputs": [
        {
          "output_type": "execute_result",
          "data": {
            "text/html": [
              "<div>\n",
              "<style scoped>\n",
              "    .dataframe tbody tr th:only-of-type {\n",
              "        vertical-align: middle;\n",
              "    }\n",
              "\n",
              "    .dataframe tbody tr th {\n",
              "        vertical-align: top;\n",
              "    }\n",
              "\n",
              "    .dataframe thead th {\n",
              "        text-align: right;\n",
              "    }\n",
              "</style>\n",
              "<table border=\"1\" class=\"dataframe\">\n",
              "  <thead>\n",
              "    <tr style=\"text-align: right;\">\n",
              "      <th></th>\n",
              "      <th>seniority</th>\n",
              "      <th>home</th>\n",
              "      <th>time</th>\n",
              "      <th>age</th>\n",
              "      <th>marital</th>\n",
              "      <th>records</th>\n",
              "      <th>job</th>\n",
              "      <th>expenses</th>\n",
              "      <th>income</th>\n",
              "      <th>assets</th>\n",
              "      <th>debt</th>\n",
              "      <th>amount</th>\n",
              "      <th>price</th>\n",
              "      <th>default</th>\n",
              "    </tr>\n",
              "  </thead>\n",
              "  <tbody>\n",
              "    <tr>\n",
              "      <th>1877</th>\n",
              "      <td>12</td>\n",
              "      <td>private</td>\n",
              "      <td>24</td>\n",
              "      <td>28</td>\n",
              "      <td>married</td>\n",
              "      <td>no</td>\n",
              "      <td>fixed</td>\n",
              "      <td>45</td>\n",
              "      <td>102</td>\n",
              "      <td>0</td>\n",
              "      <td>0</td>\n",
              "      <td>700</td>\n",
              "      <td>1229</td>\n",
              "      <td>1</td>\n",
              "    </tr>\n",
              "    <tr>\n",
              "      <th>1803</th>\n",
              "      <td>4</td>\n",
              "      <td>other</td>\n",
              "      <td>60</td>\n",
              "      <td>28</td>\n",
              "      <td>married</td>\n",
              "      <td>no</td>\n",
              "      <td>fixed</td>\n",
              "      <td>60</td>\n",
              "      <td>143</td>\n",
              "      <td>0</td>\n",
              "      <td>0</td>\n",
              "      <td>1150</td>\n",
              "      <td>1630</td>\n",
              "      <td>0</td>\n",
              "    </tr>\n",
              "    <tr>\n",
              "      <th>3400</th>\n",
              "      <td>0</td>\n",
              "      <td>owner</td>\n",
              "      <td>60</td>\n",
              "      <td>27</td>\n",
              "      <td>married</td>\n",
              "      <td>no</td>\n",
              "      <td>fixed</td>\n",
              "      <td>35</td>\n",
              "      <td>295</td>\n",
              "      <td>6000</td>\n",
              "      <td>0</td>\n",
              "      <td>1950</td>\n",
              "      <td>2208</td>\n",
              "      <td>0</td>\n",
              "    </tr>\n",
              "    <tr>\n",
              "      <th>3529</th>\n",
              "      <td>6</td>\n",
              "      <td>owner</td>\n",
              "      <td>48</td>\n",
              "      <td>28</td>\n",
              "      <td>married</td>\n",
              "      <td>no</td>\n",
              "      <td>fixed</td>\n",
              "      <td>45</td>\n",
              "      <td>114</td>\n",
              "      <td>3500</td>\n",
              "      <td>0</td>\n",
              "      <td>650</td>\n",
              "      <td>1255</td>\n",
              "      <td>0</td>\n",
              "    </tr>\n",
              "    <tr>\n",
              "      <th>1721</th>\n",
              "      <td>12</td>\n",
              "      <td>owner</td>\n",
              "      <td>36</td>\n",
              "      <td>42</td>\n",
              "      <td>married</td>\n",
              "      <td>no</td>\n",
              "      <td>freelance</td>\n",
              "      <td>60</td>\n",
              "      <td>0</td>\n",
              "      <td>15000</td>\n",
              "      <td>0</td>\n",
              "      <td>1000</td>\n",
              "      <td>1500</td>\n",
              "      <td>0</td>\n",
              "    </tr>\n",
              "    <tr>\n",
              "      <th>...</th>\n",
              "      <td>...</td>\n",
              "      <td>...</td>\n",
              "      <td>...</td>\n",
              "      <td>...</td>\n",
              "      <td>...</td>\n",
              "      <td>...</td>\n",
              "      <td>...</td>\n",
              "      <td>...</td>\n",
              "      <td>...</td>\n",
              "      <td>...</td>\n",
              "      <td>...</td>\n",
              "      <td>...</td>\n",
              "      <td>...</td>\n",
              "      <td>...</td>\n",
              "    </tr>\n",
              "    <tr>\n",
              "      <th>2436</th>\n",
              "      <td>0</td>\n",
              "      <td>rent</td>\n",
              "      <td>48</td>\n",
              "      <td>54</td>\n",
              "      <td>married</td>\n",
              "      <td>no</td>\n",
              "      <td>freelance</td>\n",
              "      <td>135</td>\n",
              "      <td>0</td>\n",
              "      <td>0</td>\n",
              "      <td>0</td>\n",
              "      <td>2000</td>\n",
              "      <td>2476</td>\n",
              "      <td>1</td>\n",
              "    </tr>\n",
              "    <tr>\n",
              "      <th>1956</th>\n",
              "      <td>6</td>\n",
              "      <td>rent</td>\n",
              "      <td>12</td>\n",
              "      <td>33</td>\n",
              "      <td>married</td>\n",
              "      <td>no</td>\n",
              "      <td>fixed</td>\n",
              "      <td>85</td>\n",
              "      <td>250</td>\n",
              "      <td>0</td>\n",
              "      <td>0</td>\n",
              "      <td>500</td>\n",
              "      <td>1500</td>\n",
              "      <td>0</td>\n",
              "    </tr>\n",
              "    <tr>\n",
              "      <th>91</th>\n",
              "      <td>9</td>\n",
              "      <td>parents</td>\n",
              "      <td>60</td>\n",
              "      <td>32</td>\n",
              "      <td>single</td>\n",
              "      <td>yes</td>\n",
              "      <td>fixed</td>\n",
              "      <td>35</td>\n",
              "      <td>105</td>\n",
              "      <td>0</td>\n",
              "      <td>0</td>\n",
              "      <td>1490</td>\n",
              "      <td>1490</td>\n",
              "      <td>1</td>\n",
              "    </tr>\n",
              "    <tr>\n",
              "      <th>3602</th>\n",
              "      <td>0</td>\n",
              "      <td>parents</td>\n",
              "      <td>60</td>\n",
              "      <td>21</td>\n",
              "      <td>single</td>\n",
              "      <td>no</td>\n",
              "      <td>others</td>\n",
              "      <td>35</td>\n",
              "      <td>149</td>\n",
              "      <td>3000</td>\n",
              "      <td>0</td>\n",
              "      <td>1400</td>\n",
              "      <td>1829</td>\n",
              "      <td>0</td>\n",
              "    </tr>\n",
              "    <tr>\n",
              "      <th>1708</th>\n",
              "      <td>8</td>\n",
              "      <td>rent</td>\n",
              "      <td>60</td>\n",
              "      <td>26</td>\n",
              "      <td>married</td>\n",
              "      <td>no</td>\n",
              "      <td>fixed</td>\n",
              "      <td>59</td>\n",
              "      <td>140</td>\n",
              "      <td>0</td>\n",
              "      <td>0</td>\n",
              "      <td>1400</td>\n",
              "      <td>1538</td>\n",
              "      <td>0</td>\n",
              "    </tr>\n",
              "  </tbody>\n",
              "</table>\n",
              "<p>2672 rows × 14 columns</p>\n",
              "</div>"
            ],
            "text/plain": [
              "      seniority     home  time  age  ... debt amount price  default\n",
              "1877         12  private    24   28  ...    0    700  1229        1\n",
              "1803          4    other    60   28  ...    0   1150  1630        0\n",
              "3400          0    owner    60   27  ...    0   1950  2208        0\n",
              "3529          6    owner    48   28  ...    0    650  1255        0\n",
              "1721         12    owner    36   42  ...    0   1000  1500        0\n",
              "...         ...      ...   ...  ...  ...  ...    ...   ...      ...\n",
              "2436          0     rent    48   54  ...    0   2000  2476        1\n",
              "1956          6     rent    12   33  ...    0    500  1500        0\n",
              "91            9  parents    60   32  ...    0   1490  1490        1\n",
              "3602          0  parents    60   21  ...    0   1400  1829        0\n",
              "1708          8     rent    60   26  ...    0   1400  1538        0\n",
              "\n",
              "[2672 rows x 14 columns]"
            ]
          },
          "metadata": {},
          "execution_count": 583
        }
      ]
    },
    {
      "cell_type": "markdown",
      "metadata": {
        "id": "GtIPfQ5Bg89z"
      },
      "source": [
        "## Question 1\n",
        "\n",
        "ROC AUC could also be used to evaluate feature importance of numerical variables. \n",
        "\n",
        "Let's do that\n",
        "\n",
        "* For each numerical variable, use it as score and compute AUC with the \"default\" variable\n",
        "* Use the training dataset for that\n",
        "\n",
        "\n",
        "\n",
        "\n",
        "> - If your AUC is < 0.5, invert this variable by putting \"-\" in front  (e.g. `-df_train['expenses']`)\n",
        "\n",
        "AUC can go below 0.5 if the variable is negatively correlated with the target varialble. You can change the direction of the correlation by negating this variable - then negative correlation becomes positive."
      ]
    },
    {
      "cell_type": "code",
      "metadata": {
        "id": "lPP9yPm56Fs2"
      },
      "source": [
        "from sklearn.metrics import accuracy_score, auc, roc_auc_score, roc_curve"
      ],
      "execution_count": 584,
      "outputs": []
    },
    {
      "cell_type": "code",
      "metadata": {
        "colab": {
          "base_uri": "https://localhost:8080/"
        },
        "id": "jn-td3-26eLE",
        "outputId": "cec73363-1ffd-438b-e0bb-aab55c87461a"
      },
      "source": [
        "for var in num:\n",
        "  auc_score = roc_auc_score(df_train['default'], df_train[var])\n",
        "  if auc_score < 0.5:\n",
        "    auc_score = roc_auc_score(df_train['default'], -df_train[var])\n",
        "  print(var, auc_score.round(2))"
      ],
      "execution_count": 585,
      "outputs": [
        {
          "output_type": "stream",
          "name": "stdout",
          "text": [
            "seniority 0.71\n",
            "time 0.56\n",
            "age 0.57\n",
            "expenses 0.5\n",
            "income 0.68\n",
            "assets 0.65\n",
            "debt 0.5\n",
            "amount 0.59\n",
            "price 0.5\n"
          ]
        }
      ]
    },
    {
      "cell_type": "markdown",
      "metadata": {
        "id": "oEjY_OXog890"
      },
      "source": [
        "Which numerical variable (among the following 4) has the highest AUC?\n",
        "\n",
        "- seniority\n",
        "- time\n",
        "- income\n",
        "- debt"
      ]
    },
    {
      "cell_type": "markdown",
      "metadata": {
        "id": "tlgkYqM7CdoO"
      },
      "source": [
        "**Answer 1:\n",
        "```Seniority``` has the highest AUC.**"
      ]
    },
    {
      "cell_type": "markdown",
      "metadata": {
        "id": "YV_J1_Xyg891"
      },
      "source": [
        "## Training the model\n",
        "\n",
        "From now on, let's use these columns only:\n",
        "- \n",
        "```\n",
        "['seniority', 'income', 'assets', 'records', 'job', 'home']\n",
        "```\n",
        "\n",
        "- Apply one-hot-encoding using `DictVectorizer` and train the logistic regression with these parameters:\n",
        "- \n",
        "```\n",
        "LogisticRegression(solver='liblinear', C=1.0, max_iter=1000)\n",
        "```"
      ]
    },
    {
      "cell_type": "code",
      "metadata": {
        "id": "7CeKnRjZGgcT"
      },
      "source": [
        "from sklearn.linear_model import LogisticRegression\n",
        "\n",
        "from sklearn.feature_extraction import DictVectorizer"
      ],
      "execution_count": 586,
      "outputs": []
    },
    {
      "cell_type": "code",
      "metadata": {
        "id": "XQf0LxPSKBKy"
      },
      "source": [
        "use_cols = ['seniority', 'income', 'assets', 'records', 'job', 'home']"
      ],
      "execution_count": 587,
      "outputs": []
    },
    {
      "cell_type": "markdown",
      "metadata": {
        "id": "u_p4ACXgzb9n"
      },
      "source": [
        "###Prepare data with the selected columns"
      ]
    },
    {
      "cell_type": "code",
      "metadata": {
        "id": "nbnNTm__g891"
      },
      "source": [
        "\n",
        "#Splitting the data\n",
        "df_full_train, df_test = train_test_split(df, test_size=0.2, random_state=1) \n",
        "\n",
        "df_train, df_val = train_test_split(df_full_train, test_size=0.25, random_state=1)\n",
        "\n",
        "df_train = df_train.reset_index(drop=True)\n",
        "df_val = df_val.reset_index(drop=True)\n",
        "df_test = df_test.reset_index(drop=True)\n",
        "\n",
        "y_train = df_train.default.values\n",
        "y_val = df_val.default.values\n",
        "y_test = df_test.default.values\n",
        "\n",
        "del df_train['default']\n",
        "del df_val['default']\n",
        "del df_test['default']\n",
        "\n",
        "df_train = df_train[use_cols]\n",
        "df_val = df_val[use_cols]\n",
        "df_test = df_test[use_cols]\n",
        "\n",
        "\n",
        "\n",
        "\n",
        " \n",
        "\n",
        "\n",
        "  "
      ],
      "execution_count": 588,
      "outputs": []
    },
    {
      "cell_type": "code",
      "metadata": {
        "colab": {
          "base_uri": "https://localhost:8080/"
        },
        "id": "KMdvES_ac5yX",
        "outputId": "a0a3b1ed-a6a5-4f9a-e88f-de4677315d30"
      },
      "source": [
        "len(df_train)"
      ],
      "execution_count": 589,
      "outputs": [
        {
          "output_type": "execute_result",
          "data": {
            "text/plain": [
              "2672"
            ]
          },
          "metadata": {},
          "execution_count": 589
        }
      ]
    },
    {
      "cell_type": "code",
      "metadata": {
        "colab": {
          "base_uri": "https://localhost:8080/",
          "height": 423
        },
        "id": "XMF8miDOdAsG",
        "outputId": "1899313e-9ee7-4c96-d352-bc513eed5a55"
      },
      "source": [
        "df_train"
      ],
      "execution_count": 590,
      "outputs": [
        {
          "output_type": "execute_result",
          "data": {
            "text/html": [
              "<div>\n",
              "<style scoped>\n",
              "    .dataframe tbody tr th:only-of-type {\n",
              "        vertical-align: middle;\n",
              "    }\n",
              "\n",
              "    .dataframe tbody tr th {\n",
              "        vertical-align: top;\n",
              "    }\n",
              "\n",
              "    .dataframe thead th {\n",
              "        text-align: right;\n",
              "    }\n",
              "</style>\n",
              "<table border=\"1\" class=\"dataframe\">\n",
              "  <thead>\n",
              "    <tr style=\"text-align: right;\">\n",
              "      <th></th>\n",
              "      <th>seniority</th>\n",
              "      <th>income</th>\n",
              "      <th>assets</th>\n",
              "      <th>records</th>\n",
              "      <th>job</th>\n",
              "      <th>home</th>\n",
              "    </tr>\n",
              "  </thead>\n",
              "  <tbody>\n",
              "    <tr>\n",
              "      <th>0</th>\n",
              "      <td>12</td>\n",
              "      <td>102</td>\n",
              "      <td>0</td>\n",
              "      <td>no</td>\n",
              "      <td>fixed</td>\n",
              "      <td>private</td>\n",
              "    </tr>\n",
              "    <tr>\n",
              "      <th>1</th>\n",
              "      <td>4</td>\n",
              "      <td>143</td>\n",
              "      <td>0</td>\n",
              "      <td>no</td>\n",
              "      <td>fixed</td>\n",
              "      <td>other</td>\n",
              "    </tr>\n",
              "    <tr>\n",
              "      <th>2</th>\n",
              "      <td>0</td>\n",
              "      <td>295</td>\n",
              "      <td>6000</td>\n",
              "      <td>no</td>\n",
              "      <td>fixed</td>\n",
              "      <td>owner</td>\n",
              "    </tr>\n",
              "    <tr>\n",
              "      <th>3</th>\n",
              "      <td>6</td>\n",
              "      <td>114</td>\n",
              "      <td>3500</td>\n",
              "      <td>no</td>\n",
              "      <td>fixed</td>\n",
              "      <td>owner</td>\n",
              "    </tr>\n",
              "    <tr>\n",
              "      <th>4</th>\n",
              "      <td>12</td>\n",
              "      <td>0</td>\n",
              "      <td>15000</td>\n",
              "      <td>no</td>\n",
              "      <td>freelance</td>\n",
              "      <td>owner</td>\n",
              "    </tr>\n",
              "    <tr>\n",
              "      <th>...</th>\n",
              "      <td>...</td>\n",
              "      <td>...</td>\n",
              "      <td>...</td>\n",
              "      <td>...</td>\n",
              "      <td>...</td>\n",
              "      <td>...</td>\n",
              "    </tr>\n",
              "    <tr>\n",
              "      <th>2667</th>\n",
              "      <td>0</td>\n",
              "      <td>0</td>\n",
              "      <td>0</td>\n",
              "      <td>no</td>\n",
              "      <td>freelance</td>\n",
              "      <td>rent</td>\n",
              "    </tr>\n",
              "    <tr>\n",
              "      <th>2668</th>\n",
              "      <td>6</td>\n",
              "      <td>250</td>\n",
              "      <td>0</td>\n",
              "      <td>no</td>\n",
              "      <td>fixed</td>\n",
              "      <td>rent</td>\n",
              "    </tr>\n",
              "    <tr>\n",
              "      <th>2669</th>\n",
              "      <td>9</td>\n",
              "      <td>105</td>\n",
              "      <td>0</td>\n",
              "      <td>yes</td>\n",
              "      <td>fixed</td>\n",
              "      <td>parents</td>\n",
              "    </tr>\n",
              "    <tr>\n",
              "      <th>2670</th>\n",
              "      <td>0</td>\n",
              "      <td>149</td>\n",
              "      <td>3000</td>\n",
              "      <td>no</td>\n",
              "      <td>others</td>\n",
              "      <td>parents</td>\n",
              "    </tr>\n",
              "    <tr>\n",
              "      <th>2671</th>\n",
              "      <td>8</td>\n",
              "      <td>140</td>\n",
              "      <td>0</td>\n",
              "      <td>no</td>\n",
              "      <td>fixed</td>\n",
              "      <td>rent</td>\n",
              "    </tr>\n",
              "  </tbody>\n",
              "</table>\n",
              "<p>2672 rows × 6 columns</p>\n",
              "</div>"
            ],
            "text/plain": [
              "      seniority  income  assets records        job     home\n",
              "0            12     102       0      no      fixed  private\n",
              "1             4     143       0      no      fixed    other\n",
              "2             0     295    6000      no      fixed    owner\n",
              "3             6     114    3500      no      fixed    owner\n",
              "4            12       0   15000      no  freelance    owner\n",
              "...         ...     ...     ...     ...        ...      ...\n",
              "2667          0       0       0      no  freelance     rent\n",
              "2668          6     250       0      no      fixed     rent\n",
              "2669          9     105       0     yes      fixed  parents\n",
              "2670          0     149    3000      no     others  parents\n",
              "2671          8     140       0      no      fixed     rent\n",
              "\n",
              "[2672 rows x 6 columns]"
            ]
          },
          "metadata": {},
          "execution_count": 590
        }
      ]
    },
    {
      "cell_type": "markdown",
      "metadata": {
        "id": "CCtiZ8EbsVh7"
      },
      "source": [
        "###Applying One-Hot encoding and training our model"
      ]
    },
    {
      "cell_type": "code",
      "metadata": {
        "colab": {
          "base_uri": "https://localhost:8080/"
        },
        "id": "L-zLcXqrpnsT",
        "outputId": "25302356-ce0b-4f85-bd45-5e7d4dc6f104"
      },
      "source": [
        "#Apply one-hot-encoding using DictVectorizer\n",
        "\n",
        "dicts_train = df_train.to_dict(orient='records')\n",
        "\n",
        "dv = DictVectorizer(sparse=False)\n",
        "X_train = dv.fit_transform(dicts_train)\n",
        "  \n",
        "#Train model\n",
        "\n",
        "model = LogisticRegression(solver='liblinear', C=1.0, max_iter=1000)\n",
        "model.fit(X_train, y_train)"
      ],
      "execution_count": 591,
      "outputs": [
        {
          "output_type": "execute_result",
          "data": {
            "text/plain": [
              "LogisticRegression(C=1.0, class_weight=None, dual=False, fit_intercept=True,\n",
              "                   intercept_scaling=1, l1_ratio=None, max_iter=1000,\n",
              "                   multi_class='auto', n_jobs=None, penalty='l2',\n",
              "                   random_state=None, solver='liblinear', tol=0.0001, verbose=0,\n",
              "                   warm_start=False)"
            ]
          },
          "metadata": {},
          "execution_count": 591
        }
      ]
    },
    {
      "cell_type": "markdown",
      "metadata": {
        "id": "uMbCINLLX4pO"
      },
      "source": [
        "###Prepare data for validation and test"
      ]
    },
    {
      "cell_type": "code",
      "metadata": {
        "id": "jNdtf1omX-9T"
      },
      "source": [
        "#Apply one-hot-encoding using DictVectorizer\n",
        "\n",
        "dv = DictVectorizer(sparse=False)\n",
        "\n",
        "dicts_val = df_val.to_dict(orient='records')\n",
        "\n",
        "\n",
        "X_val = dv.fit_transform(dicts_val)\n",
        "\n",
        "dicts_test = df_test.to_dict(orient='records')\n",
        "\n",
        "dv = DictVectorizer(sparse=False)\n",
        "X_test = dv.fit_transform(dicts_test)\n",
        "\n"
      ],
      "execution_count": 592,
      "outputs": []
    },
    {
      "cell_type": "markdown",
      "metadata": {
        "id": "hqQyjJDKszn1"
      },
      "source": [
        "###Predict the propbabilities of default"
      ]
    },
    {
      "cell_type": "code",
      "metadata": {
        "id": "aRTS4vvgrFgU"
      },
      "source": [
        "y_pred = model.predict_proba(X_val)[:, 1]"
      ],
      "execution_count": 593,
      "outputs": []
    },
    {
      "cell_type": "code",
      "metadata": {
        "colab": {
          "base_uri": "https://localhost:8080/"
        },
        "id": "DhThSdmBrPMA",
        "outputId": "bd124004-e1de-40cb-92ce-dfecee5e1ebd"
      },
      "source": [
        "y_pred[:5]"
      ],
      "execution_count": 594,
      "outputs": [
        {
          "output_type": "execute_result",
          "data": {
            "text/plain": [
              "array([0.19686431, 0.11756687, 0.26981906, 0.12327234, 0.04141657])"
            ]
          },
          "metadata": {},
          "execution_count": 594
        }
      ]
    },
    {
      "cell_type": "markdown",
      "metadata": {
        "id": "w6VkpRz3tUPl"
      },
      "source": [
        "####Accuracy"
      ]
    },
    {
      "cell_type": "code",
      "metadata": {
        "colab": {
          "base_uri": "https://localhost:8080/"
        },
        "id": "c1NiLGJ6tUut",
        "outputId": "8f4788f9-b828-4c31-e83e-b28b074c724c"
      },
      "source": [
        "default_decision = (y_pred >= 0.5)\n",
        "(y_val == default_decision).mean().round(2)"
      ],
      "execution_count": 595,
      "outputs": [
        {
          "output_type": "execute_result",
          "data": {
            "text/plain": [
              "0.78"
            ]
          },
          "metadata": {},
          "execution_count": 595
        }
      ]
    },
    {
      "cell_type": "code",
      "metadata": {
        "colab": {
          "base_uri": "https://localhost:8080/"
        },
        "id": "MHVR6rzxuGzV",
        "outputId": "28773557-fa18-4f89-b23e-c06891ce5a93"
      },
      "source": [
        "accuracy_score(y_val, y_pred >= 0.5).round(2)"
      ],
      "execution_count": 596,
      "outputs": [
        {
          "output_type": "execute_result",
          "data": {
            "text/plain": [
              "0.78"
            ]
          },
          "metadata": {},
          "execution_count": 596
        }
      ]
    },
    {
      "cell_type": "markdown",
      "metadata": {
        "id": "XES0_upog892"
      },
      "source": [
        "## Question 2\n",
        "\n",
        "What's the AUC of this model on the validation dataset? (round to 3 digits)\n",
        "\n",
        "- 0.512\n",
        "- 0.612\n",
        "- 0.712\n",
        "- 0.812"
      ]
    },
    {
      "cell_type": "markdown",
      "metadata": {
        "id": "xfr_TiGRuSmf"
      },
      "source": [
        "####AUC of the model on Validation set"
      ]
    },
    {
      "cell_type": "code",
      "metadata": {
        "colab": {
          "base_uri": "https://localhost:8080/"
        },
        "id": "ZVZRDhszudwf",
        "outputId": "a7ba7be0-ddf8-4155-ed0c-138457b983c8"
      },
      "source": [
        "roc_auc_score(y_val, y_pred).round(3)"
      ],
      "execution_count": 597,
      "outputs": [
        {
          "output_type": "execute_result",
          "data": {
            "text/plain": [
              "0.812"
            ]
          },
          "metadata": {},
          "execution_count": 597
        }
      ]
    },
    {
      "cell_type": "markdown",
      "metadata": {
        "id": "6bXvwY9V9t7-"
      },
      "source": [
        "**Answer 2: The AUC of the model on Validation set is 0.812**"
      ]
    },
    {
      "cell_type": "markdown",
      "metadata": {
        "id": "-91xyPlXg892"
      },
      "source": [
        "## Question 3\n",
        "\n",
        "Now let's compute precision and recall for our model.\n",
        "\n",
        "* Evaluate the model on all thresholds from 0.0 to 1.0 with step 0.01\n",
        "* For each threshold, compute precision and recall\n",
        "* Plot them\n",
        "\n",
        "**Note**:\n",
        "* *Precision (p) = tp / (tp + fp)*\n",
        "> This is the proportion of predicted positive (defaults) who are actual positives (defaults). This is the **predictive value of positive** prediction and is also known as post test probability given a predicted positive (i.e., default)\n",
        "\n",
        "\n",
        "\n",
        "* *Recall = tP / (tp + fn)*\n",
        "> This is the proportion of actual positives (defaults) in our data who our model predicted correctly as positives (defaults). Is also called **sensitivity**, **probability of detection** and the **power** of the model."
      ]
    },
    {
      "cell_type": "code",
      "metadata": {
        "id": "R6hAevd62_84"
      },
      "source": [
        "scores = []\n",
        "\n",
        "thresholds = np.linspace(0, 1, 101)\n",
        "\n",
        "for t in thresholds:\n",
        "    actual_positive = (y_val == 1)\n",
        "    actual_negative = (y_val == 0)\n",
        "    \n",
        "    predict_positive = (y_pred >= t)\n",
        "    predict_negative = (y_pred < t)\n",
        "\n",
        "    tp = (predict_positive & actual_positive).sum()\n",
        "    tn = (predict_negative & actual_negative).sum()\n",
        "\n",
        "    fp = (predict_positive & actual_negative).sum()\n",
        "    fn = (predict_negative & actual_positive).sum()\n",
        "    \n",
        "    scores.append((t, tp, fp, fn, tn))"
      ],
      "execution_count": 598,
      "outputs": []
    },
    {
      "cell_type": "markdown",
      "metadata": {
        "id": "MndCkbs96BN5"
      },
      "source": [
        "- Let's convert the list of tupels to dataframe for ease of manipulation."
      ]
    },
    {
      "cell_type": "code",
      "metadata": {
        "id": "wus0CiZ26Cgj"
      },
      "source": [
        "columns = ['threshold', 'tp', 'fp', 'fn', 'tn']\n",
        "df_scores = pd.DataFrame(scores, columns=columns)\n",
        "\n",
        "# compute the TPR, FPR, Precision and Recall scores and add them as columns\n",
        "df_scores['tpr'] = df_scores.tp / (df_scores.tp + df_scores.fn)\n",
        "df_scores['fpr'] = df_scores.fp / (df_scores.fp + df_scores.tn)\n",
        "df_scores['precision'] = df_scores.tp / (df_scores.tp + df_scores.fp)\n",
        "df_scores['recall'] = df_scores.tp / (df_scores.tp + df_scores.fn)"
      ],
      "execution_count": 599,
      "outputs": []
    },
    {
      "cell_type": "code",
      "metadata": {
        "id": "nQgnwOiVg893",
        "colab": {
          "base_uri": "https://localhost:8080/",
          "height": 423
        },
        "outputId": "0d2cc33d-a4ce-4df0-a49d-dd776c312623"
      },
      "source": [
        "df_scores[::1]  #display rows in multiples of ten"
      ],
      "execution_count": 600,
      "outputs": [
        {
          "output_type": "execute_result",
          "data": {
            "text/html": [
              "<div>\n",
              "<style scoped>\n",
              "    .dataframe tbody tr th:only-of-type {\n",
              "        vertical-align: middle;\n",
              "    }\n",
              "\n",
              "    .dataframe tbody tr th {\n",
              "        vertical-align: top;\n",
              "    }\n",
              "\n",
              "    .dataframe thead th {\n",
              "        text-align: right;\n",
              "    }\n",
              "</style>\n",
              "<table border=\"1\" class=\"dataframe\">\n",
              "  <thead>\n",
              "    <tr style=\"text-align: right;\">\n",
              "      <th></th>\n",
              "      <th>threshold</th>\n",
              "      <th>tp</th>\n",
              "      <th>fp</th>\n",
              "      <th>fn</th>\n",
              "      <th>tn</th>\n",
              "      <th>tpr</th>\n",
              "      <th>fpr</th>\n",
              "      <th>precision</th>\n",
              "      <th>recall</th>\n",
              "    </tr>\n",
              "  </thead>\n",
              "  <tbody>\n",
              "    <tr>\n",
              "      <th>0</th>\n",
              "      <td>0.00</td>\n",
              "      <td>246</td>\n",
              "      <td>645</td>\n",
              "      <td>0</td>\n",
              "      <td>0</td>\n",
              "      <td>1.00000</td>\n",
              "      <td>1.000000</td>\n",
              "      <td>0.276094</td>\n",
              "      <td>1.00000</td>\n",
              "    </tr>\n",
              "    <tr>\n",
              "      <th>1</th>\n",
              "      <td>0.01</td>\n",
              "      <td>246</td>\n",
              "      <td>635</td>\n",
              "      <td>0</td>\n",
              "      <td>10</td>\n",
              "      <td>1.00000</td>\n",
              "      <td>0.984496</td>\n",
              "      <td>0.279228</td>\n",
              "      <td>1.00000</td>\n",
              "    </tr>\n",
              "    <tr>\n",
              "      <th>2</th>\n",
              "      <td>0.02</td>\n",
              "      <td>244</td>\n",
              "      <td>613</td>\n",
              "      <td>2</td>\n",
              "      <td>32</td>\n",
              "      <td>0.99187</td>\n",
              "      <td>0.950388</td>\n",
              "      <td>0.284714</td>\n",
              "      <td>0.99187</td>\n",
              "    </tr>\n",
              "    <tr>\n",
              "      <th>3</th>\n",
              "      <td>0.03</td>\n",
              "      <td>242</td>\n",
              "      <td>593</td>\n",
              "      <td>4</td>\n",
              "      <td>52</td>\n",
              "      <td>0.98374</td>\n",
              "      <td>0.919380</td>\n",
              "      <td>0.289820</td>\n",
              "      <td>0.98374</td>\n",
              "    </tr>\n",
              "    <tr>\n",
              "      <th>4</th>\n",
              "      <td>0.04</td>\n",
              "      <td>242</td>\n",
              "      <td>563</td>\n",
              "      <td>4</td>\n",
              "      <td>82</td>\n",
              "      <td>0.98374</td>\n",
              "      <td>0.872868</td>\n",
              "      <td>0.300621</td>\n",
              "      <td>0.98374</td>\n",
              "    </tr>\n",
              "    <tr>\n",
              "      <th>...</th>\n",
              "      <td>...</td>\n",
              "      <td>...</td>\n",
              "      <td>...</td>\n",
              "      <td>...</td>\n",
              "      <td>...</td>\n",
              "      <td>...</td>\n",
              "      <td>...</td>\n",
              "      <td>...</td>\n",
              "      <td>...</td>\n",
              "    </tr>\n",
              "    <tr>\n",
              "      <th>96</th>\n",
              "      <td>0.96</td>\n",
              "      <td>0</td>\n",
              "      <td>0</td>\n",
              "      <td>246</td>\n",
              "      <td>645</td>\n",
              "      <td>0.00000</td>\n",
              "      <td>0.000000</td>\n",
              "      <td>NaN</td>\n",
              "      <td>0.00000</td>\n",
              "    </tr>\n",
              "    <tr>\n",
              "      <th>97</th>\n",
              "      <td>0.97</td>\n",
              "      <td>0</td>\n",
              "      <td>0</td>\n",
              "      <td>246</td>\n",
              "      <td>645</td>\n",
              "      <td>0.00000</td>\n",
              "      <td>0.000000</td>\n",
              "      <td>NaN</td>\n",
              "      <td>0.00000</td>\n",
              "    </tr>\n",
              "    <tr>\n",
              "      <th>98</th>\n",
              "      <td>0.98</td>\n",
              "      <td>0</td>\n",
              "      <td>0</td>\n",
              "      <td>246</td>\n",
              "      <td>645</td>\n",
              "      <td>0.00000</td>\n",
              "      <td>0.000000</td>\n",
              "      <td>NaN</td>\n",
              "      <td>0.00000</td>\n",
              "    </tr>\n",
              "    <tr>\n",
              "      <th>99</th>\n",
              "      <td>0.99</td>\n",
              "      <td>0</td>\n",
              "      <td>0</td>\n",
              "      <td>246</td>\n",
              "      <td>645</td>\n",
              "      <td>0.00000</td>\n",
              "      <td>0.000000</td>\n",
              "      <td>NaN</td>\n",
              "      <td>0.00000</td>\n",
              "    </tr>\n",
              "    <tr>\n",
              "      <th>100</th>\n",
              "      <td>1.00</td>\n",
              "      <td>0</td>\n",
              "      <td>0</td>\n",
              "      <td>246</td>\n",
              "      <td>645</td>\n",
              "      <td>0.00000</td>\n",
              "      <td>0.000000</td>\n",
              "      <td>NaN</td>\n",
              "      <td>0.00000</td>\n",
              "    </tr>\n",
              "  </tbody>\n",
              "</table>\n",
              "<p>101 rows × 9 columns</p>\n",
              "</div>"
            ],
            "text/plain": [
              "     threshold   tp   fp   fn   tn      tpr       fpr  precision   recall\n",
              "0         0.00  246  645    0    0  1.00000  1.000000   0.276094  1.00000\n",
              "1         0.01  246  635    0   10  1.00000  0.984496   0.279228  1.00000\n",
              "2         0.02  244  613    2   32  0.99187  0.950388   0.284714  0.99187\n",
              "3         0.03  242  593    4   52  0.98374  0.919380   0.289820  0.98374\n",
              "4         0.04  242  563    4   82  0.98374  0.872868   0.300621  0.98374\n",
              "..         ...  ...  ...  ...  ...      ...       ...        ...      ...\n",
              "96        0.96    0    0  246  645  0.00000  0.000000        NaN  0.00000\n",
              "97        0.97    0    0  246  645  0.00000  0.000000        NaN  0.00000\n",
              "98        0.98    0    0  246  645  0.00000  0.000000        NaN  0.00000\n",
              "99        0.99    0    0  246  645  0.00000  0.000000        NaN  0.00000\n",
              "100       1.00    0    0  246  645  0.00000  0.000000        NaN  0.00000\n",
              "\n",
              "[101 rows x 9 columns]"
            ]
          },
          "metadata": {},
          "execution_count": 600
        }
      ]
    },
    {
      "cell_type": "code",
      "metadata": {
        "colab": {
          "base_uri": "https://localhost:8080/",
          "height": 296
        },
        "id": "HaxbUjxg7m91",
        "outputId": "60ef0f54-b076-45f9-ab2e-b078465a1b1a"
      },
      "source": [
        "plt.plot(df_scores.threshold, df_scores['precision'], label='Precision')\n",
        "plt.plot(df_scores.threshold, df_scores['recall'], label='Recall')\n",
        "plt.xlabel('decision thresholds')\n",
        "plt.ylabel('scores')\n",
        "plt.legend()"
      ],
      "execution_count": 601,
      "outputs": [
        {
          "output_type": "execute_result",
          "data": {
            "text/plain": [
              "<matplotlib.legend.Legend at 0x7fbe24a316d0>"
            ]
          },
          "metadata": {},
          "execution_count": 601
        },
        {
          "output_type": "display_data",
          "data": {
            "image/png": "[encoded data removed]",
            "text/plain": [
              "<Figure size 432x288 with 1 Axes>"
            ]
          },
          "metadata": {
            "needs_background": "light"
          }
        }
      ]
    },
    {
      "cell_type": "markdown",
      "metadata": {
        "id": "pswLmV4Ug893"
      },
      "source": [
        "At which threshold precision and recall curves intersect?\n",
        "\n",
        "* 0.2\n",
        "* 0.4\n",
        "* 0.6\n",
        "* 0.8"
      ]
    },
    {
      "cell_type": "markdown",
      "metadata": {
        "id": "6nYbuA4B92M-"
      },
      "source": [
        "**Answer 3: Precision and Recall curves intersect at threshold 0.4**"
      ]
    },
    {
      "cell_type": "markdown",
      "metadata": {
        "id": "62QRezaag893"
      },
      "source": [
        "## Question 4\n",
        "\n",
        "Precision and recall are conflicting - when one grows, the other goes down. That's why they are often combined into the F1 score - a metrics that takes into account both.\n",
        "\n",
        "This is the formula for computing F1:\n",
        "\n",
        "$$F_1 = 2 \\cdot \\cfrac{P \\cdot R}{P + R}$$\n",
        "\n",
        "Where $P$ is precision and $R$ is recall.\n",
        "\n",
        "Let's compute F1 for all thresholds from 0.0 to 1.0 with increment 0.01"
      ]
    },
    {
      "cell_type": "code",
      "metadata": {
        "id": "Bm0-zM5ig893",
        "colab": {
          "base_uri": "https://localhost:8080/",
          "height": 423
        },
        "outputId": "dd05a724-7c0e-4fd8-ebb0-30032f104a09"
      },
      "source": [
        "df_scores['f1_score'] = 2 * (df_scores.precision * df_scores.recall) / (df_scores.precision + df_scores.recall)\n",
        "\n",
        "df_scores"
      ],
      "execution_count": 602,
      "outputs": [
        {
          "output_type": "execute_result",
          "data": {
            "text/html": [
              "<div>\n",
              "<style scoped>\n",
              "    .dataframe tbody tr th:only-of-type {\n",
              "        vertical-align: middle;\n",
              "    }\n",
              "\n",
              "    .dataframe tbody tr th {\n",
              "        vertical-align: top;\n",
              "    }\n",
              "\n",
              "    .dataframe thead th {\n",
              "        text-align: right;\n",
              "    }\n",
              "</style>\n",
              "<table border=\"1\" class=\"dataframe\">\n",
              "  <thead>\n",
              "    <tr style=\"text-align: right;\">\n",
              "      <th></th>\n",
              "      <th>threshold</th>\n",
              "      <th>tp</th>\n",
              "      <th>fp</th>\n",
              "      <th>fn</th>\n",
              "      <th>tn</th>\n",
              "      <th>tpr</th>\n",
              "      <th>fpr</th>\n",
              "      <th>precision</th>\n",
              "      <th>recall</th>\n",
              "      <th>f1_score</th>\n",
              "    </tr>\n",
              "  </thead>\n",
              "  <tbody>\n",
              "    <tr>\n",
              "      <th>0</th>\n",
              "      <td>0.00</td>\n",
              "      <td>246</td>\n",
              "      <td>645</td>\n",
              "      <td>0</td>\n",
              "      <td>0</td>\n",
              "      <td>1.00000</td>\n",
              "      <td>1.000000</td>\n",
              "      <td>0.276094</td>\n",
              "      <td>1.00000</td>\n",
              "      <td>0.432718</td>\n",
              "    </tr>\n",
              "    <tr>\n",
              "      <th>1</th>\n",
              "      <td>0.01</td>\n",
              "      <td>246</td>\n",
              "      <td>635</td>\n",
              "      <td>0</td>\n",
              "      <td>10</td>\n",
              "      <td>1.00000</td>\n",
              "      <td>0.984496</td>\n",
              "      <td>0.279228</td>\n",
              "      <td>1.00000</td>\n",
              "      <td>0.436557</td>\n",
              "    </tr>\n",
              "    <tr>\n",
              "      <th>2</th>\n",
              "      <td>0.02</td>\n",
              "      <td>244</td>\n",
              "      <td>613</td>\n",
              "      <td>2</td>\n",
              "      <td>32</td>\n",
              "      <td>0.99187</td>\n",
              "      <td>0.950388</td>\n",
              "      <td>0.284714</td>\n",
              "      <td>0.99187</td>\n",
              "      <td>0.442430</td>\n",
              "    </tr>\n",
              "    <tr>\n",
              "      <th>3</th>\n",
              "      <td>0.03</td>\n",
              "      <td>242</td>\n",
              "      <td>593</td>\n",
              "      <td>4</td>\n",
              "      <td>52</td>\n",
              "      <td>0.98374</td>\n",
              "      <td>0.919380</td>\n",
              "      <td>0.289820</td>\n",
              "      <td>0.98374</td>\n",
              "      <td>0.447734</td>\n",
              "    </tr>\n",
              "    <tr>\n",
              "      <th>4</th>\n",
              "      <td>0.04</td>\n",
              "      <td>242</td>\n",
              "      <td>563</td>\n",
              "      <td>4</td>\n",
              "      <td>82</td>\n",
              "      <td>0.98374</td>\n",
              "      <td>0.872868</td>\n",
              "      <td>0.300621</td>\n",
              "      <td>0.98374</td>\n",
              "      <td>0.460514</td>\n",
              "    </tr>\n",
              "    <tr>\n",
              "      <th>...</th>\n",
              "      <td>...</td>\n",
              "      <td>...</td>\n",
              "      <td>...</td>\n",
              "      <td>...</td>\n",
              "      <td>...</td>\n",
              "      <td>...</td>\n",
              "      <td>...</td>\n",
              "      <td>...</td>\n",
              "      <td>...</td>\n",
              "      <td>...</td>\n",
              "    </tr>\n",
              "    <tr>\n",
              "      <th>96</th>\n",
              "      <td>0.96</td>\n",
              "      <td>0</td>\n",
              "      <td>0</td>\n",
              "      <td>246</td>\n",
              "      <td>645</td>\n",
              "      <td>0.00000</td>\n",
              "      <td>0.000000</td>\n",
              "      <td>NaN</td>\n",
              "      <td>0.00000</td>\n",
              "      <td>NaN</td>\n",
              "    </tr>\n",
              "    <tr>\n",
              "      <th>97</th>\n",
              "      <td>0.97</td>\n",
              "      <td>0</td>\n",
              "      <td>0</td>\n",
              "      <td>246</td>\n",
              "      <td>645</td>\n",
              "      <td>0.00000</td>\n",
              "      <td>0.000000</td>\n",
              "      <td>NaN</td>\n",
              "      <td>0.00000</td>\n",
              "      <td>NaN</td>\n",
              "    </tr>\n",
              "    <tr>\n",
              "      <th>98</th>\n",
              "      <td>0.98</td>\n",
              "      <td>0</td>\n",
              "      <td>0</td>\n",
              "      <td>246</td>\n",
              "      <td>645</td>\n",
              "      <td>0.00000</td>\n",
              "      <td>0.000000</td>\n",
              "      <td>NaN</td>\n",
              "      <td>0.00000</td>\n",
              "      <td>NaN</td>\n",
              "    </tr>\n",
              "    <tr>\n",
              "      <th>99</th>\n",
              "      <td>0.99</td>\n",
              "      <td>0</td>\n",
              "      <td>0</td>\n",
              "      <td>246</td>\n",
              "      <td>645</td>\n",
              "      <td>0.00000</td>\n",
              "      <td>0.000000</td>\n",
              "      <td>NaN</td>\n",
              "      <td>0.00000</td>\n",
              "      <td>NaN</td>\n",
              "    </tr>\n",
              "    <tr>\n",
              "      <th>100</th>\n",
              "      <td>1.00</td>\n",
              "      <td>0</td>\n",
              "      <td>0</td>\n",
              "      <td>246</td>\n",
              "      <td>645</td>\n",
              "      <td>0.00000</td>\n",
              "      <td>0.000000</td>\n",
              "      <td>NaN</td>\n",
              "      <td>0.00000</td>\n",
              "      <td>NaN</td>\n",
              "    </tr>\n",
              "  </tbody>\n",
              "</table>\n",
              "<p>101 rows × 10 columns</p>\n",
              "</div>"
            ],
            "text/plain": [
              "     threshold   tp   fp   fn  ...       fpr  precision   recall  f1_score\n",
              "0         0.00  246  645    0  ...  1.000000   0.276094  1.00000  0.432718\n",
              "1         0.01  246  635    0  ...  0.984496   0.279228  1.00000  0.436557\n",
              "2         0.02  244  613    2  ...  0.950388   0.284714  0.99187  0.442430\n",
              "3         0.03  242  593    4  ...  0.919380   0.289820  0.98374  0.447734\n",
              "4         0.04  242  563    4  ...  0.872868   0.300621  0.98374  0.460514\n",
              "..         ...  ...  ...  ...  ...       ...        ...      ...       ...\n",
              "96        0.96    0    0  246  ...  0.000000        NaN  0.00000       NaN\n",
              "97        0.97    0    0  246  ...  0.000000        NaN  0.00000       NaN\n",
              "98        0.98    0    0  246  ...  0.000000        NaN  0.00000       NaN\n",
              "99        0.99    0    0  246  ...  0.000000        NaN  0.00000       NaN\n",
              "100       1.00    0    0  246  ...  0.000000        NaN  0.00000       NaN\n",
              "\n",
              "[101 rows x 10 columns]"
            ]
          },
          "metadata": {},
          "execution_count": 602
        }
      ]
    },
    {
      "cell_type": "markdown",
      "metadata": {
        "id": "wAAq3tKpGVBL"
      },
      "source": [
        "At which threshold F1 is maximal?\n",
        "\n",
        "- 0.1\n",
        "- 0.3\n",
        "- 0.5\n",
        "- 0.7"
      ]
    },
    {
      "cell_type": "code",
      "metadata": {
        "colab": {
          "base_uri": "https://localhost:8080/",
          "height": 423
        },
        "id": "6TTc83EVBp2U",
        "outputId": "e6b67f77-48f5-49db-cc22-e55c872a6260"
      },
      "source": [
        "df_scores.sort_values('f1_score', ascending=False)"
      ],
      "execution_count": 603,
      "outputs": [
        {
          "output_type": "execute_result",
          "data": {
            "text/html": [
              "<div>\n",
              "<style scoped>\n",
              "    .dataframe tbody tr th:only-of-type {\n",
              "        vertical-align: middle;\n",
              "    }\n",
              "\n",
              "    .dataframe tbody tr th {\n",
              "        vertical-align: top;\n",
              "    }\n",
              "\n",
              "    .dataframe thead th {\n",
              "        text-align: right;\n",
              "    }\n",
              "</style>\n",
              "<table border=\"1\" class=\"dataframe\">\n",
              "  <thead>\n",
              "    <tr style=\"text-align: right;\">\n",
              "      <th></th>\n",
              "      <th>threshold</th>\n",
              "      <th>tp</th>\n",
              "      <th>fp</th>\n",
              "      <th>fn</th>\n",
              "      <th>tn</th>\n",
              "      <th>tpr</th>\n",
              "      <th>fpr</th>\n",
              "      <th>precision</th>\n",
              "      <th>recall</th>\n",
              "      <th>f1_score</th>\n",
              "    </tr>\n",
              "  </thead>\n",
              "  <tbody>\n",
              "    <tr>\n",
              "      <th>30</th>\n",
              "      <td>0.30</td>\n",
              "      <td>187</td>\n",
              "      <td>162</td>\n",
              "      <td>59</td>\n",
              "      <td>483</td>\n",
              "      <td>0.760163</td>\n",
              "      <td>0.251163</td>\n",
              "      <td>0.535817</td>\n",
              "      <td>0.760163</td>\n",
              "      <td>0.628571</td>\n",
              "    </tr>\n",
              "    <tr>\n",
              "      <th>31</th>\n",
              "      <td>0.31</td>\n",
              "      <td>184</td>\n",
              "      <td>156</td>\n",
              "      <td>62</td>\n",
              "      <td>489</td>\n",
              "      <td>0.747967</td>\n",
              "      <td>0.241860</td>\n",
              "      <td>0.541176</td>\n",
              "      <td>0.747967</td>\n",
              "      <td>0.627986</td>\n",
              "    </tr>\n",
              "    <tr>\n",
              "      <th>32</th>\n",
              "      <td>0.32</td>\n",
              "      <td>181</td>\n",
              "      <td>150</td>\n",
              "      <td>65</td>\n",
              "      <td>495</td>\n",
              "      <td>0.735772</td>\n",
              "      <td>0.232558</td>\n",
              "      <td>0.546828</td>\n",
              "      <td>0.735772</td>\n",
              "      <td>0.627383</td>\n",
              "    </tr>\n",
              "    <tr>\n",
              "      <th>34</th>\n",
              "      <td>0.34</td>\n",
              "      <td>172</td>\n",
              "      <td>135</td>\n",
              "      <td>74</td>\n",
              "      <td>510</td>\n",
              "      <td>0.699187</td>\n",
              "      <td>0.209302</td>\n",
              "      <td>0.560261</td>\n",
              "      <td>0.699187</td>\n",
              "      <td>0.622061</td>\n",
              "    </tr>\n",
              "    <tr>\n",
              "      <th>33</th>\n",
              "      <td>0.33</td>\n",
              "      <td>176</td>\n",
              "      <td>144</td>\n",
              "      <td>70</td>\n",
              "      <td>501</td>\n",
              "      <td>0.715447</td>\n",
              "      <td>0.223256</td>\n",
              "      <td>0.550000</td>\n",
              "      <td>0.715447</td>\n",
              "      <td>0.621908</td>\n",
              "    </tr>\n",
              "    <tr>\n",
              "      <th>...</th>\n",
              "      <td>...</td>\n",
              "      <td>...</td>\n",
              "      <td>...</td>\n",
              "      <td>...</td>\n",
              "      <td>...</td>\n",
              "      <td>...</td>\n",
              "      <td>...</td>\n",
              "      <td>...</td>\n",
              "      <td>...</td>\n",
              "      <td>...</td>\n",
              "    </tr>\n",
              "    <tr>\n",
              "      <th>96</th>\n",
              "      <td>0.96</td>\n",
              "      <td>0</td>\n",
              "      <td>0</td>\n",
              "      <td>246</td>\n",
              "      <td>645</td>\n",
              "      <td>0.000000</td>\n",
              "      <td>0.000000</td>\n",
              "      <td>NaN</td>\n",
              "      <td>0.000000</td>\n",
              "      <td>NaN</td>\n",
              "    </tr>\n",
              "    <tr>\n",
              "      <th>97</th>\n",
              "      <td>0.97</td>\n",
              "      <td>0</td>\n",
              "      <td>0</td>\n",
              "      <td>246</td>\n",
              "      <td>645</td>\n",
              "      <td>0.000000</td>\n",
              "      <td>0.000000</td>\n",
              "      <td>NaN</td>\n",
              "      <td>0.000000</td>\n",
              "      <td>NaN</td>\n",
              "    </tr>\n",
              "    <tr>\n",
              "      <th>98</th>\n",
              "      <td>0.98</td>\n",
              "      <td>0</td>\n",
              "      <td>0</td>\n",
              "      <td>246</td>\n",
              "      <td>645</td>\n",
              "      <td>0.000000</td>\n",
              "      <td>0.000000</td>\n",
              "      <td>NaN</td>\n",
              "      <td>0.000000</td>\n",
              "      <td>NaN</td>\n",
              "    </tr>\n",
              "    <tr>\n",
              "      <th>99</th>\n",
              "      <td>0.99</td>\n",
              "      <td>0</td>\n",
              "      <td>0</td>\n",
              "      <td>246</td>\n",
              "      <td>645</td>\n",
              "      <td>0.000000</td>\n",
              "      <td>0.000000</td>\n",
              "      <td>NaN</td>\n",
              "      <td>0.000000</td>\n",
              "      <td>NaN</td>\n",
              "    </tr>\n",
              "    <tr>\n",
              "      <th>100</th>\n",
              "      <td>1.00</td>\n",
              "      <td>0</td>\n",
              "      <td>0</td>\n",
              "      <td>246</td>\n",
              "      <td>645</td>\n",
              "      <td>0.000000</td>\n",
              "      <td>0.000000</td>\n",
              "      <td>NaN</td>\n",
              "      <td>0.000000</td>\n",
              "      <td>NaN</td>\n",
              "    </tr>\n",
              "  </tbody>\n",
              "</table>\n",
              "<p>101 rows × 10 columns</p>\n",
              "</div>"
            ],
            "text/plain": [
              "     threshold   tp   fp   fn  ...       fpr  precision    recall  f1_score\n",
              "30        0.30  187  162   59  ...  0.251163   0.535817  0.760163  0.628571\n",
              "31        0.31  184  156   62  ...  0.241860   0.541176  0.747967  0.627986\n",
              "32        0.32  181  150   65  ...  0.232558   0.546828  0.735772  0.627383\n",
              "34        0.34  172  135   74  ...  0.209302   0.560261  0.699187  0.622061\n",
              "33        0.33  176  144   70  ...  0.223256   0.550000  0.715447  0.621908\n",
              "..         ...  ...  ...  ...  ...       ...        ...       ...       ...\n",
              "96        0.96    0    0  246  ...  0.000000        NaN  0.000000       NaN\n",
              "97        0.97    0    0  246  ...  0.000000        NaN  0.000000       NaN\n",
              "98        0.98    0    0  246  ...  0.000000        NaN  0.000000       NaN\n",
              "99        0.99    0    0  246  ...  0.000000        NaN  0.000000       NaN\n",
              "100       1.00    0    0  246  ...  0.000000        NaN  0.000000       NaN\n",
              "\n",
              "[101 rows x 10 columns]"
            ]
          },
          "metadata": {},
          "execution_count": 603
        }
      ]
    },
    {
      "cell_type": "markdown",
      "metadata": {
        "id": "BCWoX6xYDNfm"
      },
      "source": [
        "**Answer 4: The maximal F1 Score occurs at a threshold of 0.3**"
      ]
    },
    {
      "cell_type": "markdown",
      "metadata": {
        "id": "r7fJ3Xswg894"
      },
      "source": [
        "## Question 5\n",
        "\n",
        "\n",
        "Use the `KFold` class from Scikit-Learn to evaluate our model on 5 different folds:\n",
        "\n",
        "```\n",
        "KFold(n_splits=5, shuffle=True, random_state=1)\n",
        "```\n",
        "\n",
        "* Iterate over different folds of `df_full_train`\n",
        "* Split the data into train and validation\n",
        "* Train the model on train with these parameters: `LogisticRegression(solver='liblinear', C=1.0, max_iter=1000)`\n",
        "* Use AUC to evaluate the model on validation\n"
      ]
    },
    {
      "cell_type": "markdown",
      "metadata": {
        "id": "_MJfnuX_H5za"
      },
      "source": [
        "K-fold cross validation means we split the entire dataset into K equal parts or folds. Then, for each fold, we take it as the validation dataset and use the remaining K–1 folds as the training data. After training the model we evaluate it on the validation fold, and at the end we get K metric values.\n",
        "\n",
        "We then compute the mean and standard deviations of the K validation AUC scores to see the average performance and how stable the model is.\n",
        "\n",
        "To do this, we first define a train function to prepare our data and train the model. Then we define another function to predict the probabilities."
      ]
    },
    {
      "cell_type": "code",
      "metadata": {
        "colab": {
          "base_uri": "https://localhost:8080/"
        },
        "id": "2jFDqCJ8MuAy",
        "outputId": "4c0f56f9-6062-41a6-d747-693c82fef147"
      },
      "source": [
        "len(df_full_train), len(df_val)"
      ],
      "execution_count": 604,
      "outputs": [
        {
          "output_type": "execute_result",
          "data": {
            "text/plain": [
              "(3563, 891)"
            ]
          },
          "metadata": {},
          "execution_count": 604
        }
      ]
    },
    {
      "cell_type": "code",
      "metadata": {
        "id": "85StBUnfg4zQ"
      },
      "source": [
        "categorical = list(df_train.dtypes[df_train.dtypes == 'object'].index)\n",
        "numerical = list(df_train.dtypes[df_train.dtypes != 'object'].index)"
      ],
      "execution_count": 605,
      "outputs": []
    },
    {
      "cell_type": "code",
      "metadata": {
        "id": "Z60YqFZVID3Z"
      },
      "source": [
        "def train(df_train, y_train, C=1.0):\n",
        "  \n",
        "  dicts = df_train[categorical + numerical].to_dict(orient='records')\n",
        "\n",
        "  dv = DictVectorizer(sparse=False)\n",
        "  X_train = dv.fit_transform(dicts)\n",
        "\n",
        "  model = LogisticRegression(solver='liblinear', C=C, max_iter=1000)\n",
        "  model.fit(X_train, y_train)\n",
        "    \n",
        "  return dv, model"
      ],
      "execution_count": 606,
      "outputs": []
    },
    {
      "cell_type": "code",
      "metadata": {
        "id": "DLlkfgUOI0S2"
      },
      "source": [
        "def predict(df, dv, model):\n",
        "    dicts = df[categorical + numerical].to_dict(orient='records')\n",
        "\n",
        "    X = dv.transform(dicts)\n",
        "    y_pred = model.predict_proba(X)[:, 1]\n",
        "\n",
        "    return y_pred"
      ],
      "execution_count": 607,
      "outputs": []
    },
    {
      "cell_type": "markdown",
      "metadata": {
        "id": "-WKN0UPJ_mlm"
      },
      "source": [
        "- We will implement the K-fold cross validation using KFold function of the model_selection package in Scikit_learn"
      ]
    },
    {
      "cell_type": "code",
      "metadata": {
        "id": "pigMv7Q6_xrL"
      },
      "source": [
        "from sklearn.model_selection import KFold\n",
        "\n",
        "from tqdm.auto import tqdm"
      ],
      "execution_count": 608,
      "outputs": []
    },
    {
      "cell_type": "code",
      "metadata": {
        "id": "BIx-7p9OiErP"
      },
      "source": [
        "n_splits = 5\n",
        "\n",
        "kfold = KFold(n_splits=n_splits, shuffle=True, random_state=1)\n",
        "\n",
        "scores = []\n",
        "\n",
        "for train_idx, val_idx in kfold.split(df_full_train):\n",
        "    df_train = df_full_train.iloc[train_idx]\n",
        "    df_val = df_full_train.iloc[val_idx]\n",
        "    \n",
        "    y_train = df_train.default.values\n",
        "    y_val = df_val.default.values\n",
        "    \n",
        "    dv, model = train(df_train, y_train)\n",
        "    y_pred = predict(df_val, dv, model)\n",
        "    \n",
        "    auc = roc_auc_score(y_val, y_pred)\n",
        "    scores.append(auc)"
      ],
      "execution_count": 609,
      "outputs": []
    },
    {
      "cell_type": "code",
      "metadata": {
        "colab": {
          "base_uri": "https://localhost:8080/"
        },
        "id": "Ndko9x8phW6e",
        "outputId": "0de75d2d-a792-482f-f3f8-36f50dc0a3f5"
      },
      "source": [
        "round(np.mean(scores),3), round(np.std(scores),3)"
      ],
      "execution_count": 610,
      "outputs": [
        {
          "output_type": "execute_result",
          "data": {
            "text/plain": [
              "(0.812, 0.014)"
            ]
          },
          "metadata": {},
          "execution_count": 610
        }
      ]
    },
    {
      "cell_type": "code",
      "metadata": {
        "colab": {
          "base_uri": "https://localhost:8080/"
        },
        "id": "VXtLSWHvlqPh",
        "outputId": "98d55bcc-a667-423f-9856-d5bf53fe83f3"
      },
      "source": [
        "print('Mean AUC is {0}.'.format(np.mean(scores).round(3)))\n",
        "print('Standard deviation of AUCs is {0}.'.format(np.std(scores).round(3)))"
      ],
      "execution_count": 611,
      "outputs": [
        {
          "output_type": "stream",
          "name": "stdout",
          "text": [
            "Mean AUC is 0.812.\n",
            "Standard deviation of AUCs is 0.014.\n"
          ]
        }
      ]
    },
    {
      "cell_type": "markdown",
      "metadata": {
        "id": "8CdPA-tzg894"
      },
      "source": [
        "How large is standard devidation of the scores across different folds?\n",
        "\n",
        "- 0.001\n",
        "- 0.014\n",
        "- 0.09\n",
        "- 0.14"
      ]
    },
    {
      "cell_type": "markdown",
      "metadata": {
        "id": "LHXxoPJv_3iz"
      },
      "source": [
        "**Answer 5: The standard devidation of the scores across different folds is 0.014.**"
      ]
    },
    {
      "cell_type": "markdown",
      "metadata": {
        "id": "6_YjavG3g895"
      },
      "source": [
        "## Question 6\n",
        "\n",
        "Now let's use 5-Fold cross-validation to find the best parameter C\n",
        "\n",
        "* Iterate over the following C values: `[0.01, 0.1, 1, 10]`\n",
        "* Initialize `KFold` with the same parameters as previously\n",
        "* Use these parametes for the model: `LogisticRegression(solver='liblinear', C=C, max_iter=1000)`\n",
        "* Compute the mean score as well as the std (round the mean and std to 3 decimal digits)"
      ]
    },
    {
      "cell_type": "code",
      "metadata": {
        "id": "FFpKYF9Ng895",
        "colab": {
          "base_uri": "https://localhost:8080/",
          "height": 118,
          "referenced_widgets": [
            "6b963a7a59a145e883511a7ecbc18573",
            "7d22d529942f415297d56440dc2064e9",
            "7749c18ff5614fff91ccdcea1d88b2cc",
            "40bf011938ba49f386a7625ea2526a77",
            "1d72b10c69e44020bc4825ab29a840a4",
            "56d605d30d4f494d9c71f4667686525d",
            "6b7ac7c2c77946baa1b02d1f0080ad98",
            "0b9ee8dc5d344ed69dc4762010d0837f",
            "abdd1263725f426688af2ccac9cfb147",
            "ba19364d68944e819d69da3eb6a482a8",
            "b4bfc0ba123f480b82e6a499a1555435"
          ]
        },
        "outputId": "b991cab5-c9a2-4c98-dfef-bae84738f573"
      },
      "source": [
        "n_splits = 5\n",
        "\n",
        "for C in tqdm([0.01, 0.1, 1, 10]):\n",
        "    \n",
        "    kfold = KFold(n_splits=n_splits, shuffle=True, random_state=1)\n",
        "\n",
        "    scores = []\n",
        "\n",
        "    for train_idx, val_idx in kfold.split(df_full_train):\n",
        "        df_train = df_full_train.iloc[train_idx]\n",
        "        df_val = df_full_train.iloc[val_idx]\n",
        "\n",
        "        y_train = df_train.default.values\n",
        "        y_val = df_val.default.values\n",
        "\n",
        "        dv, model = train(df_train, y_train, C=C)\n",
        "        y_pred = predict(df_val, dv, model)\n",
        "\n",
        "        auc = roc_auc_score(y_val, y_pred)\n",
        "        scores.append(auc)\n",
        "\n",
        "    print('C=%s %.3f +- %.3f' % (C, np.mean(scores), np.std(scores)))"
      ],
      "execution_count": 612,
      "outputs": [
        {
          "output_type": "display_data",
          "data": {
            "application/vnd.jupyter.widget-view+json": {
              "model_id": "6b963a7a59a145e883511a7ecbc18573",
              "version_minor": 0,
              "version_major": 2
            },
            "text/plain": [
              "  0%|          | 0/4 [00:00<?, ?it/s]"
            ]
          },
          "metadata": {}
        },
        {
          "output_type": "stream",
          "name": "stdout",
          "text": [
            "C=0.01 0.808 +- 0.012\n",
            "C=0.1 0.813 +- 0.014\n",
            "C=1 0.812 +- 0.014\n",
            "C=10 0.814 +- 0.015\n"
          ]
        }
      ]
    },
    {
      "cell_type": "markdown",
      "metadata": {
        "id": "XNwyqJ52g895"
      },
      "source": [
        "Which C leads to the best mean score?\n",
        "\n",
        "- 0.01\n",
        "- 0.1\n",
        "- 1\n",
        "- 10\n",
        "\n"
      ]
    },
    {
      "cell_type": "markdown",
      "metadata": {
        "id": "H6DTOEUkrADi"
      },
      "source": [
        "**Answer 6. Regularization parameter C = 10 produces the highest mean AUC score of 0.814.**\n",
        "\n",
        "We note that this mean AUC is close to the 0.812 we found earlier for our model on the validation set."
      ]
    }
  ]
}